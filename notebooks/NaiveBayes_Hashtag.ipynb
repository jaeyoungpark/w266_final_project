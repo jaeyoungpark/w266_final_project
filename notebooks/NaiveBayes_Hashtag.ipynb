{
 "cells": [
  {
   "cell_type": "code",
   "execution_count": 2,
   "metadata": {},
   "outputs": [],
   "source": [
    "from __future__ import print_function\n",
    "from __future__ import division\n",
    "import collections\n",
    "import nltk\n",
    "import numpy as np\n",
    "from nltk.tokenize.casual import TweetTokenizer\n",
    "import sys;\n",
    "sys.path.insert(0, '../code')\n",
    "from w266_common import utils, vocabulary\n",
    "import re\n",
    "np.random.seed(266)"
   ]
  },
  {
   "cell_type": "code",
   "execution_count": 3,
   "metadata": {},
   "outputs": [],
   "source": [
    "import csv\n",
    "tokenizer = TweetTokenizer()\n",
    "x_data = []\n",
    "labels = []\n",
    "sentences = []\n",
    "     \n",
    "  \n",
    "with open('../data/merged_data_v3.csv', 'r') as csvfile:\n",
    "    linereader = csv.reader(csvfile, delimiter = '|')\n",
    "    for i, row in enumerate(linereader):\n",
    "        if i == 0:\n",
    "            continue\n",
    "        sentence, _, sarcasm = row\n",
    "        sentence = re.sub(\"RT @[^\\s]+:\", \"retweet\", sentence)\n",
    "        #sentences.append(sentence)\n",
    "        tokenized_words = tokenizer.tokenize(sentence)\n",
    "        x_tokens = utils.canonicalize_words(tokenized_words, hashtags =False)\n",
    "        index = np.argwhere(x_tokens==\"sarcasm\")\n",
    "        x_tokens = np.delete(x_tokens, index)\n",
    "        index = np.argwhere(x_tokens==\"sarcastic\")\n",
    "        x_tokens = np.delete(x_tokens, index)\n",
    "        x_data.append(x_tokens)\n",
    "        labels.append(int(sarcasm))\n",
    "\n",
    "\n",
    "shuffle_indices = np.random.permutation(np.arange(len(labels)))\n",
    "train_split_idx = int(0.7 * len(labels))\n",
    "test_split_idx  = int(0.9 * len(labels))\n",
    "\n",
    "train_indices = shuffle_indices[:train_split_idx]\n",
    "validation_indices = shuffle_indices[train_split_idx:test_split_idx]\n",
    "test_indices = shuffle_indices[test_split_idx:]\n",
    "\n",
    "x_data = np.array(x_data)\n",
    "labels = np.array(labels)\n",
    "train_sentences = x_data[train_indices]\n",
    "train_labels= labels[train_indices] \n",
    "validation_sentences = x_data[validation_indices]\n",
    "validation_labels = labels[validation_indices]\n",
    "test_sentences = x_data[test_indices]  \n",
    "test_labels = labels[test_indices]  \n",
    "\n"
   ]
  },
  {
   "cell_type": "code",
   "execution_count": 4,
   "metadata": {},
   "outputs": [
    {
     "name": "stdout",
     "output_type": "stream",
     "text": [
      "x_ids = {'<s>': 0, '</s>': 1, '<unk>': 2, 'ACCOUNT': 3, 'LINK': 4, '.': 5, 'the': 6, 'to': 7, ',': 8, 'retweet': 9, '!': 10, 'a': 11, '…': 12, 'of': 13, 'and': 14, 'is': 15, 'you': 16, 'in': 17, '?': 18, 'i': 19, 'for': 20, '-': 21, ':': 22, '...': 23, 'on': 24, '’': 25, 'this': 26, 'that': 27, 'it': 28, 'with': 29, 'DG': 30, 'be': 31, 'your': 32, 'DGDG': 33, 'my': 34, 'are': 35, 'we': 36, '&': 37, 'at': 38, 'all': 39, 'have': 40, ')': 41, 'so': 42, 'can': 43, '(': 44, 'not': 45, '️': 46, 's': 47, 'into': 48, 'rt': 49, '/': 50, 'just': 51, 'now': 52, 'guy': 53, 'no': 54, 'what': 55, '#maga': 56, 'out': 57, 'was': 58, 'our': 59, 'me': 60, 'from': 61, 'like': 62, 'by': 63, 'they': 64, 'will': 65, 'how': 66, 'happen': 67, 'but': 68, 'if': 69, 'believes': 70, 'couldnt': 71, 'straight': 72, 't': 73, 'nicer': 74, 'ex': 75, '#fbi': 76, 'walking': 77, '#fbicorruption': 78, 'agent': 79, '#comey': 80, 'free': 81, 'its': 82, '#': 83, 'about': 84, 'get': 85, 'do': 86, 'more': 87, 'as': 88, 'people': 89, '😂': 90, 'his': 91, 'up': 92, '$': 93, 'who': 94, 'DGDGDG': 95, '#funny': 96, 'DGDGDGDG': 97, 'an': 98, 'he': 99, '#blockchain': 100, 'one': 101, 'us': 102, 'has': 103, 'or': 104, 'when': 105, 'here': 106, 'im': 107, 'new': 108, 'time': 109, 'good': 110, 'follow': 111, 'great': 112, 'best': 113, 'know': 114, 'their': 115, 'oh': 116, 'really': 117, '#bitcoin': 118, 'via': 119, 'should': 120, '🔥': 121, 'why': 122, 'only': 123, 'see': 124, '#music': 125, 'because': 126, 'make': 127, 'right': 128, 'dont': 129, '*': 130, 'there': 131, 'day': 132, 'love': 133, 'would': 134, ':/': 135, '#win': 136, 'today': 137, 'well': 138, 'am': 139, 'please': 140, 'been': 141, 'way': 142, 'think': 143, 'sure': 144, '↴': 145, 'want': 146, 'need': 147, 'thats': 148, '#news': 149, 'than': 150, 'some': 151, 'them': 152, '“': 153, 'check': 154, '..': 155, 'being': 156, 'were': 157, 'most': 158, 'thanks': 159, 'm': 160, 'go': 161, '#lol': 162, 'had': 163, 'march': 164, '#job': 165, '”': 166, 'after': 167, '#giveaway': 168, 'don': 169, 'work': 170, 'quotes': 171, 'over': 172, 'win': 173, 'world': 174, 'never': 175, '⭐': 176, 'back': 177, 'her': 178, 'say': 179, 'hey': 180, 'those': 181, 'going': 182, '%': 183, 'first': 184, 'news': 185, 'enter': 186, 'said': 187, '🤣': 188, '#fashion': 189, 'didnt': 190, 'look': 191, 'game': 192, 'these': 193, 'left': 194, '#cryptocurrency': 195, 'give': 196, 'any': 197, '#jokes': 198, 'too': 199, '#health': 200, 'gun': 201, 'did': 202, 'online': 203, 'join': 204, '#humor': 205, 'yes': 206, 'let': 207, '#love': 208, 'someone': 209, 'she': 210, 'very': 211, 'off': 212, 'life': 213, 'other': 214, 'then': 215, '#hiring': 216, 'live': 217, 'must': 218, 'much': 219, '#memes': 220, 'could': 221, 'again': 222, 'white': 223, 'person': 224, 'latest': 225, 'even': 226, '#puns': 227, 'ask': 228, 'mind': 229, '#ico': 230, 'trump': 231, 'something': 232, 'thank': 233, '🕰': 234, 'many': 235, 'hard': 236, 'another': 237, 'every': 238, 'got': 239, 'sex': 240, 'take': 241, '>': 242, '#business': 243, 'man': 244, 'always': 245, 'keep': 246, 'yeah': 247, '#photography': 248, 'david': 249, 'wow': 250, '#fun': 251, 're': 252, '🙄': 253, '#crypto': 254, '🎮': 255, 'without': 256, 'DGDGDGDGDG': 257, 'top': 258, 'fan': 259, '@': 260, 'money': 261, 'better': 262, '💎': 263, 'last': 264, 'everyone': 265, '+': 266, '🖥': 267, 'ever': 268, 'worth': 269, 'sarcasm': 270, 'youre': 271, ']': 272, 'also': 273, '#tech': 274, 'thing': 275, 'community': 276, '[': 277, 'happy': 278, 'registration': 279, 'where': 280, 'team': 281, 'cant': 282, 'guns': 283, '#marchforourlives': 284, 'thought': 285, '£': 286, 'anyone': 287, 'chance': 288, 'real': 289, 'brexit': 290, '#fortnite': 291, 'job': 292, 'before': 293, '#socialmedia': 294, 'cams': 295, 'tokkens': 296, 'surprise': 297, 'next': 298, 'down': 299, 'lol': 300, 'years': 301, '#education': 302, 'games': 303, 'still': 304, 'come': 305, 'use': 306, 'giveaway': 307, 'd': 308, 'kids': 309, 'nothing': 310, 'read': 311, 'andrew': 312, 'changed': 313, 'days': 314, ';': 315, 'since': 316, 'history': 317, 'token': 318, 'mean': 319, '#tshirt': 320, 'school': 321, 'own': 322, 'little': 323, '#ethereum': 324, 'guys': 325, 'davis': 326, 'airdrop': 327, 'show': 328, 'help': 329, 'things': 330, '#competition': 331, 'start': 332, '#nra': 333, 'wait': 334, 'makes': 335, '#facebook': 336, 'him': 337, '#breaking': 338, 'doing': 339, 'lets': 340, 'https': 341, 'watch': 342, 'made': 343, '#blog': 344, 'marr': 345, 'blockchain': 346, 'tweet': 347, 'share': 348, 'twitter': 349, 'previ': 350, '#home': 351, 'bad': 352, 'does': 353, 'DG.DG': 354, 'important': 355, 'find': 356, 'friends': 357, 'nice': 358, 'looking': 359, 'daily': 360, 'glad': 361, '#school': 362, 'away': 363, 'long': 364, 'home': 365, '#luxury': 366, 'fun': 367, 'anything': 368, 'women': 369, 'facebook': 370, 'stop': 371, 'r': 372, 'crypto': 373, 'feel': 374, 'data': 375, 'post': 376, '#technology': 377, 'buy': 378, 'try': 379, 'business': 380, 'tell': 381, 'which': 382, 'both': 383, 'needs': 384, 'spring': 385, '#retweet': 386, '#careerarc': 387, 'few': 388, 'telegram': 389, '#life': 390, 'music': 391, 'open': 392, 'shocked': 393, '#style': 394, 'es': 395, 'once': 396, '#humour': 397, 'says': 398, '#btc': 399, 'year': 400, 'sale': 401, 'click': 402, 'using': 403, 'tag': 404, 'high': 405, 'morning': 406, 'season': 407, 'having': 408, 'run': 409, 'u': 410, '‘': 411, '#architecture': 412, 'face': 413, 'two': 414, '#kids': 415, '#elementary': 416, '❤': 417, 'definitely': 418, 'service': 419, 'through': 420, 'old': 421, '#prize': 422, 'coming': 423, 'add': 424, 'social': 425, 'market': 426, 'somebody': 427, 'change': 428, 'bring': 429, 'summer': 430, 'such': 431, 'around': 432, '#twitter': 433, '#nowplaying': 434, 'part': 435, 'big': 436, '#decoration': 437, 'seems': 438, '#robotics': 439, '#quotes': 440, 'media': 441, '#live': 442, 'actually': 443, 'same': 444, 'maybe': 445, 'may': 446, 'ico': 447, 'while': 448, 'arent': 449, 'form': 450, 'night': 451, 'during': 452, '\\u200d': 453, '#programming': 454, '~': 455, 'hilarious': 456, '#funnyquotes': 457, 'visit': 458, 'case': 459, 'making': 460, 'getting': 461, '#peace': 462, 'wrong': 463, '#interiordesign': 464, 'favorite': 465, '#marketing': 466, 'sunday': 467, 'learn': 468, 'call': 469, '#art': 470, '📢': 471, '#tron': 472, '#gaming': 473, 'official': 474, 'bonus': 475, 'soon': 476, 'forget': 477, 'isnt': 478, 'internet': 479, 'lowest': 480, '🏻': 481, 'intelligence': 482, 'everything': 483, 'support': 484, 'kind': 485, 'DGDGDGDGDGDG': 486, '✨': 487, 'hes': 488, 'book': 489, '#rock': 490, 'problem': 491, 'future': 492, 'finally': 493, 'funny': 494, 'welcome': 495, 'club': 496, '#wit': 497, '#nobel': 498, 'done': 499, 'working': 500, 'blog': 501, 'thinking': 502, 'children': 503, 'lot': 504, 'hours': 505, '#ai': 506, 'laws': 507, '#funnysayings': 508, '#cricket': 509, 'price': 510, 'DG.DGDG': 511, 'beautiful': 512, 'usa': 513, 'true': 514, 'men': 515, 'group': 516, 'million': 517, '👍': 518, 'video': 519, 'week': 520, '#startup': 521, 'super': 522, '#iot': 523, 'name': 524, 'believe': 525, 'house': 526, 'probably': 527, 'end': 528, 'company': 529, '#comedy': 530, 'available': 531, 'power': 532, 'didn': 533, 'illegal': 534, 'bitcoin': 535, '#cybersecurity': 536, 'between': 537, 'play': 538, 'least': 539, 'followers': 540, 'exchange': 541, 'htt': 542, 'e': 543, '#pop': 544, 'care': 545, 'gets': 546, 'perfect': 547, 'hour': 548, 'trading': 549, 'else': 550, 'link': 551, '#tokensale': 552, '😜': 553, 'playing': 554, 'whole': 555, 'human': 556, 'hate': 557, 'trying': 558, 'fake': 559, 'yet': 560, 'president': 561, 'sometimes': 562, 'uk': 563, '=': 564, 'giving': 565, 'boy': 566, 'hear': 567, 'camp': 568, 'single': 569, 'doesnt': 570, 'w': 571, 'project': 572, 'lives': 573, 'pay': 574, 'god': 575, 'plan': 576, 've': 577, '🤔': 578, 'friend': 579, 'safe': 580, ':)': 581, 'eth': 582, 'put': 583, 'words': 584, 'totally': 585, 'article': 586, 'remember': 587, '#wrestlemania': 588, 'hope': 589, '#airdrop': 590, '✔': 591, 'means': 592, 'ends': 593, '#eth': 594, '#ripple': 595, 'song': 596, 'franchise': 597, '#fintech': 598, 'full': 599, 'listen': 600, 'guess': 601, 'tonight': 602, 'though': 603, 'reason': 604, 'vs': 605, 'already': 606, 'isn': 607, 'winner': 608, 'national': 609, 'sorry': 610, 'rights': 611, 'users': 612, '#newmusic': 613, '#hot': 614, 'under': 615, '#followme': 616, 'goes': 617, 'l': 618, 'awesome': 619, 'each': 620, 'website': 621, 'DGDG.DGDG': 622, 'digital': 623, '🚀': 624, '🏼': 625, 'ok': 626, 'n': 627, 'shocking': 628, 'phone': 629, 'special': 630, 'might': 631, 'easter': 632, 'place': 633, 'vote': 634, 'international': 635, 'apply': 636, 'amazing': 637, 'event': 638, '#fitness': 639, '#modeling': 640, '#follow': 641, 'b': 642, '#security': 643, 'black': 644, 'joke': 645, 'forward': 646, 'wonder': 647, '#snarky': 648, '#rt': 649, 'shot': 650, 'credit': 651, 'ready': 652, 'proud': 653, 'country': 654, 'issue': 655, 'fans': 656, 'story': 657, 'horrible': 658, '#yankees': 659, 'earth': 660, 'gift': 661, 'question': 662, 'yourself': 663, 'running': 664, '#dance': 665, 'comes': 666, 'redbubble': 667, 'coin': 668, 'america': 669, 'weird': 670, '#science': 671, 'break': 672, 'view': 673, 'picture': 674, 'public': 675, 'poor': 676, 'simply': 677, '—': 678, 'young': 679, '#work': 680, 'move': 681, 'stem': 682, 'competition': 683, 'f': 684, 'used': 685, 'lovely': 686, 'australia': 687, 'talent': 688, 'excited': 689, '#history': 690, 'enjoy': 691, 'control': 692, 'popular': 693, 'told': 694, 'apparently': 695, 'c': 696, 'picks': 697, 'comment': 698, 'attack': 699, 'students': 700, 'dreams': 701, '#hiphop': 702, 'course': 703, 'understand': 704, 'largest': 705, 'account': 706, 'against': 707, 'easy': 708, 'DGDG/DG': 709, '😒': 710, 'food': 711, 'instead': 712, 'drink': 713, '#beauty': 714, 'opening': 715, 'shit': 716, 'platform': 717, 'address': 718, 'saying': 719, 'ive': 720, '#travel': 721, 'seen': 722, 'order': 723, 'bank': 724, 'cool': 725, '#reality': 726, 'total': 727, 'party': 728, 'create': 729, 'ceo': 730, 'american': 731, 'upon': 732, 'point': 733, 'points': 734, 'hashtag': 735, 'ice': 736, 'idea': 737, 'death': 738, 'talk': 739, 'following': 740, '#trx': 741, '#india': 742, 'lie': 743, 'recommend': 744, '1st': 745, 'fine': 746, '#oneliner': 747, 'myself': 748, 'royal': 749, 'brand': 750, 'april': 751, '😉': 752, 'pretty': 753, 'possible': 754, '#DGDGDG': 755, 'behind': 756, 'starting': 757, 'fair': 758, 'almost': 759, 'paying': 760, 'terrorist': 761, 'build': 762, 'art': 763, 'doesn': 764, 'DGDG/DGDG': 765, 'loving': 766, '➡': 767, '♀': 768, 'knows': 769, '#tips': 770, 'meet': 771, '#rap': 772, '#satoshi': 773, 'details': 774, 'fuck': 775, '#ausgp': 776, 'choice': 777, 'h': 778, 'kik': 779, 'list': 780, 'weeks': 781, 'security': 782, 'works': 783, 'failure': 784, 'breaking': 785, 'kill': 786, 'members': 787, 'successful': 788, 'enough': 789, 'cash': 790, 'violence': 791, 'smart': 792, '#food': 793, 'ill': 794, '#data': 795, 'police': 796, 'far': 797, 'marketing': 798, '#anime': 799, 'incredible': 800, '#linkinbio': 801, '#podcast': 802, 'sense': 803, '#jobs': 804, '💰': 805, 'second': 806, 'ban': 807, '#2a': 808, 'yay': 809, 'blue': 810, '🇺': 811, 'looks': 812, 'taking': 813, 'ya': 814, 'gonna': 815, 'sounds': 816, 'past': 817, 'supply': 818, '#sunday': 819, 'talking': 820, 'family': 821, '#airdropnew': 822, 'cricket': 823, 'fit': 824, '#notfeelingit': 825, '#next': 826, 'attention': 827, 'fund': 828, 'pick': 829, 'll': 830, 'gb': 831, 'blew': 832, '#pinstripepride': 833, 'miss': 834, 'girl': 835, '#twitch': 836, '🙌': 837, 'ball': 838, 'started': 839, 'sides': 840, 'tokens': 841, 'technology': 842, '#cute': 843, 'male': 844, 'based': 845, 'anymore': 846, 'sweet': 847, 'sign': 848, '#stemcamps': 849, 'european': 850, 'health': 851, '🇸': 852, 'industry': 853, '#breakingnews': 854, 'red': 855, '#nsfw': 856, 'united': 857, 'heart': 858, 'write': 859, '👇': 860, 'fast': 861, 'nra': 862, '😎': 863, 'announce': 864, '#politics': 865, 'ones': 866, 'speak': 867, 'nudes': 868, 'takes': 869, 'o': 870, '#usa': 871, '#iphone': 872, 'city': 873, 'americans': 874, 'helping': 875, 'league': 876, '#stanton': 877, 'bullpen': 878, 'DGDG:DGDG': 879, 'movie': 880, 'law': 881, 'save': 882, 'small': 883, 'tech': 884, 'wont': 885, 'mother': 886, 'war': 887, 'hands': 888, '#sex': 889, 'times': 890, 'called': 891, 'wall': 892, 'usd': 893, '#game': 894, 'smith': 895, 'level': 896, '#photos': 897, 'fee': 898, 'class': 899, 'happened': 900, '#bethereum': 901, 'dare': 902, 'commission': 903, 'dangerous': 904, '#stem': 905, 'cyber': 906, 'clearly': 907, 'five': 908, 'fire': 909, '#writer': 910, 'moment': 911, 'lead': 912, 'building': 913, 'banned': 914, 'forgot': 915, '#infosec': 916, 'birthday': 917, 'code': 918, 'friday': 919, 'luxuryliferss': 920, 'word': 921, 'three': 922, 'featuring': 923, '#itunes': 924, '#cloud': 925, 'fox': 926, 'theyre': 927, 'protect': 928, 'politicians': 929, 'main': 930, '<': 931, 'head': 932, 'matter': 933, '#spotify': 934, 'added': 935, 'able': 936, 'tax': 937, 'car': 938, 'network': 939, 'biggest': 940, 'prize': 941, '🎉': 942, 'classic': 943, '#jokeoftheday': 944, 'truth': 945, '#meme': 946, 'assault': 947, '#podernfamily': 948, '–': 949, 'seth': 950, 'system': 951, '😍': 952, 'ur': 953, 'state': 954, 'wants': 955, '#radio': 956, '#digital': 957, 'road': 958, 'wallet': 959, 'water': 960, 'humor': 961, 'evil': 962, 'items': 963, '#poshmark': 964, '#shopmycloset': 965, '🏆': 966, 'act': 967, 'experience': 968, 'pass': 969, 'bill': 970, 'photoshopped': 971, 'government': 972, 'y': 973, 'shooting': 974, '#irony': 975, 'month': 976, 'trade': 977, 'difference': 978, '#funquotes': 979, 'hit': 980, 'eat': 981, 'symbol': 982, 'weekend': 983, 'india': 984, 'states': 985, 'powell': 986, 'spin': 987, '#lmao': 988, 'fix': 989, 'drive': 990, '#earn_money': 991, 'campaign': 992, 'match': 993, 'spread': 994, '#like': 995, 'double': 996, 'id': 997, 'completely': 998, '#weekend': 999, '！': 1000, 'dream': 1001, '#free': 1002, 'v': 1003, '・': 1004, 'global': 1005, 'heres': 1006, 'youve': 1007, '#watch': 1008, 'imagine': 1009, '🙏': 1010, 'others': 1011, '#youtube': 1012, 'months': 1013, 'rich': 1014, 'congress': 1015, 'cold': 1016, 'lose': 1017, 'spent': 1018, 'theres': 1019, 'tomorrow': 1020, '#yoga': 1021, 'btc': 1022, 'offer': 1023, 'customer': 1024, 'rs': 1025, 'four': 1026, 'entered': 1027, 'risk': 1028, 'absolutely': 1029, '#realestate': 1030, '📸': 1031, 'wonderful': 1032, 'launch': 1033, '#follwme': 1034, 'knew': 1035, 'massive': 1036, 'worked': 1037, 'access': 1038, 'allowed': 1039, 'fucking': 1040, 'ht': 1041, 'england': 1042, 'arizona': 1043, 'feeling': 1044, '#np': 1045, 'huge': 1046, 'heard': 1047, 'wanted': 1048, 'step': 1049, '#gift': 1050, 'extra': 1051, 'steve': 1052, '#xbox': 1053, 'girls': 1054, 'schools': 1055, '😱': 1056, '👉': 1057, 'air': 1058, 'number': 1059, '🤦': 1060, 't-shirts': 1061, '3d': 1062, '#mobile': 1063, 'stock': 1064, '#cars': 1065, 'leave': 1066, 'turn': 1067, '#photo': 1068, '👏': 1069, 'along': 1070, 'set': 1071, 'partnership': 1072, 'below': 1073, 'instagram': 1074, '#quote': 1075, 'de': 1076, 'planned': 1077, 'trust': 1078, 'deal': 1079, 'found': 1080, 'luck': 1081, '#eos': 1082, 'different': 1083, 'cloth-stagram': 1084, 'exciting': 1085, 'gaming': 1086, 'obama': 1087, 'hits': 1088, 'todays': 1089, 'image': 1090, 'helped': 1091, 'sad': 1092, 'whats': 1093, 'physical': 1094, 'ideas': 1095, 'less': 1096, 'wouldnt': 1097, 'starts': 1098, 'went': 1099, 'truly': 1100, '#satire': 1101, 'living': 1102, 'g': 1103, 'information': 1104, 'groups': 1105, 'teacher': 1106, 'asking': 1107, 'normally': 1108, '#trum': 1109, 'room': 1110, 'update': 1111, 'expensive': 1112, 'watching': 1113, '#summercamp': 1114, 'review': 1115, 'bit': 1116, '):': 1117, '#morning': 1118, 'contest': 1119, 'safer': 1120, 'exactly': 1121, '♂': 1122, 'stuff': 1123, '✈': 1124, 'genius': 1125, 'idiots': 1126, '#party': 1127, '#author': 1128, 'issues': 1129, '#money': 1130, 'note': 1131, '🎁': 1132, 'front': 1133, '#people': 1134, 'player': 1135, 'hair': 1136, 'random': 1137, 'snow': 1138, 'sir': 1139, 'send': 1140, 'throw': 1141, 'surprised': 1142, 'sleeping': 1143, '#funwallart': 1144, 'either': 1145, '#agile': 1146, '#follome': 1147, '#blogginggals': 1148, 'inside': 1149, 'quite': 1150, 'sports': 1151, 'track': 1152, '#porn': 1153, '#sayings': 1154, 'size': 1155, 'getreallux': 1156, '#luxurycars': 1157, '#supercars': 1158, 'answer': 1159, 'dear': 1160, 'google': 1161, 'photo': 1162, 'pushing': 1163, 'decided': 1164, 'education': 1165, 'killer': 1166, 'jay': 1167, 'happens': 1168, '👊': 1169, 'crazy': 1170, 'gave': 1171, 'info': 1172, 'chat': 1173, 'stay': 1174, 'app': 1175, 'download': 1176, 'volume': 1177, 'potential': 1178, 'given': 1179, 'learning': 1180, 'p': 1181, 'beat': 1182, 'tv': 1183, 'ahead': 1184, 'line': 1185, 'report': 1186, 'eyes': 1187, '#token': 1188, 'posted': 1189, 'card': 1190, 'australian': 1191, 'respect': 1192, '#success': 1193, 'bio': 1194, '▶': 1195, 'until': 1196, 'father': 1197, 'loved': 1198, 'won': 1199, 'coffee': 1200, 'midnight': 1201, 'monday': 1202, 'become': 1203, 'projects': 1204, '♫': 1205, 'artists': 1206, 'close': 1207, 'hi': 1208, 'missed': 1209, 'supposed': 1210, 'prison': 1211, 'damn': 1212, '#dystopiancomedy': 1213, 'rules': 1214, 'citizens': 1215, 'age': 1216, 'interesting': 1217, 'youll': 1218, 'richs': 1219, 'roommate': 1220, 'dov': 1221, 'friedman': 1222, '#sethrich': 1223, '#americafirstmedia': 1224, '#hisnamewassethrich': 1225, 'sponsors': 1226, 'minutes': 1227, 'safety': 1228, 'tips': 1229, 'bombs': 1230, 'hot': 1231, 'lost': 1232, '#livebroadcasting': 1233, 'sending': 1234, 'series': 1235, 'middle': 1236, 'worry': 1237, 'award': 1238, 'manipulating': 1239, 'believing': 1240, 'strategy': 1241, 'guard': 1242, '🤷': 1243, '🏽': 1244, 'radio': 1245, 'amendment': 1246, 'final': 1247, '#football': 1248, 'lucky': 1249, 'spain': 1250, 'joe': 1251, '#corbyn': 1252, '#newsnight': 1253, '#innovation': 1254, 'quality': 1255, '#social': 1256, '#easter': 1257, '#uk': 1258, 'manager': 1259, '#startups': 1260, 'yoga': 1261, 'questions': 1262, 'vintage': 1263, 'box': 1264, 'celebrate': 1265, 'edition': 1266, 'shes': 1267, 'position': 1268, 'product': 1269, 'towards': 1270, '#ideas': 1271, 'development': 1272, 'longer': 1273, 'DG/DG': 1274, 'center': 1275, 'jobs': 1276, 'ha': 1277, '#future': 1278, 'dead': 1279, 'printed': 1280, 'body': 1281, '🙃': 1282, 'race': 1283, '#trump': 1284, '#bloggersrequired': 1285, '#bloggerssparkle': 1286, '#bloggerssupportingbloggers': 1287, '#grlpwr': 1288, '#readme': 1289, '#secrets': 1290, '#whathappensnext': 1291, '#saywhat': 1292, '#yesshedid': 1293, '#prepareyourselves': 1294, '#xxx': 1295, 'pop': 1296, '#machinelearning': 1297, '#seo': 1298, '#media': 1299, 'site': 1300, 'release': 1301, 'bottle': 1302, '#michigan': 1303, 'model': 1304, '#sports': 1305, '#laughter': 1306, 'mike': 1307, 'page': 1308, 'finish': 1309, '#thehollowcrown': 1310, 'interested': 1311, 'privacy': 1312, 'especially': 1313, 'nature': 1314, 'bin': 1315, 'liberals': 1316, 'improve': 1317, '#luxurywatch': 1318, '#luxurylife': 1319, 'yesterday': 1320, 'russian': 1321, '#motivation': 1322, 'wearing': 1323, 'bucket': 1324, 'john': 1325, 'clean': 1326, 'allow': 1327, '15th': 1328, 'govt': 1329, 'agree': 1330, '⬅': 1331, 'problems': 1332, 'reached': 1333, 'early': 1334, 'modi': 1335, 'weapons': 1336, '#lastfm': 1337, '💋': 1338, '#laugh': 1339, 'deep': 1340, '😘': 1341, '#podcasts': 1342, 'cryptocurrency': 1343, 'college': 1344, 'english': 1345, 'academy': 1346, 'announced': 1347, 'prayers': 1348, 'per': 1349, '#spring': 1350, 'standing': 1351, '#amwriting': 1352, '🏘': 1353, 'everybody': 1354, 'fortnite': 1355, 'fashion': 1356, '#un': 1357, 'reasons': 1358, '#royalcyberclub': 1359, 'legal': 1360, 'solution': 1361, '#women': 1362, 'short': 1363, '#sundaymorning': 1364, 'train': 1365, 'decades': 1366, 'dude': 1367, 'bomb': 1368, 'paper': 1369, 'x': 1370, 'interview': 1371, '🌟': 1372, 'professional': 1373, 'madrid': 1374, 'london': 1375, '🎶': 1376, '#design': 1377, 'growth': 1378, '#leadership': 1379, 'response': 1380, 'racist': 1381, 'perhaps': 1382, 'came': 1383, 'donald': 1384, 'side': 1385, 'land': 1386, 'greatest': 1387, '#dubai': 1388, 'serious': 1389, '#bigbizpro': 1390, 'turned': 1391, 'mr': 1392, 'havent': 1393, 'scared': 1394, 'town': 1395, '🌸': 1396, 'bringing': 1397, 'analyst': 1398, 'tweets': 1399, 'wasnt': 1400, 'together': 1401, 'dark': 1402, 'retro': 1403, '#giftideas': 1404, 'angela': 1405, 'stressed': 1406, 'themselves': 1407, 'lat': 1408, '#smm': 1409, 'facts': 1410, 'woman': 1411, 'activities': 1412, 'master': 1413, 'flat': 1414, '®': 1415, 'players': 1416, 'involved': 1417, 'DG-DG': 1418, 'th': 1419, 'increase': 1420, 'rather': 1421, '😝': 1422, 'wine': 1423, 'lots': 1424, 'obvious': 1425, 'mom': 1426, 'mail': 1427, 'd12': 1428, '#brandnew': 1429, '#midwest': 1430, '#underground': 1431, '#spin': 1432, '#bars': 1433, '#swag': 1434, 'surely': 1435, 'speaking': 1436, 'nobody': 1437, 'taken': 1438, 'officially': 1439, 'v-bucks': 1440, 'episode': 1441, '#wellness': 1442, 'user': 1443, 'pro': 1444, 'ended': 1445, 'sleep': 1446, '#clothing': 1447, 'clear': 1448, 'version': 1449, 'saudi': 1450, 'prince': 1451, 'linda': 1452, 'babies': 1453, '#diet': 1454, 'often': 1455, 'seem': 1456, 'mine': 1457, '2nd': 1458, 'forever': 1459, 'hat': 1460, 'partners': 1461, 'bolton': 1462, 'pack': 1463, 'spotify': 1464, '#image': 1465, 'currency': 1466, 'hub': 1467, 'dollars': 1468, '#altcoin': 1469, 'ppl': 1470, 'waste': 1471, 'raised': 1472, 'kid': 1473, 'died': 1474, '#girls': 1475, 'except': 1476, 'published': 1477, '☕': 1478, '#coffee': 1479, 'youtube': 1480, '#memesdaily': 1481, 'folks': 1482, 'realize': 1483, 'worthy': 1484, 'hand': 1485, 'hell': 1486, 'collection': 1487, '#podcasting': 1488, 'garbage': 1489, 'defense': 1490, 'bed': 1491, 'bug': 1492, '#change': 1493, 'round': 1494, 'hopping': 1495, 'hobby': 1496, 'color': 1497, '.  .': 1498, 'fear': 1499, 'rest': 1500, 'star': 1501, '#wine': 1502, '#sexy': 1503, '•': 1504, 'goodies': 1505, 'reading': 1506, '#cnn': 1507, 'store': 1508, '#trending': 1509, '#wooplr': 1510, 'test': 1511, 'proceedings': 1512, 'arpaio': 1513, 'libera': 1514, 'crime': 1515, 'russia': 1516, 'benefits': 1517, '#vote': 1518, 'fantastic': 1519, 'liberal': 1520, 'generation': 1521, 'stick': 1522, 'detailed': 1523, 'canada': 1524, '#nature': 1525, 'career': 1526, 'epic': 1527, 'park': 1528, '#entrepreneur': 1529, 'hold': 1530, 'took': 1531, 'grand': 1532, '#us': 1533, '⇨': 1534, '#foxnews': 1535, 'banking': 1536, 'wife': 1537, 'none': 1538, 'reporting': 1539, 'lies': 1540, 'usually': 1541, 'brilliant': 1542, 'merkel': 1543, 'board': 1544, 'simple': 1545, 'delightful': 1546, 'sexy': 1547, 'fight': 1548, 'sick': 1549, 'whos': 1550, 'ft': 1551, 'okay': 1552, '👌': 1553, 'piece': 1554, 'content': 1555, 'freedom': 1556, 'impact': 1557, 'busy': 1558, 'moving': 1559, 'disappointed': 1560, 'grade': 1561, '#gamer': 1562, 'awp': 1563, 'theyve': 1564, '#bigdata': 1565, 'leader': 1566, 'example': 1567, 'currently': 1568, 'sun': 1569, 'cut': 1570, 'accounts': 1571, 'value': 1572, 'draw': 1573, 'plz': 1574, '#retro': 1575, 'sitting': 1576, 'seriously': 1577, '#branding': 1578, 'stories': 1579, 'drugs': 1580, 'dating': 1581, 'area': 1582, '🌷': 1583, 'writing': 1584, 'blame': 1585, '#d12': 1586, 'celebration': 1587, '#bounty': 1588, 'background': 1589, 'space': 1590, 'tho': 1591, '#jazz': 1592, 'firm': 1593, 'ground': 1594, '#logo': 1595, 'entire': 1596, 'created': 1597, 'stupid': 1598, '#crowdfunding': 1599, '21st': 1600, 'murdered': 1601, 'soros': 1602, 'weve': 1603, 'instant': 1604, 'deserve': 1605, 'mention': 1606, '#ps4': 1607, '#lifestyle': 1608, 'whatever': 1609, 'fully': 1610, 'environment': 1611, 'anniversary': 1612, 'yea': 1613, 'jump': 1614, 'light': 1615, 'amazon': 1616, 'soul': 1617, 'creating': 1618, 'violent': 1619, 'reach': 1620, 'cause': 1621, 'cost': 1622, 'child': 1623, '😊': 1624, 'yup': 1625, 'winning': 1626, '#workout': 1627, 'ago': 1628, 'attacks': 1629, 'success': 1630, '#bestfriends': 1631, 'insulting': 1632, '#DGDG': 1633, 'taxes': 1634, 'era': 1635, '#darkhumor': 1636, 'youth': 1637, '12th': 1638, '#teachingjobs': 1639, 'offers': 1640, 'paid': 1641, 'energy': 1642, 'autistic': 1643, 'powerful': 1644, 'film': 1645, 'anyway': 1646, 'skin': 1647, 'cafe': 1648, '#dontattackme': 1649, '#spoiltbread': 1650, 'crore': 1651, 'bounty': 1652, 'goal': 1653, 'coverage': 1654, 'bomber': 1655, 'engineer': 1656, 'military': 1657, 'stream': 1658, '`': 1659, 'student': 1660, '#soundcloud': 1661, 'program': 1662, 'weekly': 1663, 'villa': 1664, 'trumps': 1665, '#awesome': 1666, 'upset': 1667, 'DGDGDG.DGDG': 1668, 'border': 1669, 'written': 1670, 'remove': 1671, 'claim': 1672, 'medical': 1673, '#cool': 1674, 'driving': 1675, 'complete': 1676, 'design': 1677, 'die': 1678, '#bch': 1679, 'featured': 1680, 'da': 1681, '#truth': 1682, 'mark': 1683, 'betting': 1684, 'caught': 1685, '😩': 1686, '💕': 1687, 'church': 1688, '#video': 1689, 'thread': 1690, 'jesus': 1691, '#DGDGDGDG': 1692, '#guns': 1693, '🐣': 1694, 'sharing': 1695, 'families': 1696, '#career': 1697, '#linux': 1698, 'major': 1699, '#xboxone': 1700, '#digitalmarketing': 1701, 'modern': 1702, 'society': 1703, 'played': 1704, 'rain': 1705, 'omg': 1706, 'supporters': 1707, 'airport': 1708, 'british': 1709, 'tip': 1710, 'trip': 1711, 'ipl': 1712, 'baby': 1713, '#world': 1714, 'hypocrisy': 1715, '#futurist': 1716, '#opportunity': 1717, '🚨': 1718, 'killed': 1719, 'deutsche': 1720, 'governed': 1721, 'street': 1722, 'filled': 1723, '#deeplearning': 1724, 'cities': 1725, 'binance': 1726, '#dystopia': 1727, '#fact': 1728, 'bulletproof': 1729, 'confidential': 1730, 'certain': 1731, 'winners': 1732, 'checkout': 1733, 'flight': 1734, 'steal': 1735, 'ai': 1736, 'beer': 1737, 'effort': 1738, 'needed': 1739, '. . .': 1740, '#tits': 1741, 'programming': 1742, 'scandal': 1743, '🍀': 1744, 'millions': 1745, 'conversation': 1746, 'usual': 1747, 'hurt': 1748, 'beauty': 1749, '#etsy': 1750, '#bitcointalk': 1751, 'gay': 1752, '⏬': 1753, 'seeing': 1754, 'performance': 1755, 'leaders': 1756, 'killing': 1757, '😫': 1758, 'austin': 1759, '#children': 1760, 'mining': 1761, '#fakenews': 1762, 'status': 1763, '#writers': 1764, '#marchmadness': 1765, 'bbc': 1766, '#mannkibaat': 1767, '#worldtbday': 1768, '#team': 1769, '#sv2': 1770, '#mclaren': 1771, '#friends': 1772, 'chicago': 1773, '#journalism': 1774, 'common': 1775, 'protection': 1776, 'begin': 1777, 'fresh': 1778, '°': 1779, 'allows': 1780, 'mass': 1781, 'protecting': 1782, 'near': 1783, 'blood': 1784, 'corrupt': 1785, 'talal': 1786, 'cent': 1787, 'sarsour': 1788, '#weightloss': 1789, '#fantasy': 1790, 'connect': 1791, 'opportunities': 1792, 'junhoe': 1793, 'yunhyeong': 1794, 'mirror': 1795, '😑': 1796, 'block': 1797, 'ride': 1798, 'study': 1799, 'beginning': 1800, 'pm': 1801, 'parenthood': 1802, 'record': 1803, 'roll': 1804, 'opportunity': 1805, 'ji': 1806, 'christian': 1807, 'election': 1808, 'insert': 1809, 'congrats': 1810, 'leading': 1811, 'gold': 1812, 'hosting': 1813, 'cows': 1814, 'thoughts': 1815, 'mar': 1816, 'honestly': 1817, 'xrp': 1818, 'arab': 1819, 'doha': 1820, 'qatar': 1821, 'august': 1822, 'vouchers': 1823, 'berlin': 1824, 'flag': 1825, '#sandpapergate': 1826, '#contest': 1827, 'assets': 1828, 'educated': 1829, 'ads': 1830, 'superpower': 1831, 'injured': 1832, '⏰': 1833, '#veterans': 1834, '#trends': 1835, 'adult': 1836, 'built': 1837, 'spending': 1838, 'customers': 1839, 'battle': 1840, 'self': 1841, 'sell': 1842, 'captain': 1843, 'brown': 1844, 'inspired': 1845, '#sale': 1846, 'mobile': 1847, '#online': 1848, 'unique': 1849, '#wordpress': 1850, '#time': 1851, 'eli': 1852, 'received': 1853, 'judge': 1854, 'actions': 1855, 'policy': 1856, 'yasss': 1857, 'southern': 1858, 'puerto': 1859, 'sales': 1860, 'animal': 1861, '#god': 1862, '#goals': 1863, '#retrogaming': 1864, 'graphics': 1865, 'designer': 1866, 'ass': 1867, 'tried': 1868, 'changing': 1869, 'court': 1870, '#guncontrol': 1871, '#beautiful': 1872, 'comments': 1873, 'songs': 1874, 'positive': 1875, 'training': 1876, 'shirt': 1877, 'bunch': 1878, 'south': 1879, 'wired': 1880, '#google': 1881, 'obviously': 1882, 'practice': 1883, 'xbox': 1884, 'ps4': 1885, 'daughter': 1886, '#tokens': 1887, 'murder': 1888, 'gone': 1889, 'style': 1890, '#wallart': 1891, 'threat': 1892, '♥': 1893, 'adding': 1894, 'cars': 1895, '#britishsummertime': 1896, 'decides': 1897, 'traffic': 1898, '4th': 1899, 'east': 1900, 'healthcare': 1901, '#it': 1902, '#artist': 1903, '#apple': 1904, 'apple': 1905, 'crowd': 1906, 'bet': 1907, '#entrepreneurs': 1908, 'statement': 1909, 'hearing': 1910, 'classy': 1911, 'tricks': 1912, 'models': 1913, 'grab': 1914, 'voice': 1915, 'growing': 1916, 'tihosay': 1917, 'robots': 1918, 'late': 1919, '💯': 1920, 'putting': 1921, 'officers': 1922, 'cum': 1923, 'assistant': 1924, '#mobileapp': 1925, '#amazon': 1926, '#aptask': 1927, 'DGDG-DGDGDGDGDG': 1928, '🎂': 1929, 'failed': 1930, '#joke': 1931, '#f1': 1932, 'guide': 1933, 'green': 1934, '🎵': 1935, '#games': 1936, 'calls': 1937, 'outside': 1938, 'k': 1939, 'thousands': 1940, 'fall': 1941, 'activist': 1942, 'hogg': 1943, 'planning': 1944, 'earn': 1945, 'overview': 1946, 'tr': 1947, 'personal': 1948, 'couple': 1949, '#community': 1950, 'saturday': 1951, 'brain': 1952, 'attempt': 1953, 'artificial': 1954, 'channel': 1955, 'cry': 1956, '#shopping': 1957, '#new': 1958, 'shift': 1959, 'stand': 1960, '#writing': 1961, '💫': 1962, 'individual': 1963, '#altcoins': 1964, 'threats': 1965, 'spend': 1966, 'cambridge': 1967, 'former': 1968, 'graphite': 1969, 'limit': 1970, 'broke': 1971, 'boys': 1972, 'technologies': 1973, 'cards': 1974, 'billion': 1975, 'cheating': 1976, 'current': 1977, '#homedecor': 1978, 'terrorism': 1979, 'photos': 1980, '#austinbombings': 1981, 'base': 1982, '#snarkyq': 1983, 'quick': 1984, 'bought': 1985, 'warm': 1986, '#brand': 1987, '#livepd': 1988, 'football': 1989, 'low': 1990, 'indeed': 1991, '#thinkbig': 1992, '#mentor': 1993, '#lifeisbeautif': 1994, '::': 1995, '#photooftheday': 1996, 'shootings': 1997, 'son': 1998, 'china': 1999, '#viral': 2000, 'videos': 2001, 'cc': 2002, 'mi': 2003, 'turns': 2004, '#dataviz': 2005, '🇬': 2006, '🇧': 2007, 'likely': 2008, 'touch': 2009, '˚': 2010, 'exist': 2011, '#shop': 2012, 'ar': 2013, 'useful': 2014, 'btpcrowdsale': 2015, 'loss': 2016, 'brought': 2017, 'receive': 2018, 'wanting': 2019, 'weather': 2020, 'half': 2021, 'bar': 2022, '#college': 2023, '#book': 2024, 'caption': 2025, 'uploades': 2026, 'racing': 2027, 'uses': 2028, '#silly': 2029, 'brave': 2030, '#california': 2031, 'pre-sale': 2032, '#binance': 2033, '#forex': 2034, '#erc20': 2035, '#trade': 2036, '#deals': 2037, '💩': 2038, 'integrity': 2039, 'sit': 2040, 'aint': 2041, 'non': 2042, 'financial': 2043, 'theyll': 2044, '😀': 2045, 'extremely': 2046, '☀': 2047, 'tune': 2048, '#rnb': 2049, 'yall': 2050, 'considered': 2051, 'bitrace': 2052, 'amount': 2053, '#trading': 2054, 'plane': 2055, 'language': 2056, 'killers': 2057, 'elected': 2058, 'nah': 2059, 'sold': 2060, 'known': 2061, 'brings': 2062, 'shout': 2063, '📚': 2064, 'signed': 2065, 'books': 2066, '#parody': 2067, 'workout': 2068, '💪': 2069, 'tweeted': 2070, 'chase': 2071, 'dress': 2072, 'carry': 2073, 'thinks': 2074, 'businesses': 2075, 'insult': 2076, 'hairflip': 2077, 'doodle': 2078, 'action': 2079, '#datascience': 2080, 'masternode': 2081, 'selection': 2082, 'corruption': 2083, 'wise': 2084, 'office': 2085, 'falls': 2086, 'holding': 2087, 'pc': 2088, 'ways': 2089, 'goodbye': 2090, '#cryptocur': 2091, 'yrs': 2092, '#snow': 2093, '#savaus': 2094, 'ah': 2095, 'walk': 2096, 'highly': 2097, '#instagram': 2098, 'cannot': 2099, 'teams': 2100, 'telling': 2101, 'raw': 2102, 'justice': 2103, 'shame': 2104, 'catch': 2105, 'proof': 2106, 'decentralized': 2107, 'innovation': 2108, 'il': 2109, 'worse': 2110, 'shipping': 2111, 'services': 2112, 'sadly': 2113, '#monday': 2114, '#girl': 2115, 'DGDG.DG': 2116, '#doodle': 2117, '#wtf': 2118, 'vital': 2119, '#russian': 2120, 'shoot': 2121, 'similar': 2122, 'yo': 2123, 'rico': 2124, 'nation': 2125, '#thanks': 2126, 'trends': 2127, '#onlinemarketing': 2128, 'related': 2129, 'names': 2130, 'figure': 2131, 'decision': 2132, 'governor': 2133, 'calling': 2134, 'november': 2135, '#listen': 2136, 'playoffs': 2137, 'chemical': 2138, 'frame': 2139, 'fault': 2140, 'updated': 2141, '#freebiefriday': 2142, 'europe': 2143, 'loves': 2144, 'fam': 2145, '#telegram': 2146, 'directly': 2147, 'voucher': 2148, 'muslim': 2149, 'fact': 2150, 'drop': 2151, '#picture': 2152, 'infographic': 2153, 'crash': 2154, '🤗': 2155, 'fail': 2156, '🐰': 2157, 'bag': 2158, '#winning': 2159, '#neo': 2160, 'communities': 2161, '#burjkhalifa': 2162, '#emaar': 2163, '#luxuryproperty': 2164, '#connect2earth': 2165, '#lifetalks2018': 2166, 'rajasthan': 2167, 'royals': 2168, '😏': 2169, 'date': 2170, 'shower': 2171, 'across': 2172, 'systems': 2173, '#metal': 2174, 'oz': 2175, '#opensource': 2176, '#hr': 2177, '#ps4pro': 2178, '#blogger': 2179, 'director': 2180, 'zero': 2181, 'dad': 2182, 'bus': 2183, 'stars': 2184, 'participate': 2185, 'etc': 2186, 'cpr': 2187, 'cares': 2188, 'feet': 2189, '#family': 2190, 'exclusive': 2191, '#gospel': 2192, 'waiting': 2193, 'alive': 2194, 'inauguration': 2195, '🌻': 2196, 'goodness': 2197, '#oldies': 2198, '📣': 2199, 'sea': 2200, 'taught': 2201, '#punintended': 2202, 'device': 2203, 'bets': 2204, 'text': 2205, '#study': 2206, 'aware': 2207, 'bureau': 2208, '#vibes': 2209, '#tonystark': 2210, '#everydayability': 2211, '#startv': 2212, '#amazing': 2213, '#paradigm': 2214, '#interactions': 2215, '#venture': 2216, '#capital': 2217, 'buyout': 2218, 'declined': 2219, 'developer': 2220, 'dog': 2221, 'role': 2222, 'cops': 2223, 'http': 2224, '😃': 2225, 'rise': 2226, 'rocking': 2227, 'wireless': 2228, 'sound': 2229, '🏁': 2230, 'claims': 2231, 'bc': 2232, 'emma': 2233, 'matters': 2234, 'keeping': 2235, '#finance': 2236, 'federal': 2237, '#support': 2238, '{': 2239, '}': 2240, '#webdesign': 2241, 'stunning': 2242, 'registering': 2243, 'deposit': 2244, 'commit': 2245, 'supporting': 2246, 'fellow': 2247, 'wanna': 2248, 'resources': 2249, 'schnorr': 2250, 'signatures': 2251, 'charge': 2252, 'fruits': 2253, '🔜': 2254, 'oil': 2255, 'anywhere': 2256, '◀': 2257, 'contracts': 2258, 'closer': 2259, '#inspiration': 2260, '#cdnpoli': 2261, 'method': 2262, 'visa': 2263, 'selling': 2264, 'roman': 2265, 'secure': 2266, 'key': 2267, 'crews': 2268, 'speed': 2269, '#firstdayofspring': 2270, '#carnivore': 2271, 'effective': 2272, 'constitution': 2273, 'st': 2274, 'wins': 2275, '#american': 2276, '🙂': 2277, 'products': 2278, 'west': 2279, 'bundle': 2280, '#saturday': 2281, 'analytica': 2282, '☘': 2283, '🌿': 2284, 'leg': 2285, '#charity': 2286, 'counting': 2287, 'runs': 2288, 'events': 2289, 'shed': 2290, 'dr': 2291, 'cell': 2292, 'phones': 2293, 'criminals': 2294, 'station': 2295, 'gis': 2296, 'favourite': 2297, 'gif': 2298, '#prizes': 2299, 'member': 2300, '🥇': 2301, 'teachers': 2302, 'easily': 2303, 'mix': 2304, '30th': 2305, 'parents': 2306, 'opinion': 2307, 'loading': 2308, 'DG/DGDG': 2309, '#amateur': 2310, '#playstation': 2311, '❗': 2312, 'period': 2313, '#fungifts': 2314, '#printables': 2315, '#newhome': 2316, '#wall': 2317, '#forbestfriend': 2318, 'ad': 2319, '#80s': 2320, 'concept': 2321, '#analytics': 2322, 'assume': 2323, '3rd': 2324, 'sexual': 2325, 'estate': 2326, 'asked': 2327, 'original': 2328, '#btu': 2329, 'hiring': 2330, '#mondaymotivation': 2331, 'sees': 2332, '#sundayfunday': 2333, 'willing': 2334, 'headset': 2335, 'anime': 2336, 'rewards': 2337, 'lord': 2338, '#psl2018': 2339, 'infrastructure': 2340, 'mo4ch': 2341, 'guest': 2342, 'shared': 2343, '#hilarious': 2344, 'pants': 2345, 'beyond': 2346, 'shouldn': 2347, '#trypod': 2348, 'lower': 2349, '#bizarre': 2350, 'register': 2351, '#stevesmith': 2352, 'management': 2353, '#fridayfeeling': 2354, 'checks': 2355, 'gorgeous': 2356, '#summer': 2357, 'dan': 2358, '#chicago': 2359, 'difficult': 2360, 'dev': 2361, 'logo': 2362, '2a': 2363, 'agreement': 2364, 'sext': 2365, 'asompo': 2366, 'trillion': 2367, ':d': 2368, 'jimmy': 2369, 'prod': 2370, 'among': 2371, 'fat': 2372, 'disease': 2373, 'roe': 2374, 'wade.why': 2375, 'weight': 2376, 'recall': 2377, 'tradition': 2378, 'protesters': 2379, '#model': 2380, 'arrived': 2381, 'custom': 2382, 'income': 2383, '🇷': 2384, 'integration': 2385, 'sites': 2386, 'religion': 2387, '😅': 2388, 'payments': 2389, 'programs': 2390, 'pp': 2391, 'fundingdo': 2392, '#investing': 2393, 'sport': 2394, '#romance': 2395, '#xyo': 2396, '#today': 2397, '#space': 2398, '#britain': 2399, '#russia': 2400, 'cop': 2401, '#song': 2402, '#chil': 2403, '#freshsound': 2404, '#tunein': 2405, 'input': 2406, '#onpoli': 2407, 'yep': 2408, 'fancy': 2409, 'couldn': 2410, 'twitch': 2411, 'announcement': 2412, 'communication': 2413, '#creative': 2414, '#hea': 2415, 'putin': 2416, 'syria': 2417, 'aaron': 2418, 'cups': 2419, 'huh': 2420, 'automatically': 2421, 'kinda': 2422, 'hannity': 2423, 'george': 2424, '#happiness': 2425, '#javascript': 2426, 'peter': 2427, 'digitalprice': 2428, 'expanding': 2429, 'thx': 2430, 'understanding': 2431, 'advanced': 2432, 'paris': 2433, 'developpements': 2434, 'literally': 2435, 'champ': 2436, 'guessed': 2437, 'android': 2438, 'reported': 2439, '#wizebot': 2440, 'islam': 2441, 'heroes': 2442, 'paintings': 2443, 'watches': 2444, 'express': 2445, 'limited': 2446, 'remind': 2447, 'targeted': 2448, 'basketball': 2449, 'changes': 2450, 'stomach': 2451, '#techno': 2452, 'schedule': 2453, 'fish': 2454, 'dumb': 2455, '#worldrecord': 2456, 'cram': 2457, '#24ho': 2458, 'culture': 2459, '#developer': 2460, 'copy': 2461, 'prices': 2462, 'worst': 2463, 'hunting': 2464, 'impossible': 2465, '🍷': 2466, '#pun': 2467, '#haha': 2468, 'meh': 2469, '#meh': 2470, '#mom': 2471, 'grown': 2472, '#men': 2473, 'budget': 2474, '#subscribe': 2475, 'magic': 2476, '#view': 2477, 'owners': 2478, 'spen': 2479, 'hasnt': 2480, '#cryptomadness': 2481, 'strongest': 2482, 'communit': 2483, '#starwars': 2484, 'novel': 2485, '#japan': 2486, '#bluehand': 2487, '#bluehandrising': 2488, '#bluehandfamily': 2489, 'rocks': 2490, 'ridiculous': 2491, 'khan': 2492, 'recently': 2493, 'cuts': 2494, 'conservative': 2495, 'character': 2496, 'holy': 2497, '#googleplay': 2498, 'patrolling': 2499, 'science': 2500, 'bhai': 2501, 'minister': 2502, 'hiding': 2503, 'unless': 2504, 'bags': 2505, '#soccer': 2506, '😄': 2507, 'whether': 2508, 'worried': 2509, 'raise': 2510, 'boxed': 2511, 'finger': 2512, '#designer': 2513, 'gender': 2514, 'eye': 2515, 'parkland': 2516, 'la': 2517, '#plannedparenthood': 2518, 'slow': 2519, 'cup': 2520, 'ours': 2521, 'cat': 2522, 'mins': 2523, 'icos': 2524, 'centreville': 2525, 'hello': 2526, 'setting': 2527, 'zone': 2528, 'reply': 2529, '#content': 2530, '#cartoon': 2531, '#day': 2532, 'reports': 2533, '25th': 2534, '#bbc': 2535, 'importance': 2536, 'advisor': 2537, 'wood': 2538, '#frame': 2539, 'visual': 2540, 'journey': 2541, 'owning': 2542, 'door': 2543, '#smallbusiness': 2544, 'armed': 2545, '#internationaldayofhappiness': 2546, 'lunch': 2547, 'local': 2548, 'required': 2549, '🎾': 2550, '#ltc': 2551, '#xvg': 2552, 'pull': 2553, 'spot': 2554, 'conference': 2555, 'later': 2556, 'marvel': 2557, '#movies': 2558, 'wi': 2559, '#healthcare': 2560, 'above': 2561, '#contentmarketing': 2562, 'simon': 2563, 'boots': 2564, '#housemusic': 2565, 'penis': 2566, 'bigger': 2567, 'limits': 2568, 'storm': 2569, 'lmao': 2570, 'terrorists': 2571, 'haters': 2572, '#funniest': 2573, '#roadtrip': 2574, '#annoyed': 2575, 'type': 2576, 'escape': 2577, 'leads': 2578, 'shall': 2579, 'reveals': 2580, 'listing': 2581, 'shows': 2582, 'ethereum': 2583, 'analysis': 2584, '#wow': 2585, '#ether': 2586, 'btw': 2587, 'harassment': 2588, 'lying': 2589, 'missing': 2590, '#laughteristhebestmedicine': 2591, '📻': 2592, '🎧': 2593, '#ecommerce': 2594, 'apps': 2595, 'bath': 2596, '#tuesdaythoughts': 2597, '#block': 2598, 'places': 2599, 'banning': 2600, 'relevant': 2601, 'stable': 2602, 'county': 2603, 'feed': 2604, 'deleted': 2605, '👑': 2606, '💝': 2607, '🆒': 2608, 'refuse': 2609, 'hire': 2610, '#formula1': 2611, ':-)': 2612, 'institute': 2613, 'develop': 2614, 'nodes': 2615, 'minds': 2616, 'purpose': 2617, 'junior': 2618, '#careers': 2619, 'tired': 2620, 'safely': 2621, 'chinese': 2622, 'repeating': 2623, 'hitler': 2624, 'germany': 2625, 'puts': 2626, '😆': 2627, 'showed': 2628, 'package': 2629, 'glass': 2630, 'promoting': 2631, 'warning': 2632, '#blonde': 2633, 'teach': 2634, 'passed': 2635, 'san': 2636, 'francisco': 2637, '#conference': 2638, 'advice': 2639, 'beach': 2640, 'survive': 2641, 'nuts': 2642, 'majority': 2643, 'century': 2644, 'congratulations': 2645, 'software': 2646, 'voting': 2647, 'retail': 2648, 'doubt': 2649, 'cryptocurrencies': 2650, 'dm': 2651, '⟹': 2652, 'certainly': 2653, '#90s': 2654, 'afford': 2655, '#exercise': 2656, 'stellar': 2657, 'speech': 2658, '#losangeles': 2659, 'expect': 2660, 'strong': 2661, 'message': 2662, 'western': 2663, 'laugh': 2664, 'egg': 2665, 'french': 2666, 'mad': 2667, 'tea': 2668, 'lake': 2669, 'screen': 2670, '#event': 2671, 'smartphone': 2672, 'adults': 2673, '#ass': 2674, '#pussy': 2675, '#fiction': 2676, 'mexico': 2677, 'reaching': 2678, '#android': 2679, 'terrible': 2680, '🤢': 2681, '#donaldtrump': 2682, '#adult': 2683, 'afraid': 2684, 'bitch': 2685, '#funnytshirt': 2686, 'urgent': 2687, 'hospital': 2688, 'stands': 2689, 'humans': 2690, '#company': 2691, '#ekdoteen': 2692, '#like4like': 2693, 'bike': 2694, 'gop': 2695, 'transactions': 2696, 'recent': 2697, 'reasonable': 2698, 'regular': 2699, 'investors': 2700, '🏾': 2701, 'experts': 2702, 'values': 2703, 'DGDGDGDG.DGDG': 2704, 'dirty': 2705, '#wa': 2706, 'israel': 2707, 'promote': 2708, 'inc': 2709, 'older': 2710, 'provide': 2711, 'filing': 2712, 'paul': 2713, 'jokes': 2714, 'drug': 2715, 'markets': 2716, 'purchase': 2717, 'anthony': 2718, 'conditt': 2719, '#porno': 2720, 'travel': 2721, 'eating': 2722, 'likes': 2723, 'dogs': 2724, 'rule': 2725, 'innocent': 2726, '👀': 2727, 'bro': 2728, '#play': 2729, 'leadership': 2730, 'partner': 2731, 'investment': 2732, ';)': 2733, '->': 2734, 'fiverrneed': 2735, '#graphic_design': 2736, '#card': 2737, '#flyer': 2738, '#cover': 2739, '#resume': 2740, '#ads_design': 2741, '#instagram_ads': 2742, '#background_removehttps': 2743, 'gym': 2744, 'operation': 2745, 'soft': 2746, 'shots': 2747, '#etsyshop': 2748, 'dance': 2749, '#computeritservices': 2750, '#python': 2751, 'however': 2752, 'feelings': 2753, 'cuz': 2754, '🏿': 2755, '#pslfinalinkarachi': 2756, 'mouth': 2757, 'due': 2758, 'wake': 2759, 'activists': 2760, 'seat': 2761, 'tablet': 2762, 'awards': 2763, '☝': 2764, 'flow': 2765, '#government': 2766, 'initial': 2767, '#neveragain': 2768, '#sassy': 2769, 'invite': 2770, 'accuracy': 2771, 'countries': 2772, 'fb': 2773, 'decide': 2774, '#sciencefiction': 2775, 'losing': 2776, '#bitcoi': 2777, 'experienced': 2778, '#vacation': 2779, 'balls': 2780, 'mentally': 2781, 'tournament': 2782, 'worlds': 2783, 'union': 2784, 'grow': 2785, '#auspol': 2786, 'reverse': 2787, '#group': 2788, '#blowjob': 2789, 'legit': 2790, 'salty': 2791, '🇲': 2792, '🇾': 2793, '#ann': 2794, '#gymrewards': 2795, '#tokenssale': 2796, 'universe': 2797, '#rrbc': 2798, 'moments': 2799, 'winds': 2800, '❄': 2801, '😬': 2802, 'steel': 2803, 'machines': 2804, 'stocks': 2805, 'poster': 2806, 'founder': 2807, 'host': 2808, '💔': 2809, '➤': 2810, '#neocash': 2811, 'distributes': 2812, 'smell': 2813, '#clip': 2814, '#followback': 2815, 'signal': 2816, 'responsible': 2817, 'universal': 2818, 'luvelli': 2819, 'shut': 2820, '#blues': 2821, '#soul': 2822, '#soulmusic': 2823, 'uber': 2824, 'self-driving': 2825, 'noise': 2826, 'wed': 2827, 'wave': 2828, 'identity': 2829, 'hackers': 2830, 'tongue': 2831, 'pain': 2832, 'unexpected': 2833, 'shock': 2834, '😭': 2835, '😓': 2836, 'panel': 2837, 'farm': 2838, 'mulder': 2839, 'scully': 2840, 'vision': 2841, 'gain': 2842, '#ipad': 2843, '#saas': 2844, '#cardstack': 2845, '#dapps': 2846, 'gross': 2847, 'fools': 2848, 'disarm': 2849, 'burning': 2850, 'soo': 2851, 'fed': 2852, 'delivery': 2853, 'trouble': 2854, 'porn': 2855, 'priority': 2856, '#students': 2857, '🇰': 2858, 'korean': 2859, 'biased': 2860, '#indiedev': 2861, '#icomarketi': 2862, 'tour': 2863, 'nazi': 2864, 'administration': 2865, 'sh': 2866, '#todays': 2867, 'feat': 2868, 'religious': 2869, '#singing': 2870, '#london': 2871, 'wordpress': 2872, 'benefit': 2873, 'unit': 2874, '#comeback': 2875, 'pleasure': 2876, '⚡': 2877, '#market': 2878, 'discussing': 2879, '#seaofthieves': 2880, 'ship': 2881, 'broken': 2882, 'winter': 2883, 'general': 2884, 'msm': 2885, 'till': 2886, 'pre': 2887, 'evolution': 2888, 'tim': 2889, 'oracle': 2890, 'hardware': 2891, '#geolocation': 2892, 'muslims': 2893, 'band': 2894, 'strict': 2895, 'solve': 2896, 'potatoes': 2897, 'fixing': 2898, '#litecoin': 2899, 'dvd': 2900, 'downtown': 2901, 'wore': 2902, 'cap': 2903, 'channels': 2904, 'reserved': 2905, '#shoot': 2906, 'hide': 2907, 'favour': 2908, '#shame': 2909, 'duh': 2910, 'disagree': 2911, 'advance': 2912, '#cloudcomputing': 2913, '#digitaltransformation': 2914, 'borders': 2915, 'bingo': 2916, 'edge': 2917, 'breath': 2918, 'webmd': 2919, 'aid': 2920, '🌏': 2921, '#dystopian': 2922, '#fx': 2923, 'senior': 2924, 'dash': 2925, 'republicans': 2926, 'mathematics': 2927, 'shop': 2928, 'absolute': 2929, 'scandals': 2930, '#cr': 2931, 'sterlite': 2932, 'copper': 2933, '#isupportsterlitecopper': 2934, '#sterliteco': 2935, '#hoop': 2936, 'miles': 2937, '☺': 2938, 'evening': 2939, 'staff': 2940, 'ignore': 2941, 'nirav': 2942, 'seized': 2943, 'mf': 2944, 'hussain': 2945, 'cro': 2946, '#snapchat': 2947, 'became': 2948, 'jordan': 2949, 'queens': 2950, 'breathtaking': 2951, 'force': 2952, 'heaven': 2953, 'florida': 2954, '#research': 2955, 'file': 2956, 'enjoying': 2957, 'demo': 2958, 'capturing': 2959, 'reposting': 2960, '#weather': 2961, '#sky': 2962, '#landscape': 2963, 'useless': 2964, 'solo': 2965, 'session': 2966, 'lego': 2967, '#public': 2968, 'recipes': 2969, 'prime': 2970, 'dying': 2971, 'bullets': 2972, 'bodies': 2973, '🍻': 2974, '#trance': 2975, '#me': 2976, 'reality': 2977, 'promo': 2978, '#makeup': 2979, 'feature': 2980, 'map': 2981, 'disney': 2982, 'shooter': 2983, 'tweeting': 2984, 'mikal': 2985, 'leg-spinner': 2986, 'quetta': 2987, 'fuckin': 2988, '#iheartradio': 2989, 'presidency': 2990, 'illuminati': 2991, 'politics': 2992, 'ga': 2993, 'chantilly': 2994, 'highlands': 2995, 'pac': 2996, 'saw': 2997, 'respond': 2998, '#hypocrisy': 2999, 'print': 3000, '#bigsurprise': 3001, 'debate': 3002, 'monsta': 3003, 'cover': 3004, 'prepare': 3005, 'clothing': 3006, 'listening': 3007, 'lack': 3008, 'standard': 3009, '#england': 3010, 'floral': 3011, 'cake': 3012, 'include': 3013, 'advantage': 3014, '❥': 3015, '#indie': 3016, '#my50top': 3017, '#50top': 3018, '#topmusic': 3019, '#classes': 3020, '#designing': 3021, '#legos': 3022, '#well': 3023, 'source': 3024, 'offended': 3025, 'farms': 3026, 'association': 3027, 'ugly': 3028, 'merchandise': 3029, '#apparel': 3030, 'cancer': 3031, 'stage': 3032, 'applications': 3033, 'africa': 3034, 'basically': 3035, 'wouldn': 3036, 'van': 3037, '💛': 3038, 'democracy': 3039, '#happy': 3040, 'cute': 3041, 'surfaces': 3042, 'launching': 3043, 'evidence': 3044, 'golf': 3045, 'hmmm': 3046, 'wishes': 3047, 'forgive': 3048, '#vintage': 3049, 'driver': 3050, 'keeps': 3051, 'foreign': 3052, '#iota': 3053, '#xrp': 3054, 'foot': 3055, 'xd': 3056, 'luxuryhello': 3057, 'sack': 3058, 'finest': 3059, 'kg': 3060, 'chris': 3061, '▪': 3062, '#giveawayalert': 3063, '#president': 3064, '#jewelry': 3065, 'ransomware': 3066, 'ki': 3067, 'duty': 3068, '🙈': 3069, '#edm': 3070, 'electric': 3071, 'cheat': 3072, '#balltampering': 3073, '#nyt': 3074, 'cooper': 3075, '#urbaninstatweet': 3076, '#themeparkbloggerstatus': 3077, '#follo': 3078, '#marriedlife': 3079, '#desertplan': 3080, '#silverlining': 3081, 'kerr': 3082, 'starters': 3083, '#firekerr': 3084, '#letsgowarriorslive': 3085, 'blacks': 3086, 'recorded': 3087, 'founding': 3088, 'angry': 3089, 'pwas': 3090, 'vue.js': 3091, '#verge': 3092, 'le': 3093, 'magazine': 3094, '#thank': 3095, 'figured': 3096, 'victim': 3097, 'wound': 3098, 'dns': 3099, 'italy': 3100, 'un': 3101, 'reminder': 3102, '#code': 3103, 'obamas': 3104, 'presale': 3105, '#engineering': 3106, 'hunter': 3107, 'floor': 3108, 'ticket': 3109, 'parental': 3110, 'psl': 3111, 'sc': 3112, 'talks': 3113, 'creative': 3114, '#narcissism': 3115, '🙅': 3116, 'poll': 3117, 'informed': 3118, 'sucks': 3119, 'remudo': 3120, 'tells': 3121, 'pure': 3122, '#movie': 3123, 'entertainment': 3124, 'route': 3125, 'within': 3126, '#drone': 3127, '#futurism': 3128, 'nope': 3129, 'gangs': 3130, '#liberallogic': 3131, 'unknown': 3132, 'fucked': 3133, 'announcing': 3134, 'amazed': 3135, 'gives': 3136, 'steps': 3137, 'sends': 3138, 'championship': 3139, '#championship': 3140, 'xbl': 3141, 'drawing': 3142, 'gl': 3143, 'seas': 3144, '️join': 3145, '💿': 3146, 'angel': 3147, '#scrum': 3148, 'asshole': 3149, 'sprinklers': 3150, 'baseball': 3151, 'bts': 3152, 'clearview': 3153, '#clearviewes': 3154, 'interest': 3155, 'politician': 3156, 'gonzalez': 3157, 'expire': 3158, 'dc': 3159, 'variety': 3160, '#artwork': 3161, 'gee': 3162, 'shocker': 3163, '#nigeria': 3164, 'discuss': 3165, 'paypal': 3166, '#cash': 3167, '#enoughisenough': 3168, 'stops': 3169, '#privacy': 3170, 'mood': 3171, 'exercise': 3172, 'movement': 3173, 'fbi': 3174, 'james': 3175, '#smh': 3176, 'arm': 3177, 'fly': 3178, 'goods': 3179, 'accessories': 3180, 'actor': 3181, 'mandatory': 3182, 'humanity': 3183, 'companies': 3184, 'stopped': 3185, 'protocol': 3186, 'plain': 3187, 'appreciate': 3188, '#politicstoday': 3189, 'tree': 3190, '#stupid': 3191, 'payment': 3192, 'japan': 3193, 'bright': 3194, 'harsh': 3195, 'surgery': 3196, 'taste': 3197, 'obsessed': 3198, 'sky': 3199, 'core': 3200, '#country': 3201, '#onair': 3202, 'irony': 3203, 'blocked': 3204, '#deletefacebook': 3205, '#freedom': 3206, 'met': 3207, 'manning': 3208, 'fearsome': 3209, 'reportedly': 3210, 'cigarette': 3211, 'donny': 3212, 'cricketer': 3213, 'coins': 3214, 'approach': 3215, 'pride': 3216, 'santander': 3217, 'large': 3218, 'cross': 3219, 'requires': 3220, '#climate': 3221, '#make': 3222, 'thankful': 3223, 'elementary': 3224, 'arabic': 3225, 'lang': 3226, 'rifle': 3227, 'centre': 3228, 'workers': 3229, '#nudes': 3230, '#nude': 3231, '#story': 3232, 'tee': 3233, '#smile': 3234, 'haven': 3235, 'fav': 3236, 'fitness': 3237, 'ts': 3238, 'casino': 3239, '#portrait': 3240, '#anal': 3241, '#milf': 3242, 'perfected': 3243, 'torturing': 3244, 'refugees': 3245, 'venerating': 3246, 'cabal': 3247, '#worldwide': 3248, 'tough': 3249, 'cloud': 3250, 'fucks': 3251, 'explained': 3252, 'introduce': 3253, 'studying': 3254, 'bird': 3255, 'cape': 3256, 'tinder': 3257, 'ka': 3258, 'easier': 3259, 'finds': 3260, 'criminal': 3261, '#researchpreneur': 3262, '☆': 3263, '💦': 3264, 'employment': 3265, 'perfectly': 3266, 'candidate': 3267, '#organic': 3268, 'peace': 3269, 'buses': 3270, 'tool': 3271, 'loan': 3272, '#bitcoincash': 3273, '#launch': 3274, 'avoid': 3275, 'housing': 3276, 'permission': 3277, 'fabulous': 3278, 'tampering': 3279, '#golf': 3280, 'abt': 3281, 'personality': 3282, 'chips': 3283, 'rare': 3284, '#डोकेदुखीपीजे': 3285, 'म': 3286, '#मराठी': 3287, '#व्यंग': 3288, '#जोक्स': 3289, '#मजाक': 3290, '#विनोद': 3291, '#हिंदी': 3292, '#vyang': 3293, '#thrive': 3294, 'results': 3295, 'crisis': 3296, 'scientists': 3297, 'spots': 3298, 'lyrics': 3299, '#ux': 3300, '#indian': 3301, '#mother': 3302, 'intelligent': 3303, '✅': 3304, '🤑': 3305, 'california': 3306, '#artificialintelligence': 3307, 'updates': 3308, '#profit': 3309, '#gold': 3310, 'logic': 3311, 'web': 3312, '#sweepstakes': 3313, '#australia': 3314, 'fears': 3315, 'depends': 3316, 'plans': 3317, 'iq': 3318, '#gin': 3319, '#prizedraw': 3320, 'gi': 3321, 'wisdom': 3322, 'silly': 3323, '#fragrance': 3324, 'july': 3325, '#laughterallweekend': 3326, 'startup': 3327, '#hd': 3328, 'trailer': 3329, 'protein': 3330, 'node': 3331, 'actual': 3332, 'closed': 3333, 'inches': 3334, 'talented': 3335, '#70s': 3336, '#painting': 3337, 'female': 3338, '#streamer': 3339, 'corporate': 3340, 'elder': 3341, 'onomora': 3342, 'harder': 3343, 'ca': 3344, 'analytics': 3345, '#desperate': 3346, '‼': 3347, 'harry': 3348, 'tourbillon': 3349, 'awww': 3350, '#caffeine': 3351, 'diet': 3352, 'arriving': 3353, 'covered': 3354, 'drinking': 3355, '#customerservice': 3356, 'holiday': 3357, 'picked': 3358, 'options': 3359, 'startups': 3360, 'techcrunch': 3361, '#blogging': 3362, 'insider': 3363, 'fruit': 3364, 'plastic': 3365, '#exams': 3366, 'pom': 3367, 'contact': 3368, '#thinkbigsundaywithmarsha': 3369, 'process': 3370, 'animals': 3371, 'matches': 3372, 'deserves': 3373, '#sales': 3374, 'se': 3375, '#livepdnation': 3376, '#vr': 3377, 'maintaining': 3378, '#stream': 3379, 'amp': 3380, 'minute': 3381, 'refill': 3382, 'urge': 3383, 'methods': 3384, 'glow': 3385, 'kudos': 3386, 'co': 3387, 'opened': 3388, 'emoji': 3389, 'thrilled': 3390, 'promotion': 3391, 'pictures': 3392, 'conway': 3393, '#birthday': 3394, 'classes': 3395, 'term': 3396, 'critical': 3397, '#follow4follow': 3398, 'resource': 3399, 'garden': 3400, 'concern': 3401, 'voters': 3402, '😲': 3403, '🏃': 3404, 'shopping': 3405, 'organization': 3406, 'prevention': 3407, 'continues': 3408, 'explain': 3409, 'marching': 3410, 'nahi': 3411, 'cream': 3412, 'burn': 3413, 'everywhere': 3414, 'surprising': 3415, 'staring': 3416, 'nations': 3417, 'research': 3418, 'sweat': 3419, '#joyful': 3420, '#kindleunlimited': 3421, 'agile': 3422, '#coaching': 3423, 'field': 3424, 'kidding': 3425, 'deserved': 3426, '#tr': 3427, 'coach': 3428, 'switch': 3429, 'shoulder': 3430, 'ending': 3431, 'fred': 3432, '#pdata': 3433, '#opirium': 3434, 'trial': 3435, '#thoughts': 3436, 'injection': 3437, '#pentest': 3438, '#aviation': 3439, 'cybersecurity': 3440, 'los': 3441, '#respect': 3442, 'stress': 3443, 'album': 3444, 'wrestling': 3445, 'mill': 3446, 'pool': 3447, '#ipl2018': 3448, 'democrat': 3449, 'marital': 3450, 'liked': 3451, 'honest': 3452, 'giant': 3453, '-->': 3454, 'suddenly': 3455, '#cumshot': 3456, '#doggystyle': 3457, 'finished': 3458, 'characters': 3459, '#yr': 3460, '#yr45': 3461, 'lange': 3462, 'alert': 3463, 'wasn': 3464, 'exploits': 3465, 'nail': 3466, 'applying': 3467, 'further': 3468, 'mo': 3469, 'seconds': 3470, '#girlgamer': 3471, '#leagueoflegends': 3472, 'fatigue': 3473, '#boring': 3474, '#techhouse': 3475, 'depression': 3476, 'musk': 3477, 'blogger': 3478, 'title': 3479, '📷': 3480, '😋': 3481, 'serial': 3482, '😮': 3483, 'supports': 3484, 'skill': 3485, 'beard': 3486, 'combination': 3487, 'ltd': 3488, 'jacket': 3489, 'monkey': 3490, 'king': 3491, '4g': 3492, 'integrated': 3493, 'specialist': 3494, '#apply': 3495, '#mgmt': 3496, '🍕': 3497, '#quoteoftheday': 3498, 'constantly': 3499, 'formula': 3500, 'kicked': 3501, '#cibsunday': 3502, '#drinks': 3503, 'pc-xbox-ps': 3504, 'snowing': 3505, 'caused': 3506, '#bigdatahttps': 3507, 'tn': 3508, '🥁': 3509, 'rising': 3510, 'victory': 3511, 'decorate': 3512, '=)': 3513, 'manage': 3514, '#doctailor': 3515, '#smartcontract': 3516, 'carter': 3517, 'pregnant': 3518, '#phone': 3519, '#print': 3520, 'committed': 3521, 'kimmel': 3522, 'swing': 3523, 'owned': 3524, 'owns': 3525, 'launched': 3526, '#repost': 3527, '#chat': 3528, 'ensure': 3529, 'joined': 3530, 'embarrassed': 3531, 'ladies': 3532, 'liking': 3533, 'rude': 3534, 'employee': 3535, '#interview': 3536, '#exam': 3537, '#parents': 3538, 'passive': 3539, '➖': 3540, 'foul': 3541, 'legislation': 3542, 'handy': 3543, 'forgotten': 3544, 'tbolton': 3545, 'ho': 3546, 'hang': 3547, 'wild': 3548, 'accept': 3549, 'abroad': 3550, '#exid': 3551, 'exid': 3552, '#내일해': 3553, 'teaser': 3554, '#하니': 3555, '#정화2018': 3556, '#teaser': 3557, '#컴백': 3558, 'diversity': 3559, 'standardized': 3560, '#stocks': 3561, 'lazy': 3562, 'blahhh': 3563, 'sink': 3564, 'crew': 3565, 'bye': 3566, 'rock': 3567, '#elearning': 3568, '#ukedchat': 3569, '#microsoft': 3570, 'resolved': 3571, 'xyo': 3572, 'blockchains': 3573, '#sub': 3574, 'rank': 3575, 'piss': 3576, 'republic': 3577, 'def': 3578, 'outstanding': 3579, '#cryptonews': 3580, 'seasons': 3581, '#funnymemes': 3582, 'passport': 3583, 'assuming': 3584, 'sister': 3585, 'smartphones': 3586, 'treating': 3587, '#babes': 3588, '#night': 3589, '#wife': 3590, 'expected': 3591, 'hamper': 3592, '🎤': 3593, 'ten': 3594, 'hopefully': 3595, 'charity': 3596, 'becoming': 3597, 'collusion': 3598, 'pray': 3599, 'fluent': 3600, 'accurate': 3601, 'miranda': 3602, 'generate': 3603, 'revenue': 3604, 'sean': 3605, 'finance': 3606, 'anna': 3607, 'sovereignty': 3608, 'pursuit': 3609, 'react': 3610, '#webdevelopment': 3611, 'choose': 3612, 'sort': 3613, '#purefitblog': 3614, '#medical': 3615, 'specially': 3616, 'actors': 3617, 'playlist': 3618, 'knife': 3619, 'giants': 3620, 'drawn': 3621, 'comeback': 3622, '#pm': 3623, 'ed': 3624, 'bch': 3625, 'ltc': 3626, 'xmr': 3627, '#wakeupamerica': 3628, '#republicans': 3629, '#resist': 3630, '#resistance': 3631, '#verified': 3632, '#actorlife': 3633, 'besides': 3634, 'flying': 3635, 'brock': 3636, 'suck': 3637, 'legacy': 3638, '#bible': 3639, '#greatnorthernmarch': 3640, 'filmed': 3641, 'secured': 3642, 'attacked': 3643, 'allegations': 3644, 'narendra': 3645, 'confused': 3646, 'chaiwala': 3647, 'wondered': 3648, 'semifinals': 3649, 'query': 3650, 'pocs': 3651, 'loyola': 3652, '#datadriven': 3653, 'measures': 3654, 'arming': 3655, '#house': 3656, 'location': 3657, 'listed': 3658, 'crap': 3659, 'focus': 3660, 'continue': 3661, 'marches': 3662, '#sun': 3663, 'gods': 3664, 'ability': 3665, 'suppose': 3666, 'asset': 3667, '#management': 3668, 'royale': 3669, 'mode': 3670, 'client': 3671, 'insurance': 3672, 'ethical': 3673, 'improvement': 3674, '#beats': 3675, '#glutenfree': 3676, 'delicious': 3677, 'innovations': 3678, 'ear': 3679, 'garage': 3680, 'fixed': 3681, '#shoes': 3682, '#drunk': 3683, '#cheers': 3684, 'judas': 3685, '#married': 3686, 'cardio': 3687, 'boring': 3688, 'hundreds': 3689, 'addresses': 3690, '#joking': 3691, '#sunrise': 3692, 'hotel': 3693, '#english': 3694, '#spanish': 3695, '#turkish': 3696, 'trx': 3697, 'tools': 3698, 'democrats': 3699, 'wrote': 3700, 'praise': 3701, 'shane': 3702, 'warne': 3703, '#cri': 3704, 'trap': 3705, '#foodie': 3706, 'bloody': 3707, 'distributing': 3708, 'associate': 3709, '#retail': 3710, 'va': 3711, 'fo': 3712, 'weak': 3713, 'utah': 3714, 'semi': 3715, 'offensive': 3716, '#think2018': 3717, 'headlines': 3718, 'apr': 3719, 'doctors': 3720, 'mate': 3721, 'nutrition': 3722, 'lied': 3723, '#stereotypes': 3724, '#laughs': 3725, 'wear': 3726, 'challenged': 3727, 'carefully': 3728, '#th': 3729, 'civilian': 3730, 'entering': 3731, 'si': 3732, 'console': 3733, '#logodesign': 3734, '#graphics': 3735, 'kick': 3736, 'nap': 3737, 'heavy': 3738, 'fighting': 3739, 'weapon': 3740, 'served': 3741, 'judgement': 3742, 'holder': 3743, 'pace': 3744, '#why': 3745, 'adsigma': 3746, 'poisoning': 3747, '#real': 3748, '#cambridge': 3749, '#analytica': 3750, '#invested': 3751, 'contribute': 3752, 'z': 3753, 'rainbow': 3754, 'normal': 3755, 'buying': 3756, 'mattress': 3757, 'proper': 3758, '#tomorrow': 3759, 'represent': 3760, '#sem': 3761, 'quote': 3762, 'developers': 3763, 'principle': 3764, 'destroy': 3765, 'intended': 3766, 'mental': 3767, 'streaming': 3768, 'raspberry': 3769, 'whoa': 3770, '#gasup': 3771, 'explaining': 3772, 'q': 3773, '🎀': 3774, 'walls': 3775, 'shouldnt': 3776, '#ccw': 3777, 'airdropping': 3778, 'acts': 3779, 'pointing': 3780, 'snyder': 3781, '#fineart': 3782, '#decor': 3783, '#tshirts': 3784, '#storytelling': 3785, 'fn': 3786, '#1a': 3787, '#motivational': 3788, '#linkedin': 3789, 'karma': 3790, '#cctvfrom': 3791, '#bank': 3792, '#robbery': 3793, 'guyprotected': 3794, 'inthe': 3795, 'correctly': 3796, 'popcorn': 3797, 'agents': 3798, '#tennis': 3799, 'cutting': 3800, '#nytimes': 3801, '#doge': 3802, '#xmr': 3803, 'iii': 3804, 'rd': 3805, 'acc': 3806, 'spotlight': 3807, 'lived': 3808, '#minecraftmodding': 3809, 'mn': 3810, '#computer': 3811, 'computer': 3812, 'engineering': 3813, 'itty': 3814, 'bitty': 3815, 'hodgepodgedays': 3816, '#stuttgart': 3817, '#germany': 3818, '#earth': 3819, '#iq': 3820, 'herndon': 3821, '#playing': 3822, 'removed': 3823, 'multiplayer': 3824, 'suspicious': 3825, 'crossed': 3826, 'helps': 3827, 'snack': 3828, '10th': 3829, '✌': 3830, '#selfie': 3831, '🐥': 3832, 'differently': 3833, 'disgrace': 3834, '#ausvsa': 3835, 'bite': 3836, 'aka': 3837, 'stove': 3838, '#naija': 3839, 'files': 3840, 'seeds': 3841, '18th': 3842, '#affiliatemarketing': 3843, '#mlm': 3844, 'auditing': 3845, '#wwe': 3846, 'wrestlemania': 3847, '#cryptocurrencies': 3848, 'ig': 3849, 'glitch': 3850, '#all': 3851, '#ifttt': 3852, 'specific': 3853, '👈': 3854, 'iphone': 3855, 'shape': 3856, '#tiredaf': 3857, '#camp': 3858, '#program': 3859, 'handle': 3860, '#urban': 3861, '#presale': 3862, 'ronald_vanloon': 3863, 'connecticut': 3864, 'prizes': 3865, '#pakistan': 3866, 'danger': 3867, '#images': 3868, 'pic': 3869, '👤': 3870, 'emergency': 3871, 'investments': 3872, 'mini': 3873, 'frightened': 3874, 'trophy': 3875, 'cleaning': 3876, 'moved': 3877, 'lit': 3878, 'north': 3879, 'isolation': 3880, '#designs': 3881, 'including': 3882, 'plays': 3883, 'thus': 3884, '#narcissisticabuse': 3885, '#thursday': 3886, 'sentence.hes': 3887, '#learning': 3888, 'dublin': 3889, 'font': 3890, 'officer': 3891, 'born': 3892, 'shake-up': 3893, 'transferred': 3894, 'anytime': 3895, 'sarah': 3896, '#sarcast': 3897, 'generator': 3898, 'gps': 3899, 'indonesia': 3900, '#drones': 3901, '#gadgets': 3902, 'slut': 3903, '#outfit': 3904, 'beings': 3905, '#bitcoins': 3906, '#bcash': 3907, 'devops': 3908, 'camo': 3909, '#computers': 3910, 'knight': 3911, 'trilogy': 3912, 'impression': 3913, 'husband': 3914, 'girlfriend': 3915, 'hop': 3916, '🐷': 3917, '#italy': 3918, 'victims': 3919, 'purchased': 3920, '#feedly': 3921, 'explosive': 3922, 'complicated': 3923, 'prove': 3924, 'mckinsey': 3925, '#mgi': 3926, 'estimates': 3927, '#productivity-boostingopportunities': 3928, 'skills': 3929, 'duke': 3930, 'throws': 3931, 'dick': 3932, 'crying': 3933, 'alone': 3934, 'participation': 3935, 'j': 3936, 'hows': 3937, 'lyft': 3938, 'traditional': 3939, 'relate': 3940, 'wide': 3941, 'range': 3942, 'chocolate': 3943, 'lovers': 3944, 'alexa': 3945, 'sooooo': 3946, 'smile': 3947, 'bull': 3948, 'prevent': 3949, 'consumer': 3950, 'evolve': 3951, '#emmagonzalez': 3952, '#emma': 3953, 'vibes': 3954, 'subscribe': 3955, '#passion': 3956, 'chandelier': 3957, '#guncontrolnow': 3958, 'legs': 3959, 'narrative': 3960, '#sdgs': 3961, 'friendly': 3962, 'attend': 3963, 'held': 3964, '#snowflakes': 3965, 'destroyed': 3966, 'ancient': 3967, 'hack': 3968, 'invited': 3969, 'hockey': 3970, 'boho': 3971, 'arguing': 3972, '19th': 3973, 'enjoyed': 3974, 'moscow': 3975, 'permanent': 3976, 'madness': 3977, 'anthem': 3978, 'meant': 3979, 'stones': 3980, 'melania': 3981, '#blockch': 3982, 'ecosystem': 3983, '#inspirational': 3984, 'alonso': 3985, 'naughty': 3986, '#sparkle': 3987, 'pitch': 3988, 'table': 3989, '#stockmarket': 3990, '#china': 3991, 'appreciated': 3992, 'vegetables': 3993, 'beans': 3994, 'promise': 3995, 'meddling': 3996, 'agenda': 3997, 'surprises': 3998, 'tutorial': 3999, 'compilation': 4000, 'interviews': 4001, '🤝': 4002, 'arrest': 4003, 'organized': 4004, 'fights': 4005, 'gas': 4006, '#espn': 4007, 'toddler': 4008, '#thailand': 4009, 'heads': 4010, 'queen': 4011, 'leather': 4012, 'agency': 4013, 'lee': 4014, '💖': 4015, '#cambridgeanalytica': 4016, 'plate': 4017, 'eur': 4018, '#freedomofspeech': 4019, 'economic': 4020, 'hrs': 4021, 'maga': 4022, '#pa': 4023, '#recipes': 4024, '#musichttps': 4025, 'hmm': 4026, 'branch': 4027, '#iartg': 4028, '#early': 4029, 'scale': 4030, '🎈': 4031, '#popular': 4032, '#snap': 4033, 'toward': 4034, '#emoji': 4035, '📲': 4036, 'present': 4037, 'protesting': 4038, 'classroom': 4039, 'ridge': 4040, 'several': 4041, 'inspiration': 4042, 'boobs': 4043, '#horny': 4044, 'quiet': 4045, 'felt': 4046, 'released': 4047, 'operator': 4048, 'anti': 4049, 'row': 4050, 'search': 4051, 'sydney': 4052, '#vettel': 4053, '🤨': 4054, 'unli': 4055, 'third': 4056, 'curtain': 4057, 'rate': 4058, 'cs': 4059, 'dollar': 4060, '#boy': 4061, 'category': 4062, '#selfcare': 4063, '#king': 4064, 'trend': 4065, '#fitfam': 4066, 'charles': 4067, '#app': 4068, 'quietly': 4069, 'ref': 4070, 'mueller': 4071, '#album': 4072, 'mcdavid': 4073, 'funko': 4074, 'historical': 4075, 'seattle': 4076, 'option': 4077, 'negative': 4078, '#theresistance': 4079, 'investigation': 4080, 'root': 4081, 'cub': 4082, 'unity': 4083, '#gamedev': 4084, '#blockchai': 4085, '😹': 4086, 'bsc': 4087, 'statistics': 4088, 'graduate': 4089, 'cheap': 4090, 'treats': 4091, 'pls': 4092, 'replies': 4093, 'beautifully': 4094, 'alexandria': 4095, '#terror': 4096, 'looked': 4097, 'rounds': 4098, '4k': 4099, 'dinner': 4100, 'apartment': 4101, 'introducing': 4102, 'qykbar': 4103, 'qyk': 4104, 'consume': 4105, 'alcohol': 4106, 'cloud.qyk': 4107, 'mortgage': 4108, 'offered': 4109, 'champagne': 4110, 'driven': 4111, '#videography': 4112, 'multiple': 4113, 'marched': 4114, '#airdr': 4115, '#accessories': 4116, 'rolled': 4117, '#rob': 4118, '#aaron': 4119, '#liv': 4120, '#washing': 4121, '#gunreformnow': 4122, 'meansget': 4123, 'penalty': 4124, 'entry': 4125, 'reliable': 4126, 'reputation': 4127, 'engage': 4128, '#tgif': 4129, '#stormysunday': 4130, '#strawman': 4131, 'hahaha': 4132, 'punishment': 4133, '#beer': 4134, '#lmfao': 4135, 'hydro': 4136, 'paradigm': 4137, 'interactions': 4138, 'answered': 4139, 'ripple': 4140, 'operating': 4141, 'asiimov': 4142, 'ain': 4143, 'christmas': 4144, 'require': 4145, 'volatility': 4146, '#nauticus': 4147, 'fired': 4148, 'codes': 4149, 'btcusd': 4150, 'hillarys': 4151, '#wearit': 4152, 'oclock': 4153, '#clock': 4154, '#following': 4155, 'spike': 4156, 'robotics': 4157, 'demand': 4158, 'fascinating': 4159, 'elite': 4160, 'overdose': 4161, 'remain': 4162, 'metallica': 4163, 'correct': 4164, 'wednesday': 4165, '🌍': 4166, 'wi-fi': 4167, 'luxury': 4168, 'landon': 4169, 'quot': 4170, 'ps4https': 4171, 'basket': 4172, 'meat': 4173, 'harvest': 4174, '️last': 4175, '️already': 4176, '️buy': 4177, 'net': 4178, 'cast': 4179, 'conservatives': 4180, 'anti-gun': 4181, 'rally': 4182, 'constitutional': 4183, 'inspirational': 4184, 'debt': 4185, '#gunviolence': 4186, '#marchforourlivesdc': 4187, '⠀': 4188, 'DG:DGDG': 4189, 'named': 4190, 'suspect': 4191, '#escuchando': 4192, 'lady': 4193, 'expert': 4194, 'machine': 4195, 'edit': 4196, '#twitchclips': 4197, 'canadian': 4198, 'houses': 4199, 'philadelphia': 4200, 'ne': 4201, 'authority': 4202, 'accounting': 4203, 'vr': 4204, 'disgusting': 4205, '#single': 4206, 'spree': 4207, 'promises': 4208, 'uneducated': 4209, 'strapped': 4210, '#cr_uk': 4211, '#negativemarketing': 4212, 'plus': 4213, '💥': 4214, '#drama': 4215, 'podcast': 4216, 't-shirt': 4217, 'suit': 4218, 'ignoring': 4219, 'michigan': 4220, 'lamborghini': 4221, 'bear': 4222, 'babe': 4223, '😻': 4224, 'standards': 4225, 'indians': 4226, '#inboundmarketing': 4227, '#dapp': 4228, 'combinator': 4229, 'w18': 4230, 'keys': 4231, '#logic': 4232, 'republican': 4233, 'production': 4234, '#cry': 4235, 'followed': 4236, '#cyber': 4237, '#newyork': 4238, '#france': 4239, '#florida': 4240, 'tracks': 4241, 'blogspot': 4242, 'pulling': 4243, 'aged': 4244, '#feminism': 4245, 'exposed': 4246, 'inner': 4247, 'circle': 4248, '∈': 4249, 'increases': 4250, 'hyped': 4251, 'derby': 4252, 'perform': 4253, '. .': 4254, 'naked': 4255, 'hmmmm': 4256, 'sunshine': 4257, '#mining': 4258, 'drunk': 4259, 'merely': 4260, 'coral': 4261, 'pink': 4262, 'saved': 4263, 'tiny': 4264, 'clients': 4265, '#sad': 4266, 'views': 4267, '#tshirtdesign': 4268, 'racism': 4269, 'led': 4270, '#etsyfinds': 4271, 'writer': 4272, 'sooo': 4273, 'hr': 4274, 'therapy': 4275, 'operations': 4276, '#banking': 4277, 'spray': 4278, 'condition': 4279, 'african': 4280, 'ty': 4281, '#pens': 4282, 'trauma': 4283, 'youd': 4284, 'nights': 4285, 'matt': 4286, 'irish': 4287, 'retweeted': 4288, 'strategic': 4289, 'bs': 4290, '#bot': 4291, 'prepaid': 4292, 'organic': 4293, 'scary': 4294, 'himself': 4295, 'meme': 4296, 'max': 4297, 'crave': 4298, 'planet': 4299, 'vegan': 4300, '🌎': 4301, 'venture': 4302, 'cia': 4303, 'showing': 4304, 'crimes': 4305, 'concepts': 4306, 'civil': 4307, 'voted': 4308, 'perish': 4309, 'researchers': 4310, 'aren': 4311, 'currencies': 4312, 'ivanka': 4313, 'socially': 4314, '#singapore': 4315, 'breakfast': 4316, 'preparing': 4317, '⚽': 4318, '🎼': 4319, 'floris': 4320, '™': 4321, '#earthtomoon': 4322, '#troll': 4323, 'lightning': 4324, 'labs': 4325, '#filecoin': 4326, 'ra': 4327, 'officials': 4328, 'stopping': 4329, '#sport': 4330, '#realmadrid': 4331, '#americangods': 4332, 'amirite': 4333, 'jail': 4334, 'catalan': 4335, 'speaker': 4336, '#bat': 4337, 'brother': 4338, 'invest': 4339, 'bills': 4340, 'thier': 4341, 'scheduled': 4342, 'twisting': 4343, 'necessary': 4344, 'score': 4345, 'trolls': 4346, 'photography': 4347, 'meaning': 4348, 'michael': 4349, 'DGDGDGDGDGDGDG': 4350, '👫': 4351, 'navratri': 4352, 'revolve': 4353, 'mouthwatering': 4354, 'arbi': 4355, 'kadhi': 4356, 'samak': 4357, 'rice': 4358, 'flames': 4359, 'annual': 4360, 'pe': 4361, '#military': 4362, '#mexico': 4363, 'turning': 4364, 'offering': 4365, '#featureme': 4366, 'worker': 4367, '#prayer': 4368, '#epic': 4369, '#witty': 4370, 'patience': 4371, 'degrees': 4372, '#plz': 4373, '#wisdom': 4374, 'exhibition': 4375, '#terrorist': 4376, 'podcasts': 4377, '#events': 4378, 'ambassador': 4379, 'wellness': 4380, 'russians': 4381, '#lean': 4382, '#agilecoach': 4383, '#advice': 4384, '#agiletips': 4385, 'meaningful': 4386, 'hacking': 4387, 'year-old': 4388, 'rifles': 4389, 'donuts': 4390, 'opinions': 4391, 'cousin': 4392, '24h': 4393, 'eh': 4394, 'perspective': 4395, 'shown': 4396, 'ver': 4397, '#congress': 4398, '#sundaymotivation': 4399, 'checking': 4400, 'suffering': 4401, 'complaints': 4402, 'ugh': 4403, 'affect': 4404, '#city': 4405, 'warrant': 4406, 'enforcement': 4407, 'mature': 4408, 'anonymous': 4409, 'bomoso': 4410, 'eu': 4411, 'combat': 4412, 't.co/vwkbxtdmee': 4413, 'extinction': 4414, 'beating': 4415, 'german': 4416, 'consistent': 4417, 'pet': 4418, '#p2p': 4419, 'pulled': 4420, '#now': 4421, '#not': 4422, '#nostalgia': 4423, 'nintendo': 4424, 'ledger': 4425, 'duo': 4426, 'mera': 4427, 'swaraj': 4428, 'serves': 4429, 'veterans': 4430, ':(': 4431, '5th': 4432, 'contents': 4433, 'heavenly': 4434, 'mallows': 4435, 'hamp': 4436, 'seek': 4437, 'awful': 4438, 'angeles': 4439, 'agrees': 4440, 'races': 4441, 'launches': 4442, '😁': 4443, 'climate': 4444, 'purge': 4445, 'types': 4446, 'journalism': 4447, '#virtualreality': 4448, 'billionaire': 4449, 'tshirt': 4450, '#ipl': 4451, '#nfl': 4452, 'womens': 4453, 'trucks': 4454, 'amongst': 4455, 'wherein': 4456, 'tony': 4457, 'topic': 4458, 'efforts': 4459, 'bridge': 4460, '#markzuckerberg': 4461, 'kansas': 4462, '#smallbiz': 4463, 'hai': 4464, '#atheistday': 4465, 'idea.how': 4466, 'ungrateful': 4467, 'heathen': 4468, 'bastards': 4469, 'hates': 4470, 'lines': 4471, 'regard': 4472, 'profile': 4473, 'mohammed': 4474, 'relatives': 4475, 'excellent': 4476, '#weekendvibes': 4477, '💬': 4478, 'herald': 4479, 'headline': 4480, '#crochet': 4481, 'successfully': 4482, 'vehicles': 4483, '#webdev': 4484, 'relationship': 4485, 'clue': 4486, 'posting': 4487, 'allah': 4488, 'singer': 4489, '#colinpowelles': 4490, 'episodes': 4491, 'cnn': 4492, 'blind': 4493, 'owner': 4494, 'membership': 4495, 'unlike': 4496, '#piercing': 4497, '#ride': 4498, '#pornstar': 4499, '#creampie': 4500, '#bigdick': 4501, '#czech': 4502, '#wet': 4503, '#closeup': 4504, '#gangbang': 4505, 'pinned': 4506, 'doors': 4507, 'tears': 4508, 'lifetime': 4509, '#parenting': 4510, 'result': 4511, 'meeting': 4512, 'cases': 4513, 'otherwise': 4514, 'wealth': 4515, 'basic': 4516, 'beta': 4517, '⤵': 4518, 'soooo': 4519, '#abc': 4520, 'anxiety': 4521, 'ranking': 4522, 'aws': 4523, 'influence': 4524, 'twice': 4525, 'heading': 4526, '#fatloss': 4527, '#chimaera': 4528, 'mess': 4529, 'baltimore': 4530, '#potus': 4531, '#cyberframe': 4532, 'addition': 4533, '#share': 4534, '#wattpad': 4535, '2018https': 4536, '#kidding': 4537, 'gin': 4538, '#spoonie': 4539, 'notice': 4540, 'cooking': 4541, '#saturdaymorning': 4542, 'haha': 4543, 'frieza': 4544, 'innovative': 4545, 'pakistan': 4546, 'solid': 4547, 'activity': 4548, '#examwarriors': 4549, 'sharia': 4550, '#musicnews': 4551, '#dank': 4552, '#ar': 4553, 'returns': 4554, '#bluewave2018': 4555, '#psl3': 4556, 'accepts': 4557, 'ibiza': 4558, '#thisisboring': 4559, '#thissucks': 4560, '#boo': 4561, '#cmpunk': 4562, 'chanting': 4563, '🐶': 4564, 'everyday': 4565, 'possibly': 4566, '#deephouse': 4567, '#oregon': 4568, '50s': 4569, '#marijuana': 4570, 'cherry': 4571, '#parties': 4572, 'enthusiasm': 4573, 'skychain': 4574, 'germanys': 4575, 'dusseldorf': 4576, 'causestense': 4577, 'pilots': 4578, 'passengers': 4579, 'protest': 4580, 'solved': 4581, '#update': 4582, 'belief': 4583, '💤': 4584, 'tesla': 4585, 'encourage': 4586, '#spacex': 4587, '#elonmusk': 4588, 'bobby': 4589, 'yellen': 4590, '#fomc': 4591, '#photographer': 4592, '#mossy': 4593, 'glenn': 4594, '#panorama': 4595, 'bonfire': 4596, '#ambit': 4597, 'beka': 4598, 'entrepreneur': 4599, '#msm': 4600, 'schoolers': 4601, '#andrewpollock': 4602, 'disinvited': 4603, 'condemned': 4604, '#en': 4605, 'hadnt': 4606, 'follows': 4607, 'passes': 4608, '#intelligence': 4609, 'branded': 4610, 'hail': 4611, 'mania': 4612, '#paginanuova': 4613, '#thursdaythoughts': 4614, '🤞': 4615, '#dog': 4616, '🔊': 4617, 'steady': 4618, 'lte': 4619, '#service': 4620, 'hero': 4621, 'ownership': 4622, 'demanding': 4623, 'proving': 4624, 'aims': 4625, 'asia': 4626, 'silicon': 4627, 'valley': 4628, 'gardens': 4629, 'department': 4630, '#garden': 4631, 'superbowl': 4632, '#bobsrepair': 4633, 'f1': 4634, 'pumpkin': 4635, '#manufacturing': 4636, 'sounded': 4637, '🎸': 4638, 'legends': 4639, 'deals': 4640, 'popularity': 4641, '7m': 4642, '7b': 4643, 'theft': 4644, '#drawings': 4645, '#manga': 4646, 'digest': 4647, 'peeps': 4648, 'touchy': 4649, 'sniff': 4650, 'º': 4651, 'gui': 4652, 'nearly': 4653, 'slick': 4654, '#progress': 4655, 'seed': 4656, '#decentralized': 4657, 'construct': 4658, 'risks': 4659, 'addressing': 4660, '#thexfiles': 4661, 'confuse': 4662, '#isntitfunnywhen': 4663, '#istandul': 4664, '#tur': 4665, '#cushion': 4666, '15s': 4667, '#nintendoswitch': 4668, '#moon': 4669, 'fell': 4670, 'audio': 4671, 'dried': 4672, 'jailed': 4673, 'grayson': 4674, 'duels': 4675, 'attacking': 4676, 'canes': 4677, 'whatnot.apparently': 4678, 'archaic': 4679, 'back.just': 4680, '#kickstarter': 4681, 'publish': 4682, 'warming': 4683, '#customers': 4684, 'powered': 4685, 'visitors': 4686, 'crowdfund': 4687, 'festival': 4688, '#indiegogo': 4689, 'psychology': 4690, 'ashamed': 4691, 'japanese': 4692, 'commercials': 4693, 'bot': 4694, 'yahoo': 4695, 'thru': 4696, 'childrens': 4697, 'feels': 4698, '#teachers': 4699, 'argument': 4700, 'claiming': 4701, 'lip': 4702, 'jess': 4703, 'glynne': 4704, 'macklemore': 4705, 'caplen': 4706, '#fridayfun': 4707, '#giveitatry': 4708, '#dothis': 4709, '#dontreallydothis': 4710, 'fundamentals': 4711, '#unit': 4712, '#ferrari': 4713, 'serenity': 4714, 'whitepaper': 4715, 'bash': 4716, 'engine': 4717, 'daniel': 4718, 'australians': 4719, 'blondes': 4720, '#rockmusic': 4721, '#popmusic': 4722, 'hollywood': 4723, 'dis': 4724, 'faith': 4725, 'venue': 4726, 'telegra': 4727, 'preserve': 4728, 'peak': 4729, 'DG.DGDGDGDGDGDGDG': 4730, '-DG.DGDGDGDGDGDGDGDG': 4731, 'DG.DGDGDGDGDGDG': 4732, '-DG.DGDGDGDGDG': 4733, '#usd': 4734, '#substratum': 4735, '#eu': 4736, '#hits': 4737, '#disco': 4738, 'crunchy': 4739, 'citizen': 4740, '#currency': 4741, 'mentioned': 4742, '#thesarcasme': 4743, 'checked': 4744, 'advocating': 4745, 'application': 4746, '#assaultweaponsban': 4747, 'stanford': 4748, '#rip': 4749, 'unsuccessful': 4750, '🇮': 4751, 'easiest': 4752, 'socialism': 4753, 'jared': 4754, 'realization': 4755, 'teen': 4756, 'rebublican': 4757, 'socal': 4758, 'nam': 4759, '#couple': 4760, 'gap': 4761, 'ronda': 4762, 'rousey': 4763, 'jazz': 4764, 'singing': 4765, '#nottingham': 4766, '#cocktails': 4767, '#vocals': 4768, '#cat': 4769, '#best': 4770, '#informative': 4771, '#helpful': 4772, '#korea': 4773, 'symptoms': 4774, '#lifequotes': 4775, 'dietary': 4776, 'tuesday': 4777, 'backing': 4778, 'assad': 4779, 'evils': 4780, 'thy': 4781, 'shutters': 4782, 'silver': 4783, 'carriers': 4784, '#dreamers': 4785, '😈': 4786, 'private': 4787, '#supplychain': 4788, '#ioe': 4789, '#arti': 4790, 'divide': 4791, '#calm': 4792, '#modest': 4793, 'restlessness': 4794, 'luckily': 4795, 'courtesy': 4796, 'slips': 4797, '#cambridgeanalytics': 4798, 'cad': 4799, 'DGDG-DGDG': 4800, 'btg': 4801, 'hurts': 4802, 'incoming': 4803, 'objects': 4804, 'lo': 4805, 'lesnar': 4806, 'deserving': 4807, 'wh': 4808, 'grandkids': 4809, 'grateful': 4810, 'literal': 4811, 'insomnia': 4812, 'indian': 4813, 'pieces': 4814, 'bible': 4815, '#jesus': 4816, 'combine': 4817, 'restart': 4818, 'romania': 4819, 'mile': 4820, '#buildthewall': 4821, 'wish': 4822, '#victory': 4823, '#really': 4824, 'egotists': 4825, 'consecutive': 4826, '1am': 4827, 'accusing': 4828, '🍒': 4829, '#ads': 4830, 'gina': 4831, '#ginamiller': 4832, 'sings': 4833, 'vocabulary': 4834, 'complex': 4835, 'overall': 4836, 'fetch': 4837, 'issuer': 4838, '#blockchainhttps': 4839, 'flattering': 4840, '#markanthonyconditt': 4841, 'eight': 4842, 'reduce': 4843, 'detection': 4844, '#bigbrother': 4845, 'guards': 4846, 'retired': 4847, 'practices': 4848, '#thechewb': 4849, 'changer': 4850, 'presentation': 4851, 'mall': 4852, 'upload': 4853, 'bulk': 4854, 'bedroom': 4855, 'overwatch': 4856, 'population': 4857, 'creators': 4858, 'jl': 4859, 'abilities': 4860, 'dehydrates': 4861, 'easilyeveryone': 4862, '#heros': 4863, 'communicate': 4864, 'valued': 4865, '#fortnitebr': 4866, '#fortnitebattleroyal': 4867, 'participated': 4868, 'kings': 4869, 'gamer': 4870, '#supportsmallstreamers': 4871, '#mixer': 4872, '#fashionweek': 4873, '#look': 4874, 'dedicated': 4875, 'recruitment': 4876, 'finserve': 4877, 'description': 4878, '#illegal': 4879, 'wars': 4880, '#lego': 4881, '#smallyoutuber': 4882, 'overrated': 4883, 'forest': 4884, 'pence': 4885, '#rockandroll': 4886, '#electronica': 4887, '#tight': 4888, '#followers': 4889, '#f4f': 4890, '#followforfollow': 4891, 'trains': 4892, 'privatised': 4893, 'mistakes': 4894, 'decent': 4895, 'superior': 4896, 'letting': 4897, '#recipe': 4898, 'designed': 4899, 'spice': 4900, 'kitchen': 4901, 'tragedy': 4902, 'securitys': 4903, '#amazonprime': 4904, 'trippy': 4905, '#sukkhi': 4906, '#drugs': 4907, '#drink': 4908, 'wth': 4909, '#dragonball': 4910, '#bulma': 4911, '#oppai': 4912, 'becomes': 4913, 'worldopoly': 4914, '#animes': 4915, 'spy': 4916, 'remains': 4917, 'comedic': 4918, 'undertones': 4919, '#womentellall': 4920, 'quiz': 4921, '#meditation': 4922, 'filter': 4923, 'maps': 4924, 'plugin': 4925, 'hall': 4926, '💗': 4927, 'intro': 4928, '#reverbnation': 4929, 'blow': 4930, 'fairfax': 4931, '#fairfaxvillaes': 4932, 'mavro': 4933, 'prepared': 4934, '#mavro': 4935, '#cryptocurre': 4936, 'kimgarst': 4937, '#pacoarmero': 4938, 'jeez': 4939, 'skyrim': 4940, 'dropped': 4941, 'hated': 4942, 'joking': 4943, 'journalist': 4944, 'charging': 4945, 'tx': 4946, 'satoshi': 4947, '€': 4948, 'denizens': 4949, '#eat': 4950, 'throughout': 4951, '#funnypics': 4952, 'pyramid': 4953, 'ordered': 4954, '#moscow': 4955, 'exchanges': 4956, '#ysign': 4957, 'albany': 4958, 'fortunate': 4959, 'decisive': 4960, 'policies': 4961, '#etu': 4962, 'bitcoins': 4963, '#austinbombing': 4964, 'stayed': 4965, 'parchment': 4966, 'quill': 4967, 'pen': 4968, 'pounds': 4969, 'organizations': 4970, 'hosted': 4971, '#justsayin': 4972, '#blessed': 4973, 'thought-provoking': 4974, '#tpiotd': 4975, '#absurd': 4976, '#futball': 4977, '#3novices': 4978, 'jewelry': 4979, 'sporting': 4980, '3novices': 4981, '#europe': 4982, 'darling': 4983, '#monstax': 4984, '#dividedstates': 4985, '#dreams': 4986, 'nats': 4987, '#memeoftheday': 4988, 'pal': 4989, '#ebay': 4990, 'emojis': 4991, 'work.if': 4992, '#postcard': 4993, '#eddm': 4994, '#direct': 4995, '#gustpost': 4996, '#flyers': 4997, '#businesscard': 4998, '#momlife': 4999}\n",
      "[9, 71, 67, 7, 11, 74, 53, 23, 56, 78, 75, 21, 76, 79, 70, 80, 15, 77, 72, 48, 12]\n"
     ]
    }
   ],
   "source": [
    "vocab = vocabulary.Vocabulary(utils.flatten(train_sentences),5000)\n",
    "x_ids = vocab.words_to_ids(train_sentences[0])\n",
    "print(\"x_ids =\", vocab.word_to_id)\n",
    "print(x_ids)"
   ]
  },
  {
   "cell_type": "code",
   "execution_count": 5,
   "metadata": {},
   "outputs": [
    {
     "name": "stdout",
     "output_type": "stream",
     "text": [
      "[[9, 71, 67, 7, 11, 74, 53, 23, 56, 78, 75, 21, 76, 79, 70, 80, 15, 77, 72, 48, 12], [9, 4585, 14, 2, 1066, 370, 167, 349, 612, 4586, 3477, 4, 2, 4587, 4588, 83, 684, 12], [9, 4589, 343, 6, 2803, 858, 8, 28, 25, 47, 123, 20, 2, 455, 455, 455, 417, 46, 2, 2, 2, 2, 83, 4], [9, 1067, 181, 2804, 212, 18, 2805, 52, 2349, 20, 6, 132, 5, 986, 384, 7, 371, 820, 10, 429, 177, 4590, 10, 4591], [3478, 2806, 729, 344, 376, 256, 1584, 11, 921, 10, 4, 2, 2, 2, 66, 7, 859, 11, 112, 3479, 404, 20, 1161, 37, 612, 2], [1162, 13, 6, 132, 3480, 3481, 248, 1068, 470, 1996, 4592, 2, 4], [19, 647, 94, 6, 264, 922, 35, 182, 7, 31, 18, 588, 2], [9, 4593, 4594, 385, 4595, 63, 4596, 248, 4, 4], [9, 771, 4597, 2807, 37, 730, 4598, 2, 5, 4598, 15, 11, 3482, 4599, 14, 100, 2, 17, 2, 8, 730, 13, 2, 12], [9, 2, 7, 55, 6, 4600, 15, 1163, 8, 235, 731, 405, 4601, 86, 45, 1585, 321, 1997, 24, 283, 14, 129, 2, 6, 2, 12], [4, 12, 12, 12, 12, 12, 12, 12, 12, 12, 12, 12, 12, 12, 12, 12, 12, 12, 12, 12, 12, 12, 396, 732, 11, 109, 44, 987, 41, 923, 3, 13, 1428, 613, 614, 1429, 1303, 1430, 1431, 1432, 162, 988, 1433, 614, 1434, 1586, 772, 2350], [9, 24, 34, 142, 7, 95, 540, 8, 42, 19, 1164, 7, 2808, 11, 168, 20, 39, 13, 34, 540, 10, 4], [9, 116, 148, 11, 297, 18, 21, 236, 290, 259, 312, 345, 190, 228, 122, 249, 326, 43, 313, 91, 229, 24, 91, 350, 12], [250, 3483, 1069, 589, 91, 821, 3484, 91, 3485, 1070, 29, 91, 1165, 4], [3, 3, 130, 2, 10, 130, 1435, 45, 10, 10], [9, 2809, 4602, 37, 91, 1998, 157, 4603, 61, 1436, 38, 284, 2810, 45, 11, 569, 224, 4604, 6, 1166, 4605, 12], [250, 10, 181, 3486, 2, 191, 2, 7, 31, 131, 1765], [3, 148, 19, 117, 110, 733, 10, 4606, 285, 13, 27, 5, 19, 114, 265, 4607, 6, 507, 42, 27, 65, 418, 989, 28, 5, 19, 114, 69, 19, 990, 92, 6, 2, 29, 34, 2, 1071, 38, 33, 1437, 4608, 60, 5, 2], [9, 118, 773, 991, 195, 100, 822, 327, 2811, 471, 2811, 2812, 81, 2, 12], [158, 96, 171, 22, 33, 456, 171, 457, 171, 508, 648, 23, 4, 4]]\n"
     ]
    }
   ],
   "source": [
    "list_of_train_ids = list(map(vocab.words_to_ids, train_sentences))\n",
    "print(list_of_train_ids[0:20])\n",
    "\n",
    "\n",
    "list_of_validation_ids = list(map(vocab.words_to_ids, validation_sentences))\n",
    "\n",
    "list_of_test_ids = list(map(vocab.words_to_ids, test_sentences))\n"
   ]
  },
  {
   "cell_type": "code",
   "execution_count": 6,
   "metadata": {},
   "outputs": [
    {
     "data": {
      "text/plain": [
       "Counter({9: 1,\n",
       "         71: 1,\n",
       "         67: 1,\n",
       "         7: 1,\n",
       "         11: 1,\n",
       "         74: 1,\n",
       "         53: 1,\n",
       "         23: 1,\n",
       "         56: 1,\n",
       "         78: 1,\n",
       "         75: 1,\n",
       "         21: 1,\n",
       "         76: 1,\n",
       "         79: 1,\n",
       "         70: 1,\n",
       "         80: 1,\n",
       "         15: 1,\n",
       "         77: 1,\n",
       "         72: 1,\n",
       "         48: 1,\n",
       "         12: 1})"
      ]
     },
     "execution_count": 6,
     "metadata": {},
     "output_type": "execute_result"
    }
   ],
   "source": [
    "collections.Counter(list_of_train_ids[0])"
   ]
  },
  {
   "cell_type": "code",
   "execution_count": 7,
   "metadata": {},
   "outputs": [],
   "source": [
    "from scipy.sparse import csr_matrix \n",
    "def sparsify_data(list_of_ids):\n",
    "    row_indices = []\n",
    "    col_indices = []\n",
    "    values = []\n",
    "    rows = len(list_of_ids)\n",
    "\n",
    "    for row, x_ids in enumerate(list_of_ids):\n",
    "        x_fdict = collections.Counter(x_ids)\n",
    "        for wordid, count in x_fdict.items():\n",
    "            row_indices.append(row)       \n",
    "            col_indices.append(wordid)  # column is word id\n",
    "            values.append(count)        # value is count\n",
    "    x_sparse = csr_matrix((values, (row_indices, col_indices)),\n",
    "                              shape=[rows, vocab.size])\n",
    "    return x_sparse"
   ]
  },
  {
   "cell_type": "code",
   "execution_count": 8,
   "metadata": {},
   "outputs": [],
   "source": [
    "x_train_sparse = sparsify_data(list_of_train_ids)\n",
    "x_validation_sparse = sparsify_data(list_of_validation_ids)\n",
    "x_test_sparse = sparsify_data(list_of_test_ids)\n"
   ]
  },
  {
   "cell_type": "code",
   "execution_count": 9,
   "metadata": {},
   "outputs": [
    {
     "name": "stdout",
     "output_type": "stream",
     "text": [
      " acc: 91.29%, recall: 93.07%, precision: 89.76%, f1: 91.38%,\n"
     ]
    }
   ],
   "source": [
    "from sklearn.naive_bayes import MultinomialNB\n",
    "from sklearn.metrics import f1_score, accuracy_score, recall_score, precision_score\n",
    "\n",
    "nb = MultinomialNB(alpha =  0.1)\n",
    "nb.fit(x_train_sparse, train_labels)\n",
    "y_pred = nb.predict(x_test_sparse)\n",
    "\n",
    "\n",
    "\n",
    "\n",
    "\n",
    "f1 = f1_score(test_labels, y_pred)\n",
    "acc = accuracy_score(test_labels, y_pred)\n",
    "recall = recall_score(test_labels, y_pred)\n",
    "precision = precision_score(test_labels, y_pred)\n",
    "print(\" acc: {:.02%}, recall: {:.02%}, precision: {:.02%}, f1: {:.02%},\".format(acc, recall, precision, f1))\n"
   ]
  },
  {
   "cell_type": "code",
   "execution_count": 10,
   "metadata": {},
   "outputs": [],
   "source": [
    "linear_weights = nb.feature_log_prob_[1,:] - nb.feature_log_prob_[0,:]  # populate this with actual values\n",
    "\n",
    "top_negative_features = np.argsort(linear_weights)[0:100]\n",
    "top_positive_features = np.argsort(-linear_weights)[0:100]\n"
   ]
  },
  {
   "cell_type": "code",
   "execution_count": 11,
   "metadata": {},
   "outputs": [
    {
     "name": "stdout",
     "output_type": "stream",
     "text": [
      "Most negative features:\n",
      "  🔥 (-7.32)\n",
      "  #win (-7.14)\n",
      "  ↴ (-6.96)\n",
      "  #job (-6.84)\n",
      "  #giveaway (-6.82)\n",
      "  ⭐ (-6.76)\n",
      "  #hiring (-6.53)\n",
      "  #ico (-6.45)\n",
      "  🕰 (-6.45)\n",
      "  #photography (-6.39)\n",
      "  🎮 (-6.39)\n",
      "  💎 (-6.36)\n",
      "  🖥 (-6.34)\n",
      "  registration (-6.30)\n",
      "  cams (-6.26)\n",
      "  tokkens (-6.26)\n",
      "  #fortnite (-6.26)\n",
      "  #education (-6.24)\n",
      "  giveaway (-6.22)\n",
      "  token (-6.20)\n",
      "  airdrop (-6.16)\n",
      "  #competition (-6.14)\n",
      "  blockchain (-6.09)\n",
      "  crypto (-5.99)\n",
      "  es (-5.94)\n",
      "  telegram (-5.94)\n",
      "  #careerarc (-5.94)\n",
      "  #architecture (-5.88)\n",
      "  #elementary (-5.88)\n",
      "  #decoration (-5.79)\n",
      "  #nowplaying (-5.79)\n",
      "  summer (-5.79)\n",
      "  #robotics (-5.79)\n",
      "  #live (-5.75)\n",
      "  ico (-5.75)\n",
      "  #programming (-5.75)\n",
      "  #interiordesign (-5.72)\n",
      "  📢 (-5.69)\n",
      "  #tron (-5.69)\n",
      "  #ai (-5.65)\n",
      "  #rock (-5.65)\n",
      "  #startup (-5.61)\n",
      "  bitcoin (-5.57)\n",
      "  #cybersecurity (-5.57)\n",
      "  #iot (-5.57)\n",
      "  camp (-5.53)\n",
      "  #pop (-5.53)\n",
      "  #tokensale (-5.53)\n",
      "  ✔ (-5.44)\n",
      "  #airdrop (-5.44)\n",
      "  #fintech (-5.44)\n",
      "  #eth (-5.44)\n",
      "  digital (-5.40)\n",
      "  easter (-5.40)\n",
      "  #modeling (-5.40)\n",
      "  international (-5.40)\n",
      "  #security (-5.40)\n",
      "  🚀 (-5.40)\n",
      "  coin (-5.35)\n",
      "  #dance (-5.35)\n",
      "  #history (-5.30)\n",
      "  #hiphop (-5.30)\n",
      "  ➡ (-5.25)\n",
      "  #trx (-5.25)\n",
      "  recommend (-5.25)\n",
      "  #blockchain (-5.19)\n",
      "  #data (-5.19)\n",
      "  #jobs (-5.19)\n",
      "  💰 (-5.19)\n",
      "  #satoshi (-5.19)\n",
      "  #anime (-5.19)\n",
      "  tokens (-5.13)\n",
      "  #airdropnew (-5.13)\n",
      "  #nsfw (-5.13)\n",
      "  #breakingnews (-5.13)\n",
      "  #stemcamps (-5.13)\n",
      "  technology (-5.13)\n",
      "  #bethereum (-5.06)\n",
      "  #photos (-5.06)\n",
      "  #stem (-5.06)\n",
      "  #game (-5.06)\n",
      "  👇 (-5.06)\n",
      "  #infosec (-5.06)\n",
      "  luxuryliferss (-5.06)\n",
      "  fee (-5.06)\n",
      "  #sex (-5.06)\n",
      "  DGDG:DGDG (-5.06)\n",
      "  usd (-5.06)\n",
      "  items (-5.00)\n",
      "  symbol (-5.00)\n",
      "  – (-5.00)\n",
      "  #digital (-5.00)\n",
      "  #radio (-5.00)\n",
      "  #shopmycloset (-5.00)\n",
      "  #poshmark (-5.00)\n",
      "  wallet (-5.00)\n",
      "  #realestate (-4.92)\n",
      "  entered (-4.92)\n",
      "  #watch (-4.92)\n",
      "  #xbox (-4.92)\n",
      "\n",
      "Most positive features:\n",
      "  straight (7.77)\n",
      "  nicer (7.76)\n",
      "  ex (7.76)\n",
      "  #fbicorruption (7.75)\n",
      "  #comey (7.75)\n",
      "  #puns (6.37)\n",
      "  sarcasm (6.23)\n",
      "  surprise (6.15)\n",
      "  marr (6.00)\n",
      "  previ (5.97)\n",
      "  #humour (5.81)\n",
      "  form (5.66)\n",
      "  #funnyquotes (5.63)\n",
      "  #wit (5.56)\n",
      "  #nobel (5.56)\n",
      "  #funnysayings (5.52)\n",
      "  couldnt (5.36)\n",
      "  walking (5.36)\n",
      "  #wrestlemania (5.35)\n",
      "  agent (5.35)\n",
      "  wonder (5.26)\n",
      "  #snarky (5.26)\n",
      "  #yankees (5.26)\n",
      "  shot (5.26)\n",
      "  redbubble (5.26)\n",
      "  😒 (5.21)\n",
      "  #oneliner (5.15)\n",
      "  ice (5.15)\n",
      "  yay (5.09)\n",
      "  sense (5.09)\n",
      "  #linkinbio (5.09)\n",
      "  #next (5.03)\n",
      "  #notfeelingit (5.03)\n",
      "  gb (5.03)\n",
      "  #pinstripepride (5.03)\n",
      "  blew (5.03)\n",
      "  nudes (4.97)\n",
      "  #writer (4.97)\n",
      "  #stanton (4.97)\n",
      "  bullpen (4.97)\n",
      "  dare (4.97)\n",
      "  clearly (4.97)\n",
      "  #jokeoftheday (4.90)\n",
      "  assault (4.90)\n",
      "  photoshopped (4.90)\n",
      "  #irony (4.90)\n",
      "  #funquotes (4.90)\n",
      "  🤦 (4.83)\n",
      "  😱 (4.83)\n",
      "  #follwme (4.83)\n",
      "  spin (4.83)\n",
      "  snow (4.75)\n",
      "  genius (4.75)\n",
      "  sleeping (4.75)\n",
      "  #funwallart (4.75)\n",
      "  either (4.75)\n",
      "  #trum (4.75)\n",
      "  #follome (4.75)\n",
      "  normally (4.75)\n",
      "  #sayings (4.75)\n",
      "  #satire (4.75)\n",
      "  #author (4.75)\n",
      "  #newsnight (4.66)\n",
      "  🙃 (4.66)\n",
      "  #bloggerssparkle (4.66)\n",
      "  #americafirstmedia (4.66)\n",
      "  bombs (4.66)\n",
      "  #dystopiancomedy (4.66)\n",
      "  happens (4.66)\n",
      "  #bloggersrequired (4.66)\n",
      "  damn (4.66)\n",
      "  #readme (4.66)\n",
      "  #hisnamewassethrich (4.66)\n",
      "  🤷 (4.66)\n",
      "  #bloggerssupportingbloggers (4.66)\n",
      "  #secrets (4.66)\n",
      "  #sethrich (4.66)\n",
      "  #saywhat (4.66)\n",
      "  richs (4.66)\n",
      "  #corbyn (4.66)\n",
      "  supposed (4.66)\n",
      "  roommate (4.66)\n",
      "  #prepareyourselves (4.66)\n",
      "  dov (4.66)\n",
      "  #yesshedid (4.66)\n",
      "  friedman (4.66)\n",
      "  #whathappensnext (4.66)\n",
      "  #grlpwr (4.66)\n",
      "  #thehollowcrown (4.57)\n",
      "  bomb (4.57)\n",
      "  donald (4.57)\n",
      "  stressed (4.57)\n",
      "  themselves (4.57)\n",
      "  #laughter (4.57)\n",
      "  weapons (4.57)\n",
      "  obvious (4.57)\n",
      "  nobody (4.46)\n",
      "  waste (4.46)\n",
      "  theyve (4.46)\n",
      "  #memesdaily (4.46)\n"
     ]
    }
   ],
   "source": [
    "print(\"Most negative features:\")\n",
    "for idx in top_negative_features:\n",
    "    print(\"  {:s} ({:.02f})\".format(vocab.id_to_word[idx], \n",
    "                                    linear_weights[idx]))\n",
    "print(\"\")\n",
    "print(\"Most positive features:\")\n",
    "for idx in top_positive_features:\n",
    "    print(\"  {:s} ({:.02f})\".format(vocab.id_to_word[idx], \n",
    "                                    linear_weights[idx]))\n",
    "    \n"
   ]
  },
  {
   "cell_type": "code",
   "execution_count": 12,
   "metadata": {},
   "outputs": [
    {
     "data": {
      "text/plain": [
       "[[15.223133915609225, 847],\n",
       " [14.965058407186632, 342],\n",
       " [13.823467766792476, 300],\n",
       " [13.216119694079595, 775],\n",
       " [10.965648194848484, 585],\n",
       " [10.362002226302195, 409],\n",
       " [10.035153385354562, 314],\n",
       " [9.387737981543268, 271],\n",
       " [8.991363632546097, 410],\n",
       " [8.847556362336803, 395],\n",
       " [8.44153350464478, 621],\n",
       " [8.09078187367021, 855],\n",
       " [7.758889444138305, 582],\n",
       " [7.250589588382866, 540],\n",
       " [7.1846149817828575, 22],\n",
       " [7.090177483266814, 309],\n",
       " [7.048915483332337, 858],\n",
       " [6.730667201258257, 421],\n",
       " [6.585760481008663, 423],\n",
       " [6.155928645373436, 473],\n",
       " [5.940185057526435, 516],\n",
       " [5.6490432555499694, 176],\n",
       " [5.6163715347107654, 823],\n",
       " [5.388195398076903, 740],\n",
       " [5.273136999459183, 360],\n",
       " [4.9447085512005415, 652],\n",
       " [4.858775333360249, 1],\n",
       " [4.782645534285848, 219],\n",
       " [4.748313323451754, 53],\n",
       " [4.372939686036915, 115],\n",
       " [3.956363694463846, 281],\n",
       " [3.8799871119856277, 378],\n",
       " [3.686931494813898, 715],\n",
       " [3.621502856693354, 466],\n",
       " [3.593783350603104, 459],\n",
       " [3.4491213438095656, 640],\n",
       " [3.4406785635005335, 547],\n",
       " [3.2000141378123033, 98],\n",
       " [3.1969089032166096, 756],\n",
       " [3.194646814056057, 493],\n",
       " [3.159168268930131, 278],\n",
       " [2.7066073560868062, 565],\n",
       " [2.6500724229934463, 84],\n",
       " [2.615566472192114, 370],\n",
       " [2.5938321404767315, 259],\n",
       " [2.5938321404767315, 293],\n",
       " [2.5938321404767315, 471],\n",
       " [2.321613473946144, 675],\n",
       " [2.202379941969845, 258],\n",
       " [1.897780759921531, 231],\n",
       " [1.8436965636527702, 280],\n",
       " [1.819724366677093, 693],\n",
       " [1.6843659661828099, 402],\n",
       " [1.676871436266019, 636],\n",
       " [1.5762487866273887, 708],\n",
       " [1.4573197866371004, 352],\n",
       " [1.4163780566198625, 242],\n",
       " [1.3925740443095833, 737],\n",
       " [1.3434726292524886, 519],\n",
       " [1.2977479654066855, 288],\n",
       " [1.2197228061092815, 572],\n",
       " [1.2137171182491215, 776],\n",
       " [1.1193935371637238, 11],\n",
       " [0.9796448216901581, 657],\n",
       " [0.9562689095683652, 541],\n",
       " [0.9201105050994443, 81],\n",
       " [0.9073904114239042, 659],\n",
       " [0.8842752676268333, 355],\n",
       " [0.6984831074386193, 59],\n",
       " [0.6465034748843834, 532],\n",
       " [0.619794699559236, 528],\n",
       " [0.6101583516030189, 101],\n",
       " [0.521592614821742, 327],\n",
       " [0.35905063978529483, 286],\n",
       " [0.15837424496194785, 190],\n",
       " [0.15837424496194785, 376]]"
      ]
     },
     "execution_count": 12,
     "metadata": {},
     "output_type": "execute_result"
    }
   ],
   "source": [
    "predictions = nb.predict(x_test_sparse)\n",
    "wrong = predictions != test_labels\n",
    "logits = nb.predict_log_proba(x_test_sparse)\n",
    "\n",
    "def incorrect_confidence(wrong, logits, predictions):\n",
    "    indeces = np.where(wrong)\n",
    "    wrong_predictions = predictions[indeces]\n",
    "    wrong_logits = logits[indeces]\n",
    "    \n",
    "    return [[wrong_logits[i][value] - wrong_logits[i][1-value], indeces[0][i]] for i, value in enumerate(wrong_predictions)]\n",
    "\n",
    "sorted(incorrect_confidence(wrong, logits, predictions), key = lambda logit: -logit[0])\n"
   ]
  },
  {
   "cell_type": "code",
   "execution_count": 13,
   "metadata": {},
   "outputs": [
    {
     "name": "stdout",
     "output_type": "stream",
     "text": [
      "['ACCOUNT' 'ACCOUNT' 'that' 'was' 'very' 'thoughtful' '&' 'supportive'\n",
      " 'of' 'mr' '.' 'kraft' '.' 'all' 'the' 'other' '#nfl' 'teams' 'should'\n",
      " 'have' 'done' 'the' 'same' 'thing' '!']\n",
      "0\n",
      "1\n"
     ]
    }
   ],
   "source": [
    "index = 847\n",
    "print(test_sentences[index])\n",
    "print(test_labels[index])\n",
    "print(predictions[index])"
   ]
  },
  {
   "cell_type": "code",
   "execution_count": 14,
   "metadata": {},
   "outputs": [
    {
     "name": "stdout",
     "output_type": "stream",
     "text": [
      "['finished' 'a' 'way' 'out' 'with' 'ACCOUNT' 'yesterday' 'night' '.' 'i'\n",
      " 'really' 'like' 'the' 'game' '.' 'it' '’' 's' 'a' 'story' 'drive' 'coop'\n",
      " 'game' 'with' 'cool' 'protagonists' '.' 'DG-DG' 'hours' 'of' 'good' 'fun'\n",
      " ',' 'tension' 'and' 'surprises' '.' 'especially' 'during' 'the' 'final'\n",
      " 'hours' ',' 'this' 'game' 'feels' 'like' 'a' 'blockbuster' 'movie' '.'\n",
      " '#awayout' '#gaming']\n",
      "0\n",
      "1\n"
     ]
    }
   ],
   "source": [
    "index = 342\n",
    "print(test_sentences[index])\n",
    "print(test_labels[index])\n",
    "print(predictions[index])"
   ]
  },
  {
   "cell_type": "code",
   "execution_count": 15,
   "metadata": {},
   "outputs": [
    {
     "name": "stdout",
     "output_type": "stream",
     "text": [
      "['so' 'happy' 'the' 'old' '#conservative' ',' 'bigoted' ',' 'xenophobic'\n",
      " ',' 'homophobic' 'gun' 'idiots' 'are' 'dying' 'off' 'and' 'the' 'smart'\n",
      " 'new' 'kids' 'will' 'be' 'able' 'to' 'vote' 'this' 'november' '.' 'yup'\n",
      " '.' 'i' 'said' 'it' '.' 'good' 'riddance' 'to' 'trash' '.' '#gop' '#nra'\n",
      " '#bluewave' '#bluewave2018' '#racist' '#trumpsamerikkka' '#nazis' '#maga'\n",
      " '#marchforourlives']\n",
      "0\n",
      "1\n"
     ]
    }
   ],
   "source": [
    "index = 300\n",
    "print(test_sentences[index])\n",
    "print(test_labels[index])\n",
    "print(predictions[index])"
   ]
  },
  {
   "cell_type": "code",
   "execution_count": 16,
   "metadata": {},
   "outputs": [
    {
     "name": "stdout",
     "output_type": "stream",
     "text": [
      "['always' 'knew' 'this' 'was' 'false.but' 'heres' 'the' 'question' ','\n",
      " 'what' 'should' 'a' 'person' 'do' 'if' 'taken' 'to' 'an' 'atm' 'under'\n",
      " 'duress' '?' 'any' 'help' '?' 'LINK']\n",
      "0\n",
      "1\n"
     ]
    }
   ],
   "source": [
    "index = 775\n",
    "print(test_sentences[index])\n",
    "print(test_labels[index])\n",
    "print(predictions[index])"
   ]
  },
  {
   "cell_type": "code",
   "execution_count": 17,
   "metadata": {},
   "outputs": [
    {
     "name": "stdout",
     "output_type": "stream",
     "text": [
      "['#epl' 'goalkeepers' 'lookin' 'like' 'studs' 'today' '.' '#france'\n",
      " '#colombia' '#lloris' '#ospina' 'LINK']\n",
      "1\n",
      "0\n"
     ]
    }
   ],
   "source": [
    "index = 715\n",
    "print(test_sentences[index])\n",
    "print(test_labels[index])\n",
    "print(predictions[index])"
   ]
  },
  {
   "cell_type": "code",
   "execution_count": 18,
   "metadata": {},
   "outputs": [
    {
     "name": "stdout",
     "output_type": "stream",
     "text": [
      "\n",
      "Most positive emoji features:\n",
      "  😒 (5.21)\n",
      "  🤦 (4.83)\n",
      "  😱 (4.83)\n",
      "  🙃 (4.66)\n",
      "  🤷 (4.66)\n"
     ]
    }
   ],
   "source": [
    "top_emojis = [\"😒\",\"🤦\",\"🤷\",\"🙃\",\"😱\"]\n",
    "print(\"\")\n",
    "print(\"Most positive emoji features:\")\n",
    "for idx in top_positive_features:\n",
    "    word = vocab.id_to_word[idx]\n",
    "    if word in top_emojis:\n",
    "        print(\"  {:s} ({:.02f})\".format(vocab.id_to_word[idx], \n",
    "                                    linear_weights[idx]))\n"
   ]
  },
  {
   "cell_type": "code",
   "execution_count": null,
   "metadata": {
    "collapsed": true
   },
   "outputs": [],
   "source": []
  }
 ],
 "metadata": {
  "kernelspec": {
   "display_name": "Python 3",
   "language": "python",
   "name": "python3"
  },
  "language_info": {
   "codemirror_mode": {
    "name": "ipython",
    "version": 3
   },
   "file_extension": ".py",
   "mimetype": "text/x-python",
   "name": "python",
   "nbconvert_exporter": "python",
   "pygments_lexer": "ipython3",
   "version": "3.7.10"
  }
 },
 "nbformat": 4,
 "nbformat_minor": 2
}
