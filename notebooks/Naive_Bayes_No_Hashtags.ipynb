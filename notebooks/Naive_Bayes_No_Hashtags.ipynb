{
 "cells": [
  {
   "cell_type": "code",
   "execution_count": 3,
   "metadata": {},
   "outputs": [],
   "source": [
    "from __future__ import print_function\n",
    "from __future__ import division\n",
    "import collections\n",
    "import nltk\n",
    "import numpy as np\n",
    "from nltk.tokenize.casual import TweetTokenizer\n",
    "import sys;\n",
    "sys.path.insert(0, '../code')\n",
    "from w266_common import utils, vocabulary\n",
    "import re\n",
    "np.random.seed(266)"
   ]
  },
  {
   "cell_type": "code",
   "execution_count": 5,
   "metadata": {},
   "outputs": [],
   "source": [
    "import csv\n",
    "tokenizer = TweetTokenizer()\n",
    "x_data = []\n",
    "labels = []\n",
    "sentences = []\n",
    "     \n",
    "  \n",
    "with open('../data/merged_data_v3.csv', 'r') as csvfile:\n",
    "    linereader = csv.reader(csvfile, delimiter = '|')\n",
    "    for i, row in enumerate(linereader):\n",
    "        if i == 0:\n",
    "            continue\n",
    "        sentence, _, sarcasm = row\n",
    "        sentence = re.sub(\"RT @[^\\s]+:\", \"retweet\", sentence)\n",
    "        #sentences.append(sentence)\n",
    "        tokenized_words = tokenizer.tokenize(sentence)\n",
    "        x_tokens = utils.canonicalize_words(tokenized_words, hashtags =True)\n",
    "        index = np.argwhere(x_tokens==\"sarcasm\")\n",
    "        x_tokens = np.delete(x_tokens, index)\n",
    "        index = np.argwhere(x_tokens==\"sarcastic\")\n",
    "        x_tokens = np.delete(x_tokens, index)\n",
    "        x_data.append(x_tokens)\n",
    "        labels.append(int(sarcasm))\n",
    "\n",
    "\n",
    "shuffle_indices = np.random.permutation(np.arange(len(labels)))\n",
    "train_split_idx = int(0.7 * len(labels))\n",
    "test_split_idx  = int(0.9 * len(labels))\n",
    "\n",
    "train_indices = shuffle_indices[:train_split_idx]\n",
    "validation_indices = shuffle_indices[train_split_idx:test_split_idx]\n",
    "test_indices = shuffle_indices[test_split_idx:]\n",
    "\n",
    "x_data = np.array(x_data)\n",
    "labels = np.array(labels)\n",
    "train_sentences = x_data[train_indices]\n",
    "train_labels= labels[train_indices] \n",
    "validation_sentences = x_data[validation_indices]\n",
    "validation_labels = labels[validation_indices]\n",
    "test_sentences = x_data[test_indices]  \n",
    "test_labels = labels[test_indices]  \n",
    "\n"
   ]
  },
  {
   "cell_type": "code",
   "execution_count": 6,
   "metadata": {},
   "outputs": [
    {
     "name": "stdout",
     "output_type": "stream",
     "text": [
      "x_ids = {'<s>': 0, '</s>': 1, '<unk>': 2, 'HASHTAG': 3, 'ACCOUNT': 4, 'LINK': 5, '.': 6, 'the': 7, 'to': 8, ',': 9, 'retweet': 10, '!': 11, 'a': 12, '…': 13, 'of': 14, 'and': 15, 'is': 16, 'you': 17, 'in': 18, '?': 19, 'i': 20, 'for': 21, '-': 22, ':': 23, '...': 24, 'on': 25, '’': 26, 'this': 27, 'that': 28, 'it': 29, 'with': 30, 'DG': 31, 'be': 32, 'your': 33, 'DGDG': 34, 'my': 35, 'are': 36, 'we': 37, '&': 38, 'at': 39, 'all': 40, 'have': 41, ')': 42, 'so': 43, 'can': 44, '(': 45, 'not': 46, '️': 47, 's': 48, 'into': 49, 'rt': 50, '/': 51, 'just': 52, 'now': 53, 'guy': 54, 'no': 55, 'what': 56, 'out': 57, 'was': 58, 'our': 59, 'me': 60, 'from': 61, 'like': 62, 'by': 63, 'they': 64, 'will': 65, 'how': 66, 'happen': 67, 'but': 68, 'if': 69, 'believes': 70, 'couldnt': 71, 'straight': 72, 't': 73, 'nicer': 74, 'ex': 75, 'walking': 76, 'agent': 77, 'free': 78, 'its': 79, '#': 80, 'about': 81, 'get': 82, 'do': 83, 'more': 84, 'as': 85, 'people': 86, '😂': 87, 'his': 88, 'up': 89, '$': 90, 'who': 91, 'DGDGDG': 92, 'DGDGDGDG': 93, 'an': 94, 'he': 95, 'one': 96, 'us': 97, 'has': 98, 'or': 99, 'when': 100, 'here': 101, 'im': 102, 'new': 103, 'time': 104, 'good': 105, 'follow': 106, 'great': 107, 'best': 108, 'know': 109, 'their': 110, 'oh': 111, 'really': 112, 'via': 113, 'should': 114, '🔥': 115, 'why': 116, 'only': 117, 'see': 118, 'because': 119, 'make': 120, 'right': 121, 'dont': 122, '*': 123, 'there': 124, 'day': 125, 'love': 126, 'would': 127, ':/': 128, 'today': 129, 'well': 130, 'am': 131, 'please': 132, 'been': 133, 'way': 134, 'think': 135, 'sure': 136, '↴': 137, 'want': 138, 'need': 139, 'thats': 140, 'than': 141, 'some': 142, 'them': 143, '“': 144, 'check': 145, '..': 146, 'being': 147, 'were': 148, 'most': 149, 'thanks': 150, 'm': 151, 'go': 152, 'had': 153, 'march': 154, '”': 155, 'after': 156, 'don': 157, 'work': 158, 'quotes': 159, 'over': 160, 'win': 161, 'world': 162, 'never': 163, '⭐': 164, 'back': 165, 'her': 166, 'say': 167, 'hey': 168, 'those': 169, 'going': 170, '%': 171, 'first': 172, 'news': 173, 'enter': 174, 'said': 175, '🤣': 176, 'didnt': 177, 'look': 178, 'game': 179, 'these': 180, 'left': 181, 'give': 182, 'any': 183, 'too': 184, 'gun': 185, 'did': 186, 'online': 187, 'join': 188, 'yes': 189, 'let': 190, 'someone': 191, 'she': 192, 'very': 193, 'off': 194, 'life': 195, 'other': 196, 'then': 197, 'live': 198, 'must': 199, 'much': 200, 'could': 201, 'again': 202, 'white': 203, 'person': 204, 'latest': 205, 'even': 206, 'ask': 207, 'mind': 208, 'trump': 209, 'something': 210, 'thank': 211, '🕰': 212, 'many': 213, 'hard': 214, 'another': 215, 'every': 216, 'got': 217, 'sex': 218, 'take': 219, '>': 220, 'man': 221, 'always': 222, 'keep': 223, 'yeah': 224, 'david': 225, 'wow': 226, 're': 227, '🙄': 228, '🎮': 229, 'without': 230, 'DGDGDGDGDG': 231, 'top': 232, 'fan': 233, '@': 234, 'money': 235, 'better': 236, '💎': 237, 'last': 238, 'everyone': 239, '+': 240, '🖥': 241, 'ever': 242, 'worth': 243, 'sarcasm': 244, 'youre': 245, ']': 246, 'also': 247, 'thing': 248, 'community': 249, '[': 250, 'happy': 251, 'registration': 252, 'where': 253, 'team': 254, 'cant': 255, 'guns': 256, 'thought': 257, '£': 258, 'anyone': 259, 'chance': 260, 'real': 261, 'brexit': 262, 'job': 263, 'before': 264, 'cams': 265, 'tokkens': 266, 'surprise': 267, 'next': 268, 'down': 269, 'lol': 270, 'years': 271, 'games': 272, 'still': 273, 'come': 274, 'use': 275, 'giveaway': 276, 'd': 277, 'kids': 278, 'nothing': 279, 'read': 280, 'andrew': 281, 'changed': 282, 'days': 283, ';': 284, 'since': 285, 'history': 286, 'token': 287, 'mean': 288, 'school': 289, 'own': 290, 'little': 291, 'guys': 292, 'davis': 293, 'airdrop': 294, 'show': 295, 'help': 296, 'things': 297, 'start': 298, 'wait': 299, 'makes': 300, 'him': 301, 'doing': 302, 'lets': 303, 'https': 304, 'watch': 305, 'made': 306, 'marr': 307, 'blockchain': 308, 'tweet': 309, 'share': 310, 'twitter': 311, 'previ': 312, 'bad': 313, 'does': 314, 'DG.DG': 315, 'important': 316, 'find': 317, 'friends': 318, 'nice': 319, 'looking': 320, 'daily': 321, 'glad': 322, 'away': 323, 'long': 324, 'home': 325, 'fun': 326, 'anything': 327, 'women': 328, 'facebook': 329, 'stop': 330, 'r': 331, 'crypto': 332, 'feel': 333, 'data': 334, 'post': 335, 'buy': 336, 'try': 337, 'business': 338, 'tell': 339, 'which': 340, 'both': 341, 'needs': 342, 'spring': 343, 'few': 344, 'telegram': 345, 'music': 346, 'open': 347, 'shocked': 348, 'es': 349, 'once': 350, 'says': 351, 'year': 352, 'sale': 353, 'click': 354, 'using': 355, 'tag': 356, 'high': 357, 'morning': 358, 'season': 359, 'having': 360, 'run': 361, 'u': 362, '‘': 363, 'face': 364, 'two': 365, '❤': 366, 'definitely': 367, 'service': 368, 'through': 369, 'old': 370, 'coming': 371, 'add': 372, 'social': 373, 'market': 374, 'somebody': 375, 'change': 376, 'bring': 377, 'summer': 378, 'such': 379, 'around': 380, 'part': 381, 'big': 382, 'seems': 383, 'media': 384, 'actually': 385, 'same': 386, 'maybe': 387, 'may': 388, 'ico': 389, 'while': 390, 'arent': 391, 'form': 392, 'night': 393, 'during': 394, '\\u200d': 395, '~': 396, 'hilarious': 397, 'visit': 398, 'case': 399, 'making': 400, 'getting': 401, 'wrong': 402, 'favorite': 403, 'sunday': 404, 'learn': 405, 'call': 406, '📢': 407, 'official': 408, 'bonus': 409, 'soon': 410, 'forget': 411, 'isnt': 412, 'internet': 413, 'lowest': 414, '🏻': 415, 'intelligence': 416, 'everything': 417, 'support': 418, 'kind': 419, 'DGDGDGDGDGDG': 420, '✨': 421, 'hes': 422, 'book': 423, 'problem': 424, 'future': 425, 'finally': 426, 'funny': 427, 'welcome': 428, 'club': 429, 'done': 430, 'working': 431, 'blog': 432, 'thinking': 433, 'children': 434, 'lot': 435, 'hours': 436, 'laws': 437, 'price': 438, 'DG.DGDG': 439, 'beautiful': 440, 'usa': 441, 'true': 442, 'men': 443, 'group': 444, 'million': 445, '👍': 446, 'video': 447, 'week': 448, 'super': 449, 'name': 450, 'believe': 451, 'house': 452, 'probably': 453, 'end': 454, 'company': 455, 'available': 456, 'power': 457, 'didn': 458, 'illegal': 459, 'bitcoin': 460, 'between': 461, 'play': 462, 'least': 463, 'followers': 464, 'exchange': 465, 'htt': 466, 'e': 467, 'care': 468, 'gets': 469, 'perfect': 470, 'hour': 471, 'trading': 472, 'else': 473, 'link': 474, '😜': 475, 'playing': 476, 'whole': 477, 'human': 478, 'hate': 479, 'trying': 480, 'fake': 481, 'yet': 482, 'president': 483, 'sometimes': 484, 'uk': 485, '=': 486, 'giving': 487, 'boy': 488, 'hear': 489, 'camp': 490, 'single': 491, 'doesnt': 492, 'w': 493, 'project': 494, 'lives': 495, 'pay': 496, 'god': 497, 'plan': 498, 've': 499, '🤔': 500, 'friend': 501, 'safe': 502, ':)': 503, 'eth': 504, 'put': 505, 'words': 506, 'totally': 507, 'article': 508, 'remember': 509, 'hope': 510, '✔': 511, 'means': 512, 'ends': 513, 'song': 514, 'franchise': 515, 'full': 516, 'listen': 517, 'guess': 518, 'tonight': 519, 'though': 520, 'reason': 521, 'vs': 522, 'already': 523, 'isn': 524, 'winner': 525, 'national': 526, 'sorry': 527, 'rights': 528, 'users': 529, 'under': 530, 'goes': 531, 'l': 532, 'awesome': 533, 'each': 534, 'website': 535, 'DGDG.DGDG': 536, 'digital': 537, '🚀': 538, '🏼': 539, 'ok': 540, 'n': 541, 'shocking': 542, 'phone': 543, 'special': 544, 'might': 545, 'easter': 546, 'place': 547, 'vote': 548, 'international': 549, 'apply': 550, 'amazing': 551, 'event': 552, 'b': 553, 'black': 554, 'joke': 555, 'forward': 556, 'wonder': 557, 'shot': 558, 'credit': 559, 'ready': 560, 'proud': 561, 'country': 562, 'issue': 563, 'fans': 564, 'story': 565, 'horrible': 566, 'earth': 567, 'gift': 568, 'question': 569, 'yourself': 570, 'running': 571, 'comes': 572, 'redbubble': 573, 'coin': 574, 'america': 575, 'weird': 576, 'break': 577, 'view': 578, 'picture': 579, 'public': 580, 'poor': 581, 'simply': 582, '—': 583, 'young': 584, 'move': 585, 'stem': 586, 'competition': 587, 'f': 588, 'used': 589, 'lovely': 590, 'australia': 591, 'talent': 592, 'excited': 593, 'enjoy': 594, 'control': 595, 'popular': 596, 'told': 597, 'apparently': 598, 'c': 599, 'picks': 600, 'comment': 601, 'attack': 602, 'students': 603, 'dreams': 604, 'course': 605, 'understand': 606, 'largest': 607, 'account': 608, 'against': 609, 'easy': 610, 'DGDG/DG': 611, '😒': 612, 'food': 613, 'instead': 614, 'drink': 615, 'opening': 616, 'shit': 617, 'platform': 618, 'address': 619, 'saying': 620, 'ive': 621, 'seen': 622, 'order': 623, 'bank': 624, 'cool': 625, 'total': 626, 'party': 627, 'create': 628, 'ceo': 629, 'american': 630, 'upon': 631, 'point': 632, 'points': 633, 'hashtag': 634, 'ice': 635, 'idea': 636, 'death': 637, 'talk': 638, 'following': 639, 'lie': 640, 'recommend': 641, '1st': 642, 'fine': 643, 'myself': 644, 'royal': 645, 'brand': 646, 'april': 647, '😉': 648, 'pretty': 649, 'possible': 650, 'behind': 651, 'starting': 652, 'fair': 653, 'almost': 654, 'paying': 655, 'terrorist': 656, 'build': 657, 'art': 658, 'doesn': 659, 'DGDG/DGDG': 660, 'loving': 661, '➡': 662, '♀': 663, 'knows': 664, 'meet': 665, 'details': 666, 'fuck': 667, 'choice': 668, 'h': 669, 'kik': 670, 'list': 671, 'weeks': 672, 'security': 673, 'works': 674, 'failure': 675, 'breaking': 676, 'kill': 677, 'members': 678, 'successful': 679, 'enough': 680, 'cash': 681, 'violence': 682, 'smart': 683, 'ill': 684, 'police': 685, 'far': 686, 'marketing': 687, 'incredible': 688, 'sense': 689, '💰': 690, 'second': 691, 'ban': 692, 'yay': 693, 'blue': 694, '🇺': 695, 'looks': 696, 'taking': 697, 'ya': 698, 'gonna': 699, 'sounds': 700, 'past': 701, 'supply': 702, 'talking': 703, 'family': 704, 'cricket': 705, 'fit': 706, 'attention': 707, 'fund': 708, 'pick': 709, 'll': 710, 'gb': 711, 'blew': 712, 'miss': 713, 'girl': 714, '🙌': 715, 'ball': 716, 'started': 717, 'sides': 718, 'tokens': 719, 'technology': 720, 'male': 721, 'based': 722, 'anymore': 723, 'sweet': 724, 'sign': 725, 'european': 726, 'health': 727, '🇸': 728, 'industry': 729, 'red': 730, 'united': 731, 'heart': 732, 'write': 733, '👇': 734, 'fast': 735, 'nra': 736, '😎': 737, 'announce': 738, 'ones': 739, 'speak': 740, 'nudes': 741, 'takes': 742, 'o': 743, 'city': 744, 'americans': 745, 'helping': 746, 'league': 747, 'bullpen': 748, 'DGDG:DGDG': 749, 'movie': 750, 'law': 751, 'save': 752, 'small': 753, 'tech': 754, 'wont': 755, 'mother': 756, 'war': 757, 'hands': 758, 'times': 759, 'called': 760, 'wall': 761, 'usd': 762, 'smith': 763, 'level': 764, 'fee': 765, 'class': 766, 'happened': 767, 'dare': 768, 'commission': 769, 'dangerous': 770, 'cyber': 771, 'clearly': 772, 'five': 773, 'fire': 774, 'moment': 775, 'lead': 776, 'building': 777, 'banned': 778, 'forgot': 779, 'birthday': 780, 'code': 781, 'friday': 782, 'luxuryliferss': 783, 'word': 784, 'three': 785, 'featuring': 786, 'fox': 787, 'theyre': 788, 'protect': 789, 'politicians': 790, 'main': 791, '<': 792, 'head': 793, 'matter': 794, 'added': 795, 'able': 796, 'tax': 797, 'car': 798, 'network': 799, 'biggest': 800, 'prize': 801, '🎉': 802, 'classic': 803, 'truth': 804, 'assault': 805, '–': 806, 'seth': 807, 'system': 808, '😍': 809, 'ur': 810, 'state': 811, 'wants': 812, 'road': 813, 'wallet': 814, 'water': 815, 'humor': 816, 'evil': 817, 'items': 818, '🏆': 819, 'act': 820, 'experience': 821, 'pass': 822, 'bill': 823, 'photoshopped': 824, 'government': 825, 'y': 826, 'shooting': 827, 'month': 828, 'trade': 829, 'difference': 830, 'hit': 831, 'eat': 832, 'symbol': 833, 'weekend': 834, 'india': 835, 'states': 836, 'powell': 837, 'spin': 838, 'fix': 839, 'drive': 840, 'campaign': 841, 'match': 842, 'spread': 843, 'double': 844, 'id': 845, 'completely': 846, '！': 847, 'dream': 848, 'v': 849, '・': 850, 'global': 851, 'heres': 852, 'youve': 853, 'imagine': 854, '🙏': 855, 'others': 856, 'months': 857, 'rich': 858, 'congress': 859, 'cold': 860, 'lose': 861, 'spent': 862, 'theres': 863, 'tomorrow': 864, 'btc': 865, 'offer': 866, 'customer': 867, 'rs': 868, 'four': 869, 'entered': 870, 'risk': 871, 'absolutely': 872, '📸': 873, 'wonderful': 874, 'launch': 875, 'knew': 876, 'massive': 877, 'worked': 878, 'access': 879, 'allowed': 880, 'fucking': 881, 'ht': 882, 'england': 883, 'arizona': 884, 'feeling': 885, 'huge': 886, 'heard': 887, 'wanted': 888, 'step': 889, 'extra': 890, 'steve': 891, 'girls': 892, 'schools': 893, '😱': 894, '👉': 895, 'air': 896, 'number': 897, '🤦': 898, 't-shirts': 899, '3d': 900, 'stock': 901, 'leave': 902, 'turn': 903, '👏': 904, 'along': 905, 'set': 906, 'partnership': 907, 'below': 908, 'instagram': 909, 'de': 910, 'planned': 911, 'trust': 912, 'deal': 913, 'found': 914, 'luck': 915, 'different': 916, 'cloth-stagram': 917, 'exciting': 918, 'gaming': 919, 'obama': 920, 'hits': 921, 'todays': 922, 'image': 923, 'helped': 924, 'sad': 925, 'whats': 926, 'physical': 927, 'ideas': 928, 'less': 929, 'wouldnt': 930, 'starts': 931, 'went': 932, 'truly': 933, 'living': 934, 'g': 935, 'information': 936, 'groups': 937, 'teacher': 938, 'asking': 939, 'normally': 940, 'room': 941, 'update': 942, 'expensive': 943, 'watching': 944, 'review': 945, 'bit': 946, '):': 947, 'contest': 948, 'safer': 949, 'exactly': 950, '♂': 951, 'stuff': 952, '✈': 953, 'genius': 954, 'idiots': 955, 'issues': 956, 'note': 957, '🎁': 958, 'front': 959, 'player': 960, 'hair': 961, 'random': 962, 'snow': 963, 'sir': 964, 'send': 965, 'throw': 966, 'surprised': 967, 'sleeping': 968, 'either': 969, 'inside': 970, 'quite': 971, 'sports': 972, 'track': 973, 'size': 974, 'getreallux': 975, 'answer': 976, 'dear': 977, 'google': 978, 'photo': 979, 'pushing': 980, 'decided': 981, 'education': 982, 'killer': 983, 'jay': 984, 'happens': 985, '👊': 986, 'crazy': 987, 'gave': 988, 'info': 989, 'chat': 990, 'stay': 991, 'app': 992, 'download': 993, 'volume': 994, 'potential': 995, 'given': 996, 'learning': 997, 'p': 998, 'beat': 999, 'tv': 1000, 'ahead': 1001, 'line': 1002, 'report': 1003, 'eyes': 1004, 'posted': 1005, 'card': 1006, 'australian': 1007, 'respect': 1008, 'bio': 1009, '▶': 1010, 'until': 1011, 'father': 1012, 'loved': 1013, 'won': 1014, 'coffee': 1015, 'midnight': 1016, 'monday': 1017, 'become': 1018, 'projects': 1019, '♫': 1020, 'artists': 1021, 'close': 1022, 'hi': 1023, 'missed': 1024, 'supposed': 1025, 'prison': 1026, 'damn': 1027, 'rules': 1028, 'citizens': 1029, 'age': 1030, 'interesting': 1031, 'youll': 1032, 'richs': 1033, 'roommate': 1034, 'dov': 1035, 'friedman': 1036, 'sponsors': 1037, 'minutes': 1038, 'safety': 1039, 'tips': 1040, 'bombs': 1041, 'hot': 1042, 'lost': 1043, 'sending': 1044, 'series': 1045, 'middle': 1046, 'worry': 1047, 'award': 1048, 'manipulating': 1049, 'believing': 1050, 'strategy': 1051, 'guard': 1052, '🤷': 1053, '🏽': 1054, 'radio': 1055, 'amendment': 1056, 'final': 1057, 'lucky': 1058, 'spain': 1059, 'joe': 1060, 'quality': 1061, 'manager': 1062, 'yoga': 1063, 'questions': 1064, 'vintage': 1065, 'box': 1066, 'celebrate': 1067, 'edition': 1068, 'shes': 1069, 'position': 1070, 'product': 1071, 'towards': 1072, 'development': 1073, 'longer': 1074, 'DG/DG': 1075, 'center': 1076, 'jobs': 1077, 'ha': 1078, 'dead': 1079, 'printed': 1080, 'body': 1081, '🙃': 1082, 'race': 1083, 'pop': 1084, 'site': 1085, 'release': 1086, 'bottle': 1087, 'model': 1088, 'mike': 1089, 'page': 1090, 'finish': 1091, 'interested': 1092, 'privacy': 1093, 'especially': 1094, 'nature': 1095, 'bin': 1096, 'liberals': 1097, 'improve': 1098, 'yesterday': 1099, 'russian': 1100, 'wearing': 1101, 'bucket': 1102, 'john': 1103, 'clean': 1104, 'allow': 1105, '15th': 1106, 'govt': 1107, 'agree': 1108, '⬅': 1109, 'problems': 1110, 'reached': 1111, 'early': 1112, 'modi': 1113, 'weapons': 1114, '💋': 1115, 'deep': 1116, '😘': 1117, 'cryptocurrency': 1118, 'college': 1119, 'english': 1120, 'academy': 1121, 'announced': 1122, 'prayers': 1123, 'per': 1124, 'standing': 1125, '🏘': 1126, 'everybody': 1127, 'fortnite': 1128, 'fashion': 1129, 'reasons': 1130, 'legal': 1131, 'solution': 1132, 'short': 1133, 'train': 1134, 'decades': 1135, 'dude': 1136, 'bomb': 1137, 'paper': 1138, 'x': 1139, 'interview': 1140, '🌟': 1141, 'professional': 1142, 'madrid': 1143, 'london': 1144, '🎶': 1145, 'growth': 1146, 'response': 1147, 'racist': 1148, 'perhaps': 1149, 'came': 1150, 'donald': 1151, 'side': 1152, 'land': 1153, 'greatest': 1154, 'serious': 1155, 'turned': 1156, 'mr': 1157, 'havent': 1158, 'scared': 1159, 'town': 1160, '🌸': 1161, 'bringing': 1162, 'analyst': 1163, 'tweets': 1164, 'wasnt': 1165, 'together': 1166, 'dark': 1167, 'retro': 1168, 'angela': 1169, 'stressed': 1170, 'themselves': 1171, 'lat': 1172, 'facts': 1173, 'woman': 1174, 'activities': 1175, 'master': 1176, 'flat': 1177, '®': 1178, 'players': 1179, 'involved': 1180, 'DG-DG': 1181, 'th': 1182, 'increase': 1183, 'rather': 1184, '😝': 1185, 'wine': 1186, 'lots': 1187, 'obvious': 1188, 'mom': 1189, 'mail': 1190, 'd12': 1191, 'surely': 1192, 'speaking': 1193, 'nobody': 1194, 'taken': 1195, 'officially': 1196, 'v-bucks': 1197, 'episode': 1198, 'user': 1199, 'pro': 1200, 'ended': 1201, 'sleep': 1202, 'clear': 1203, 'version': 1204, 'saudi': 1205, 'prince': 1206, 'linda': 1207, 'babies': 1208, 'often': 1209, 'seem': 1210, 'mine': 1211, '2nd': 1212, 'forever': 1213, 'hat': 1214, 'partners': 1215, 'bolton': 1216, 'pack': 1217, 'spotify': 1218, 'currency': 1219, 'hub': 1220, 'dollars': 1221, 'ppl': 1222, 'waste': 1223, 'raised': 1224, 'kid': 1225, 'died': 1226, 'except': 1227, 'published': 1228, '☕': 1229, 'youtube': 1230, 'folks': 1231, 'realize': 1232, 'worthy': 1233, 'hand': 1234, 'hell': 1235, 'collection': 1236, 'garbage': 1237, 'defense': 1238, 'bed': 1239, 'bug': 1240, 'round': 1241, 'hopping': 1242, 'hobby': 1243, 'color': 1244, '.  .': 1245, 'fear': 1246, 'rest': 1247, 'star': 1248, '•': 1249, 'goodies': 1250, 'reading': 1251, 'store': 1252, 'test': 1253, 'proceedings': 1254, 'arpaio': 1255, 'libera': 1256, 'crime': 1257, 'russia': 1258, 'benefits': 1259, 'fantastic': 1260, 'liberal': 1261, 'generation': 1262, 'stick': 1263, 'detailed': 1264, 'canada': 1265, 'career': 1266, 'epic': 1267, 'park': 1268, 'hold': 1269, 'took': 1270, 'grand': 1271, '⇨': 1272, 'banking': 1273, 'wife': 1274, 'none': 1275, 'reporting': 1276, 'lies': 1277, 'usually': 1278, 'brilliant': 1279, 'merkel': 1280, 'board': 1281, 'simple': 1282, 'delightful': 1283, 'sexy': 1284, 'fight': 1285, 'sick': 1286, 'whos': 1287, 'ft': 1288, 'okay': 1289, '👌': 1290, 'piece': 1291, 'content': 1292, 'freedom': 1293, 'impact': 1294, 'busy': 1295, 'moving': 1296, 'disappointed': 1297, 'grade': 1298, 'awp': 1299, 'theyve': 1300, 'leader': 1301, 'example': 1302, 'currently': 1303, 'sun': 1304, 'cut': 1305, 'accounts': 1306, 'value': 1307, 'draw': 1308, 'plz': 1309, 'sitting': 1310, 'seriously': 1311, 'stories': 1312, 'drugs': 1313, 'dating': 1314, 'area': 1315, '🌷': 1316, 'writing': 1317, 'blame': 1318, 'celebration': 1319, 'background': 1320, 'space': 1321, 'tho': 1322, 'firm': 1323, 'ground': 1324, 'entire': 1325, 'created': 1326, 'stupid': 1327, '21st': 1328, 'murdered': 1329, 'soros': 1330, 'weve': 1331, 'instant': 1332, 'deserve': 1333, 'mention': 1334, 'whatever': 1335, 'fully': 1336, 'environment': 1337, 'anniversary': 1338, 'yea': 1339, 'jump': 1340, 'light': 1341, 'amazon': 1342, 'soul': 1343, 'creating': 1344, 'violent': 1345, 'reach': 1346, 'cause': 1347, 'cost': 1348, 'child': 1349, '😊': 1350, 'yup': 1351, 'winning': 1352, 'ago': 1353, 'attacks': 1354, 'success': 1355, 'insulting': 1356, 'taxes': 1357, 'era': 1358, 'youth': 1359, '12th': 1360, 'offers': 1361, 'paid': 1362, 'energy': 1363, 'autistic': 1364, 'powerful': 1365, 'film': 1366, 'anyway': 1367, 'skin': 1368, 'cafe': 1369, 'crore': 1370, 'bounty': 1371, 'goal': 1372, 'coverage': 1373, 'bomber': 1374, 'engineer': 1375, 'military': 1376, 'stream': 1377, '`': 1378, 'student': 1379, 'program': 1380, 'weekly': 1381, 'villa': 1382, 'trumps': 1383, 'upset': 1384, 'DGDGDG.DGDG': 1385, 'border': 1386, 'written': 1387, 'remove': 1388, 'claim': 1389, 'medical': 1390, 'driving': 1391, 'complete': 1392, 'design': 1393, 'die': 1394, 'featured': 1395, 'da': 1396, 'mark': 1397, 'betting': 1398, 'caught': 1399, '😩': 1400, '💕': 1401, 'church': 1402, 'thread': 1403, 'jesus': 1404, '🐣': 1405, 'sharing': 1406, 'families': 1407, 'major': 1408, 'modern': 1409, 'society': 1410, 'played': 1411, 'rain': 1412, 'omg': 1413, 'supporters': 1414, 'airport': 1415, 'british': 1416, 'tip': 1417, 'trip': 1418, 'ipl': 1419, 'baby': 1420, 'hypocrisy': 1421, '🚨': 1422, 'killed': 1423, 'deutsche': 1424, 'governed': 1425, 'street': 1426, 'filled': 1427, 'cities': 1428, 'binance': 1429, 'bulletproof': 1430, 'confidential': 1431, 'certain': 1432, 'winners': 1433, 'checkout': 1434, 'flight': 1435, 'steal': 1436, 'ai': 1437, 'beer': 1438, 'effort': 1439, 'needed': 1440, '. . .': 1441, 'programming': 1442, 'scandal': 1443, '🍀': 1444, 'millions': 1445, 'conversation': 1446, 'usual': 1447, 'hurt': 1448, 'beauty': 1449, 'gay': 1450, '⏬': 1451, 'seeing': 1452, 'performance': 1453, 'leaders': 1454, 'killing': 1455, '😫': 1456, 'austin': 1457, 'mining': 1458, 'status': 1459, 'bbc': 1460, 'chicago': 1461, 'common': 1462, 'protection': 1463, 'begin': 1464, 'fresh': 1465, '°': 1466, 'allows': 1467, 'mass': 1468, 'protecting': 1469, 'near': 1470, 'blood': 1471, 'corrupt': 1472, 'talal': 1473, 'cent': 1474, 'sarsour': 1475, 'connect': 1476, 'opportunities': 1477, 'junhoe': 1478, 'yunhyeong': 1479, 'mirror': 1480, '😑': 1481, 'block': 1482, 'ride': 1483, 'study': 1484, 'beginning': 1485, 'pm': 1486, 'parenthood': 1487, 'record': 1488, 'roll': 1489, 'opportunity': 1490, 'ji': 1491, 'christian': 1492, 'election': 1493, 'insert': 1494, 'congrats': 1495, 'leading': 1496, 'gold': 1497, 'hosting': 1498, 'cows': 1499, 'thoughts': 1500, 'mar': 1501, 'honestly': 1502, 'xrp': 1503, 'arab': 1504, 'doha': 1505, 'qatar': 1506, 'august': 1507, 'vouchers': 1508, 'berlin': 1509, 'flag': 1510, 'assets': 1511, 'educated': 1512, 'ads': 1513, 'superpower': 1514, 'injured': 1515, '⏰': 1516, 'adult': 1517, 'built': 1518, 'spending': 1519, 'customers': 1520, 'battle': 1521, 'self': 1522, 'sell': 1523, 'captain': 1524, 'brown': 1525, 'inspired': 1526, 'mobile': 1527, 'unique': 1528, 'eli': 1529, 'received': 1530, 'judge': 1531, 'actions': 1532, 'policy': 1533, 'yasss': 1534, 'southern': 1535, 'puerto': 1536, 'sales': 1537, 'animal': 1538, 'graphics': 1539, 'designer': 1540, 'ass': 1541, 'tried': 1542, 'changing': 1543, 'court': 1544, 'comments': 1545, 'songs': 1546, 'positive': 1547, 'training': 1548, 'shirt': 1549, 'bunch': 1550, 'south': 1551, 'wired': 1552, 'obviously': 1553, 'practice': 1554, 'xbox': 1555, 'ps4': 1556, 'daughter': 1557, 'murder': 1558, 'gone': 1559, 'style': 1560, 'threat': 1561, '♥': 1562, 'adding': 1563, 'cars': 1564, 'decides': 1565, 'traffic': 1566, '4th': 1567, 'east': 1568, 'healthcare': 1569, 'apple': 1570, 'crowd': 1571, 'bet': 1572, 'statement': 1573, 'hearing': 1574, 'classy': 1575, 'tricks': 1576, 'models': 1577, 'grab': 1578, 'voice': 1579, 'growing': 1580, 'tihosay': 1581, 'robots': 1582, 'late': 1583, '💯': 1584, 'putting': 1585, 'officers': 1586, 'cum': 1587, 'assistant': 1588, 'DGDG-DGDGDGDGDG': 1589, '🎂': 1590, 'failed': 1591, 'guide': 1592, 'green': 1593, '🎵': 1594, 'calls': 1595, 'outside': 1596, 'k': 1597, 'thousands': 1598, 'fall': 1599, 'activist': 1600, 'hogg': 1601, 'planning': 1602, 'earn': 1603, 'overview': 1604, 'tr': 1605, 'personal': 1606, 'couple': 1607, 'saturday': 1608, 'brain': 1609, 'attempt': 1610, 'artificial': 1611, 'channel': 1612, 'cry': 1613, 'shift': 1614, 'stand': 1615, '💫': 1616, 'individual': 1617, 'threats': 1618, 'spend': 1619, 'cambridge': 1620, 'former': 1621, 'graphite': 1622, 'limit': 1623, 'broke': 1624, 'boys': 1625, 'technologies': 1626, 'cards': 1627, 'billion': 1628, 'cheating': 1629, 'current': 1630, 'terrorism': 1631, 'photos': 1632, 'base': 1633, 'quick': 1634, 'bought': 1635, 'warm': 1636, 'football': 1637, 'low': 1638, 'indeed': 1639, '::': 1640, 'shootings': 1641, 'son': 1642, 'china': 1643, 'videos': 1644, 'cc': 1645, 'mi': 1646, 'turns': 1647, '🇬': 1648, '🇧': 1649, 'likely': 1650, 'touch': 1651, '˚': 1652, 'exist': 1653, 'ar': 1654, 'useful': 1655, 'btpcrowdsale': 1656, 'loss': 1657, 'brought': 1658, 'receive': 1659, 'wanting': 1660, 'weather': 1661, 'half': 1662, 'bar': 1663, 'caption': 1664, 'uploades': 1665, 'racing': 1666, 'uses': 1667, 'brave': 1668, 'pre-sale': 1669, '💩': 1670, 'integrity': 1671, 'sit': 1672, 'aint': 1673, 'non': 1674, 'financial': 1675, 'theyll': 1676, '😀': 1677, 'extremely': 1678, '☀': 1679, 'tune': 1680, 'yall': 1681, 'considered': 1682, 'bitrace': 1683, 'amount': 1684, 'plane': 1685, 'language': 1686, 'killers': 1687, 'elected': 1688, 'nah': 1689, 'sold': 1690, 'known': 1691, 'brings': 1692, 'shout': 1693, '📚': 1694, 'signed': 1695, 'books': 1696, 'workout': 1697, '💪': 1698, 'tweeted': 1699, 'chase': 1700, 'dress': 1701, 'carry': 1702, 'thinks': 1703, 'businesses': 1704, 'insult': 1705, 'hairflip': 1706, 'doodle': 1707, 'action': 1708, 'masternode': 1709, 'selection': 1710, 'corruption': 1711, 'wise': 1712, 'office': 1713, 'falls': 1714, 'holding': 1715, 'pc': 1716, 'ways': 1717, 'goodbye': 1718, 'yrs': 1719, 'ah': 1720, 'walk': 1721, 'highly': 1722, 'cannot': 1723, 'teams': 1724, 'telling': 1725, 'raw': 1726, 'justice': 1727, 'shame': 1728, 'catch': 1729, 'proof': 1730, 'decentralized': 1731, 'innovation': 1732, 'il': 1733, 'worse': 1734, 'shipping': 1735, 'services': 1736, 'sadly': 1737, 'DGDG.DG': 1738, 'vital': 1739, 'shoot': 1740, 'similar': 1741, 'yo': 1742, 'rico': 1743, 'nation': 1744, 'trends': 1745, 'related': 1746, 'names': 1747, 'figure': 1748, 'decision': 1749, 'governor': 1750, 'calling': 1751, 'november': 1752, 'playoffs': 1753, 'chemical': 1754, 'frame': 1755, 'fault': 1756, 'updated': 1757, 'europe': 1758, 'loves': 1759, 'fam': 1760, 'directly': 1761, 'voucher': 1762, 'muslim': 1763, 'fact': 1764, 'drop': 1765, 'infographic': 1766, 'crash': 1767, '🤗': 1768, 'fail': 1769, '🐰': 1770, 'bag': 1771, 'communities': 1772, 'rajasthan': 1773, 'royals': 1774, '😏': 1775, 'date': 1776, 'shower': 1777, 'across': 1778, 'systems': 1779, 'oz': 1780, 'director': 1781, 'zero': 1782, 'dad': 1783, 'bus': 1784, 'stars': 1785, 'participate': 1786, 'etc': 1787, 'cpr': 1788, 'cares': 1789, 'feet': 1790, 'exclusive': 1791, 'waiting': 1792, 'alive': 1793, 'inauguration': 1794, '🌻': 1795, 'goodness': 1796, '📣': 1797, 'sea': 1798, 'taught': 1799, 'device': 1800, 'bets': 1801, 'text': 1802, 'aware': 1803, 'bureau': 1804, 'buyout': 1805, 'declined': 1806, 'developer': 1807, 'dog': 1808, 'role': 1809, 'cops': 1810, 'http': 1811, '😃': 1812, 'rise': 1813, 'rocking': 1814, 'wireless': 1815, 'sound': 1816, '🏁': 1817, 'claims': 1818, 'bc': 1819, 'emma': 1820, 'matters': 1821, 'keeping': 1822, 'federal': 1823, '{': 1824, '}': 1825, 'stunning': 1826, 'registering': 1827, 'deposit': 1828, 'commit': 1829, 'supporting': 1830, 'fellow': 1831, 'wanna': 1832, 'resources': 1833, 'schnorr': 1834, 'signatures': 1835, 'charge': 1836, 'fruits': 1837, '🔜': 1838, 'oil': 1839, 'anywhere': 1840, '◀': 1841, 'contracts': 1842, 'closer': 1843, 'method': 1844, 'visa': 1845, 'selling': 1846, 'roman': 1847, 'secure': 1848, 'key': 1849, 'crews': 1850, 'speed': 1851, 'effective': 1852, 'constitution': 1853, 'st': 1854, 'wins': 1855, '🙂': 1856, 'products': 1857, 'west': 1858, 'bundle': 1859, 'analytica': 1860, '☘': 1861, '🌿': 1862, 'leg': 1863, 'counting': 1864, 'runs': 1865, 'events': 1866, 'shed': 1867, 'dr': 1868, 'cell': 1869, 'phones': 1870, 'criminals': 1871, 'station': 1872, 'gis': 1873, 'favourite': 1874, 'gif': 1875, 'member': 1876, '🥇': 1877, 'teachers': 1878, 'easily': 1879, 'mix': 1880, '30th': 1881, 'parents': 1882, 'opinion': 1883, 'loading': 1884, 'DG/DGDG': 1885, '❗': 1886, 'period': 1887, 'ad': 1888, 'concept': 1889, 'assume': 1890, '3rd': 1891, 'sexual': 1892, 'estate': 1893, 'asked': 1894, 'original': 1895, 'hiring': 1896, 'sees': 1897, 'willing': 1898, 'headset': 1899, 'anime': 1900, 'rewards': 1901, 'lord': 1902, 'infrastructure': 1903, 'mo4ch': 1904, 'guest': 1905, 'shared': 1906, 'pants': 1907, 'beyond': 1908, 'shouldn': 1909, 'lower': 1910, 'register': 1911, 'management': 1912, 'checks': 1913, 'gorgeous': 1914, 'dan': 1915, 'difficult': 1916, 'dev': 1917, 'logo': 1918, '2a': 1919, 'agreement': 1920, 'sext': 1921, 'asompo': 1922, 'trillion': 1923, ':d': 1924, 'jimmy': 1925, 'prod': 1926, 'among': 1927, 'fat': 1928, 'disease': 1929, 'roe': 1930, 'wade.why': 1931, 'weight': 1932, 'recall': 1933, 'tradition': 1934, 'protesters': 1935, 'arrived': 1936, 'custom': 1937, 'income': 1938, '🇷': 1939, 'integration': 1940, 'sites': 1941, 'religion': 1942, '😅': 1943, 'payments': 1944, 'programs': 1945, 'pp': 1946, 'fundingdo': 1947, 'sport': 1948, 'cop': 1949, 'input': 1950, 'yep': 1951, 'fancy': 1952, 'couldn': 1953, 'twitch': 1954, 'announcement': 1955, 'communication': 1956, 'putin': 1957, 'syria': 1958, 'aaron': 1959, 'cups': 1960, 'huh': 1961, 'automatically': 1962, 'kinda': 1963, 'hannity': 1964, 'george': 1965, 'peter': 1966, 'digitalprice': 1967, 'expanding': 1968, 'thx': 1969, 'understanding': 1970, 'advanced': 1971, 'paris': 1972, 'developpements': 1973, 'literally': 1974, 'champ': 1975, 'guessed': 1976, 'android': 1977, 'reported': 1978, 'islam': 1979, 'heroes': 1980, 'paintings': 1981, 'watches': 1982, 'express': 1983, 'limited': 1984, 'remind': 1985, 'targeted': 1986, 'basketball': 1987, 'changes': 1988, 'stomach': 1989, 'schedule': 1990, 'fish': 1991, 'dumb': 1992, 'cram': 1993, 'culture': 1994, 'copy': 1995, 'prices': 1996, 'worst': 1997, 'hunting': 1998, 'impossible': 1999, '🍷': 2000, 'meh': 2001, 'grown': 2002, 'budget': 2003, 'magic': 2004, 'owners': 2005, 'spen': 2006, 'hasnt': 2007, 'strongest': 2008, 'communit': 2009, 'novel': 2010, 'rocks': 2011, 'ridiculous': 2012, 'khan': 2013, 'recently': 2014, 'cuts': 2015, 'conservative': 2016, 'character': 2017, 'holy': 2018, 'patrolling': 2019, 'science': 2020, 'bhai': 2021, 'minister': 2022, 'hiding': 2023, 'unless': 2024, 'bags': 2025, '😄': 2026, 'whether': 2027, 'worried': 2028, 'raise': 2029, 'boxed': 2030, 'finger': 2031, 'gender': 2032, 'eye': 2033, 'parkland': 2034, 'la': 2035, 'slow': 2036, 'cup': 2037, 'ours': 2038, 'cat': 2039, 'mins': 2040, 'icos': 2041, 'centreville': 2042, 'hello': 2043, 'setting': 2044, 'zone': 2045, 'reply': 2046, 'reports': 2047, '25th': 2048, 'importance': 2049, 'advisor': 2050, 'wood': 2051, 'visual': 2052, 'journey': 2053, 'owning': 2054, 'door': 2055, 'armed': 2056, 'lunch': 2057, 'local': 2058, 'required': 2059, '🎾': 2060, 'pull': 2061, 'spot': 2062, 'conference': 2063, 'later': 2064, 'marvel': 2065, 'wi': 2066, 'above': 2067, 'simon': 2068, 'boots': 2069, 'penis': 2070, 'bigger': 2071, 'limits': 2072, 'storm': 2073, 'lmao': 2074, 'terrorists': 2075, 'haters': 2076, 'type': 2077, 'escape': 2078, 'leads': 2079, 'shall': 2080, 'reveals': 2081, 'listing': 2082, 'shows': 2083, 'ethereum': 2084, 'analysis': 2085, 'btw': 2086, 'harassment': 2087, 'lying': 2088, 'missing': 2089, '📻': 2090, '🎧': 2091, 'apps': 2092, 'bath': 2093, 'places': 2094, 'banning': 2095, 'relevant': 2096, 'stable': 2097, 'county': 2098, 'feed': 2099, 'deleted': 2100, '👑': 2101, '💝': 2102, '🆒': 2103, 'refuse': 2104, 'hire': 2105, ':-)': 2106, 'institute': 2107, 'develop': 2108, 'nodes': 2109, 'minds': 2110, 'purpose': 2111, 'junior': 2112, 'tired': 2113, 'safely': 2114, 'chinese': 2115, 'repeating': 2116, 'hitler': 2117, 'germany': 2118, 'puts': 2119, '😆': 2120, 'showed': 2121, 'package': 2122, 'glass': 2123, 'promoting': 2124, 'warning': 2125, 'teach': 2126, 'passed': 2127, 'san': 2128, 'francisco': 2129, 'advice': 2130, 'beach': 2131, 'survive': 2132, 'nuts': 2133, 'majority': 2134, 'century': 2135, 'congratulations': 2136, 'software': 2137, 'voting': 2138, 'retail': 2139, 'doubt': 2140, 'cryptocurrencies': 2141, 'dm': 2142, '⟹': 2143, 'certainly': 2144, 'afford': 2145, 'stellar': 2146, 'speech': 2147, 'expect': 2148, 'strong': 2149, 'message': 2150, 'western': 2151, 'laugh': 2152, 'egg': 2153, 'french': 2154, 'mad': 2155, 'tea': 2156, 'lake': 2157, 'screen': 2158, 'smartphone': 2159, 'adults': 2160, 'mexico': 2161, 'reaching': 2162, 'terrible': 2163, '🤢': 2164, 'afraid': 2165, 'bitch': 2166, 'urgent': 2167, 'hospital': 2168, 'stands': 2169, 'humans': 2170, 'bike': 2171, 'gop': 2172, 'transactions': 2173, 'recent': 2174, 'reasonable': 2175, 'regular': 2176, 'investors': 2177, '🏾': 2178, 'experts': 2179, 'values': 2180, 'DGDGDGDG.DGDG': 2181, 'dirty': 2182, 'israel': 2183, 'promote': 2184, 'inc': 2185, 'older': 2186, 'provide': 2187, 'filing': 2188, 'paul': 2189, 'jokes': 2190, 'drug': 2191, 'markets': 2192, 'purchase': 2193, 'anthony': 2194, 'conditt': 2195, 'travel': 2196, 'eating': 2197, 'likes': 2198, 'dogs': 2199, 'rule': 2200, 'innocent': 2201, '👀': 2202, 'bro': 2203, 'leadership': 2204, 'partner': 2205, 'investment': 2206, ';)': 2207, '->': 2208, 'fiverrneed': 2209, 'gym': 2210, 'operation': 2211, 'soft': 2212, 'shots': 2213, 'dance': 2214, 'however': 2215, 'feelings': 2216, 'cuz': 2217, '🏿': 2218, 'mouth': 2219, 'due': 2220, 'wake': 2221, 'activists': 2222, 'seat': 2223, 'tablet': 2224, 'awards': 2225, '☝': 2226, 'flow': 2227, 'initial': 2228, 'invite': 2229, 'accuracy': 2230, 'countries': 2231, 'fb': 2232, 'decide': 2233, 'losing': 2234, 'experienced': 2235, 'balls': 2236, 'mentally': 2237, 'tournament': 2238, 'worlds': 2239, 'union': 2240, 'grow': 2241, 'reverse': 2242, 'legit': 2243, 'salty': 2244, '🇲': 2245, '🇾': 2246, 'universe': 2247, 'moments': 2248, 'winds': 2249, '❄': 2250, '😬': 2251, 'steel': 2252, 'machines': 2253, 'stocks': 2254, 'poster': 2255, 'founder': 2256, 'host': 2257, '💔': 2258, '➤': 2259, 'distributes': 2260, 'smell': 2261, 'signal': 2262, 'responsible': 2263, 'universal': 2264, 'luvelli': 2265, 'shut': 2266, 'uber': 2267, 'self-driving': 2268, 'noise': 2269, 'wed': 2270, 'wave': 2271, 'identity': 2272, 'hackers': 2273, 'tongue': 2274, 'pain': 2275, 'unexpected': 2276, 'shock': 2277, '😭': 2278, '😓': 2279, 'panel': 2280, 'farm': 2281, 'mulder': 2282, 'scully': 2283, 'vision': 2284, 'gain': 2285, 'gross': 2286, 'fools': 2287, 'disarm': 2288, 'burning': 2289, 'soo': 2290, 'fed': 2291, 'delivery': 2292, 'trouble': 2293, 'porn': 2294, 'priority': 2295, '🇰': 2296, 'korean': 2297, 'biased': 2298, 'tour': 2299, 'nazi': 2300, 'administration': 2301, 'sh': 2302, 'feat': 2303, 'religious': 2304, 'wordpress': 2305, 'benefit': 2306, 'unit': 2307, 'pleasure': 2308, '⚡': 2309, 'discussing': 2310, 'ship': 2311, 'broken': 2312, 'winter': 2313, 'general': 2314, 'msm': 2315, 'till': 2316, 'pre': 2317, 'evolution': 2318, 'tim': 2319, 'oracle': 2320, 'hardware': 2321, 'muslims': 2322, 'band': 2323, 'strict': 2324, 'solve': 2325, 'potatoes': 2326, 'fixing': 2327, 'dvd': 2328, 'downtown': 2329, 'wore': 2330, 'cap': 2331, 'channels': 2332, 'reserved': 2333, 'hide': 2334, 'favour': 2335, 'duh': 2336, 'disagree': 2337, 'advance': 2338, 'borders': 2339, 'bingo': 2340, 'edge': 2341, 'breath': 2342, 'webmd': 2343, 'aid': 2344, '🌏': 2345, 'senior': 2346, 'dash': 2347, 'republicans': 2348, 'mathematics': 2349, 'shop': 2350, 'absolute': 2351, 'scandals': 2352, 'sterlite': 2353, 'copper': 2354, 'miles': 2355, '☺': 2356, 'evening': 2357, 'staff': 2358, 'ignore': 2359, 'nirav': 2360, 'seized': 2361, 'mf': 2362, 'hussain': 2363, 'cro': 2364, 'became': 2365, 'jordan': 2366, 'queens': 2367, 'breathtaking': 2368, 'force': 2369, 'heaven': 2370, 'florida': 2371, 'file': 2372, 'enjoying': 2373, 'demo': 2374, 'capturing': 2375, 'reposting': 2376, 'useless': 2377, 'solo': 2378, 'session': 2379, 'lego': 2380, 'recipes': 2381, 'prime': 2382, 'dying': 2383, 'bullets': 2384, 'bodies': 2385, '🍻': 2386, 'reality': 2387, 'promo': 2388, 'feature': 2389, 'map': 2390, 'disney': 2391, 'shooter': 2392, 'tweeting': 2393, 'mikal': 2394, 'leg-spinner': 2395, 'quetta': 2396, 'fuckin': 2397, 'presidency': 2398, 'illuminati': 2399, 'politics': 2400, 'ga': 2401, 'chantilly': 2402, 'highlands': 2403, 'pac': 2404, 'saw': 2405, 'respond': 2406, 'print': 2407, 'debate': 2408, 'monsta': 2409, 'cover': 2410, 'prepare': 2411, 'clothing': 2412, 'listening': 2413, 'lack': 2414, 'standard': 2415, 'floral': 2416, 'cake': 2417, 'include': 2418, 'advantage': 2419, '❥': 2420, 'source': 2421, 'offended': 2422, 'farms': 2423, 'association': 2424, 'ugly': 2425, 'merchandise': 2426, 'cancer': 2427, 'stage': 2428, 'applications': 2429, 'africa': 2430, 'basically': 2431, 'wouldn': 2432, 'van': 2433, '💛': 2434, 'democracy': 2435, 'cute': 2436, 'surfaces': 2437, 'launching': 2438, 'evidence': 2439, 'golf': 2440, 'hmmm': 2441, 'wishes': 2442, 'forgive': 2443, 'driver': 2444, 'keeps': 2445, 'foreign': 2446, 'foot': 2447, 'xd': 2448, 'luxuryhello': 2449, 'sack': 2450, 'finest': 2451, 'kg': 2452, 'chris': 2453, '▪': 2454, 'ransomware': 2455, 'ki': 2456, 'duty': 2457, '🙈': 2458, 'electric': 2459, 'cheat': 2460, 'cooper': 2461, 'kerr': 2462, 'starters': 2463, 'blacks': 2464, 'recorded': 2465, 'founding': 2466, 'angry': 2467, 'pwas': 2468, 'vue.js': 2469, 'le': 2470, 'magazine': 2471, 'figured': 2472, 'victim': 2473, 'wound': 2474, 'dns': 2475, 'italy': 2476, 'un': 2477, 'reminder': 2478, 'obamas': 2479, 'presale': 2480, 'hunter': 2481, 'floor': 2482, 'ticket': 2483, 'parental': 2484, 'psl': 2485, 'sc': 2486, 'talks': 2487, 'creative': 2488, '🙅': 2489, 'poll': 2490, 'informed': 2491, 'sucks': 2492, 'remudo': 2493, 'tells': 2494, 'pure': 2495, 'entertainment': 2496, 'route': 2497, 'within': 2498, 'nope': 2499, 'gangs': 2500, 'unknown': 2501, 'fucked': 2502, 'announcing': 2503, 'amazed': 2504, 'gives': 2505, 'steps': 2506, 'sends': 2507, 'championship': 2508, 'xbl': 2509, 'drawing': 2510, 'gl': 2511, 'seas': 2512, '️join': 2513, '💿': 2514, 'angel': 2515, 'asshole': 2516, 'sprinklers': 2517, 'baseball': 2518, 'bts': 2519, 'clearview': 2520, 'interest': 2521, 'politician': 2522, 'gonzalez': 2523, 'expire': 2524, 'dc': 2525, 'variety': 2526, 'gee': 2527, 'shocker': 2528, 'discuss': 2529, 'paypal': 2530, 'stops': 2531, 'mood': 2532, 'exercise': 2533, 'movement': 2534, 'fbi': 2535, 'james': 2536, 'arm': 2537, 'fly': 2538, 'goods': 2539, 'accessories': 2540, 'actor': 2541, 'mandatory': 2542, 'humanity': 2543, 'companies': 2544, 'stopped': 2545, 'protocol': 2546, 'plain': 2547, 'appreciate': 2548, 'tree': 2549, 'payment': 2550, 'japan': 2551, 'bright': 2552, 'harsh': 2553, 'surgery': 2554, 'taste': 2555, 'obsessed': 2556, 'sky': 2557, 'core': 2558, 'irony': 2559, 'blocked': 2560, 'met': 2561, 'manning': 2562, 'fearsome': 2563, 'reportedly': 2564, 'cigarette': 2565, 'donny': 2566, 'cricketer': 2567, 'coins': 2568, 'approach': 2569, 'pride': 2570, 'santander': 2571, 'large': 2572, 'cross': 2573, 'requires': 2574, 'thankful': 2575, 'elementary': 2576, 'arabic': 2577, 'lang': 2578, 'rifle': 2579, 'centre': 2580, 'workers': 2581, 'tee': 2582, 'haven': 2583, 'fav': 2584, 'fitness': 2585, 'ts': 2586, 'casino': 2587, 'perfected': 2588, 'torturing': 2589, 'refugees': 2590, 'venerating': 2591, 'cabal': 2592, 'tough': 2593, 'cloud': 2594, 'fucks': 2595, 'explained': 2596, 'introduce': 2597, 'studying': 2598, 'bird': 2599, 'cape': 2600, 'tinder': 2601, 'ka': 2602, 'easier': 2603, 'finds': 2604, 'criminal': 2605, '☆': 2606, '💦': 2607, 'employment': 2608, 'perfectly': 2609, 'candidate': 2610, 'peace': 2611, 'buses': 2612, 'tool': 2613, 'loan': 2614, 'avoid': 2615, 'housing': 2616, 'permission': 2617, 'fabulous': 2618, 'tampering': 2619, 'abt': 2620, 'personality': 2621, 'chips': 2622, 'rare': 2623, 'म': 2624, 'results': 2625, 'crisis': 2626, 'scientists': 2627, 'spots': 2628, 'lyrics': 2629, 'intelligent': 2630, '✅': 2631, '🤑': 2632, 'california': 2633, 'updates': 2634, 'logic': 2635, 'web': 2636, 'fears': 2637, 'depends': 2638, 'plans': 2639, 'iq': 2640, 'gi': 2641, 'wisdom': 2642, 'silly': 2643, 'july': 2644, 'startup': 2645, 'trailer': 2646, 'protein': 2647, 'node': 2648, 'actual': 2649, 'closed': 2650, 'inches': 2651, 'talented': 2652, 'female': 2653, 'corporate': 2654, 'elder': 2655, 'onomora': 2656, 'harder': 2657, 'ca': 2658, 'analytics': 2659, '‼': 2660, 'harry': 2661, 'tourbillon': 2662, 'awww': 2663, 'diet': 2664, 'arriving': 2665, 'covered': 2666, 'drinking': 2667, 'holiday': 2668, 'picked': 2669, 'options': 2670, 'startups': 2671, 'techcrunch': 2672, 'insider': 2673, 'fruit': 2674, 'plastic': 2675, 'pom': 2676, 'contact': 2677, 'process': 2678, 'animals': 2679, 'matches': 2680, 'deserves': 2681, 'se': 2682, 'maintaining': 2683, 'amp': 2684, 'minute': 2685, 'refill': 2686, 'urge': 2687, 'methods': 2688, 'glow': 2689, 'kudos': 2690, 'co': 2691, 'opened': 2692, 'emoji': 2693, 'thrilled': 2694, 'promotion': 2695, 'pictures': 2696, 'conway': 2697, 'classes': 2698, 'term': 2699, 'critical': 2700, 'resource': 2701, 'garden': 2702, 'concern': 2703, 'voters': 2704, '😲': 2705, '🏃': 2706, 'shopping': 2707, 'organization': 2708, 'prevention': 2709, 'continues': 2710, 'explain': 2711, 'marching': 2712, 'nahi': 2713, 'cream': 2714, 'burn': 2715, 'everywhere': 2716, 'surprising': 2717, 'staring': 2718, 'nations': 2719, 'research': 2720, 'sweat': 2721, 'agile': 2722, 'field': 2723, 'kidding': 2724, 'deserved': 2725, 'coach': 2726, 'switch': 2727, 'shoulder': 2728, 'ending': 2729, 'fred': 2730, 'trial': 2731, 'injection': 2732, 'cybersecurity': 2733, 'los': 2734, 'stress': 2735, 'album': 2736, 'wrestling': 2737, 'mill': 2738, 'pool': 2739, 'democrat': 2740, 'marital': 2741, 'liked': 2742, 'honest': 2743, 'giant': 2744, '-->': 2745, 'suddenly': 2746, 'finished': 2747, 'characters': 2748, 'lange': 2749, 'alert': 2750, 'wasn': 2751, 'exploits': 2752, 'nail': 2753, 'applying': 2754, 'further': 2755, 'mo': 2756, 'seconds': 2757, 'fatigue': 2758, 'depression': 2759, 'musk': 2760, 'blogger': 2761, 'title': 2762, '📷': 2763, '😋': 2764, 'serial': 2765, '😮': 2766, 'supports': 2767, 'skill': 2768, 'beard': 2769, 'combination': 2770, 'ltd': 2771, 'jacket': 2772, 'monkey': 2773, 'king': 2774, '4g': 2775, 'integrated': 2776, 'specialist': 2777, '🍕': 2778, 'constantly': 2779, 'formula': 2780, 'kicked': 2781, 'pc-xbox-ps': 2782, 'snowing': 2783, 'caused': 2784, 'tn': 2785, '🥁': 2786, 'rising': 2787, 'victory': 2788, 'decorate': 2789, '=)': 2790, 'manage': 2791, 'carter': 2792, 'pregnant': 2793, 'committed': 2794, 'kimmel': 2795, 'swing': 2796, 'owned': 2797, 'owns': 2798, 'launched': 2799, 'ensure': 2800, 'joined': 2801, 'embarrassed': 2802, 'ladies': 2803, 'liking': 2804, 'rude': 2805, 'employee': 2806, 'passive': 2807, '➖': 2808, 'foul': 2809, 'legislation': 2810, 'handy': 2811, 'forgotten': 2812, 'tbolton': 2813, 'ho': 2814, 'hang': 2815, 'wild': 2816, 'accept': 2817, 'abroad': 2818, 'exid': 2819, 'teaser': 2820, 'diversity': 2821, 'standardized': 2822, 'lazy': 2823, 'blahhh': 2824, 'sink': 2825, 'crew': 2826, 'bye': 2827, 'rock': 2828, 'resolved': 2829, 'xyo': 2830, 'blockchains': 2831, 'rank': 2832, 'piss': 2833, 'republic': 2834, 'def': 2835, 'outstanding': 2836, 'seasons': 2837, 'passport': 2838, 'assuming': 2839, 'sister': 2840, 'smartphones': 2841, 'treating': 2842, 'expected': 2843, 'hamper': 2844, '🎤': 2845, 'ten': 2846, 'hopefully': 2847, 'charity': 2848, 'becoming': 2849, 'collusion': 2850, 'pray': 2851, 'fluent': 2852, 'accurate': 2853, 'miranda': 2854, 'generate': 2855, 'revenue': 2856, 'sean': 2857, 'finance': 2858, 'anna': 2859, 'sovereignty': 2860, 'pursuit': 2861, 'react': 2862, 'choose': 2863, 'sort': 2864, 'specially': 2865, 'actors': 2866, 'playlist': 2867, 'knife': 2868, 'giants': 2869, 'drawn': 2870, 'comeback': 2871, 'ed': 2872, 'bch': 2873, 'ltc': 2874, 'xmr': 2875, 'besides': 2876, 'flying': 2877, 'brock': 2878, 'suck': 2879, 'legacy': 2880, 'filmed': 2881, 'secured': 2882, 'attacked': 2883, 'allegations': 2884, 'narendra': 2885, 'confused': 2886, 'chaiwala': 2887, 'wondered': 2888, 'semifinals': 2889, 'query': 2890, 'pocs': 2891, 'loyola': 2892, 'measures': 2893, 'arming': 2894, 'location': 2895, 'listed': 2896, 'crap': 2897, 'focus': 2898, 'continue': 2899, 'marches': 2900, 'gods': 2901, 'ability': 2902, 'suppose': 2903, 'asset': 2904, 'royale': 2905, 'mode': 2906, 'client': 2907, 'insurance': 2908, 'ethical': 2909, 'improvement': 2910, 'delicious': 2911, 'innovations': 2912, 'ear': 2913, 'garage': 2914, 'fixed': 2915, 'judas': 2916, 'cardio': 2917, 'boring': 2918, 'hundreds': 2919, 'addresses': 2920, 'hotel': 2921, 'trx': 2922, 'tools': 2923, 'democrats': 2924, 'wrote': 2925, 'praise': 2926, 'shane': 2927, 'warne': 2928, 'trap': 2929, 'bloody': 2930, 'distributing': 2931, 'associate': 2932, 'va': 2933, 'fo': 2934, 'weak': 2935, 'utah': 2936, 'semi': 2937, 'offensive': 2938, 'headlines': 2939, 'apr': 2940, 'doctors': 2941, 'mate': 2942, 'nutrition': 2943, 'lied': 2944, 'wear': 2945, 'challenged': 2946, 'carefully': 2947, 'civilian': 2948, 'entering': 2949, 'si': 2950, 'console': 2951, 'kick': 2952, 'nap': 2953, 'heavy': 2954, 'fighting': 2955, 'weapon': 2956, 'served': 2957, 'judgement': 2958, 'holder': 2959, 'pace': 2960, 'adsigma': 2961, 'poisoning': 2962, 'contribute': 2963, 'z': 2964, 'rainbow': 2965, 'normal': 2966, 'buying': 2967, 'mattress': 2968, 'proper': 2969, 'represent': 2970, 'quote': 2971, 'developers': 2972, 'principle': 2973, 'destroy': 2974, 'intended': 2975, 'mental': 2976, 'streaming': 2977, 'raspberry': 2978, 'whoa': 2979, 'explaining': 2980, 'q': 2981, '🎀': 2982, 'walls': 2983, 'shouldnt': 2984, 'airdropping': 2985, 'acts': 2986, 'pointing': 2987, 'snyder': 2988, 'fn': 2989, 'karma': 2990, 'guyprotected': 2991, 'inthe': 2992, 'correctly': 2993, 'popcorn': 2994, 'agents': 2995, 'cutting': 2996, 'iii': 2997, 'rd': 2998, 'acc': 2999, 'spotlight': 3000, 'lived': 3001, 'mn': 3002, 'computer': 3003, 'engineering': 3004, 'itty': 3005, 'bitty': 3006, 'hodgepodgedays': 3007, 'herndon': 3008, 'removed': 3009, 'multiplayer': 3010, 'suspicious': 3011, 'crossed': 3012, 'helps': 3013, 'snack': 3014, '10th': 3015, '✌': 3016, '🐥': 3017, 'differently': 3018, 'disgrace': 3019, 'bite': 3020, 'aka': 3021, 'stove': 3022, 'files': 3023, 'seeds': 3024, '18th': 3025, 'auditing': 3026, 'wrestlemania': 3027, 'ig': 3028, 'glitch': 3029, 'specific': 3030, '👈': 3031, 'iphone': 3032, 'shape': 3033, 'handle': 3034, 'ronald_vanloon': 3035, 'connecticut': 3036, 'prizes': 3037, 'danger': 3038, 'pic': 3039, '👤': 3040, 'emergency': 3041, 'investments': 3042, 'mini': 3043, 'frightened': 3044, 'trophy': 3045, 'cleaning': 3046, 'moved': 3047, 'lit': 3048, 'north': 3049, 'isolation': 3050, 'including': 3051, 'plays': 3052, 'thus': 3053, 'sentence.hes': 3054, 'dublin': 3055, 'font': 3056, 'officer': 3057, 'born': 3058, 'shake-up': 3059, 'transferred': 3060, 'anytime': 3061, 'sarah': 3062, 'generator': 3063, 'gps': 3064, 'indonesia': 3065, 'slut': 3066, 'beings': 3067, 'devops': 3068, 'camo': 3069, 'knight': 3070, 'trilogy': 3071, 'impression': 3072, 'husband': 3073, 'girlfriend': 3074, 'hop': 3075, '🐷': 3076, 'victims': 3077, 'purchased': 3078, 'explosive': 3079, 'complicated': 3080, 'prove': 3081, 'mckinsey': 3082, 'estimates': 3083, 'skills': 3084, 'duke': 3085, 'throws': 3086, 'dick': 3087, 'crying': 3088, 'alone': 3089, 'participation': 3090, 'j': 3091, 'hows': 3092, 'lyft': 3093, 'traditional': 3094, 'relate': 3095, 'wide': 3096, 'range': 3097, 'chocolate': 3098, 'lovers': 3099, 'alexa': 3100, 'sooooo': 3101, 'smile': 3102, 'bull': 3103, 'prevent': 3104, 'consumer': 3105, 'evolve': 3106, 'vibes': 3107, 'subscribe': 3108, 'chandelier': 3109, 'legs': 3110, 'narrative': 3111, 'friendly': 3112, 'attend': 3113, 'held': 3114, 'destroyed': 3115, 'ancient': 3116, 'hack': 3117, 'invited': 3118, 'hockey': 3119, 'boho': 3120, 'arguing': 3121, '19th': 3122, 'enjoyed': 3123, 'moscow': 3124, 'permanent': 3125, 'madness': 3126, 'anthem': 3127, 'meant': 3128, 'stones': 3129, 'melania': 3130, 'ecosystem': 3131, 'alonso': 3132, 'naughty': 3133, 'pitch': 3134, 'table': 3135, 'appreciated': 3136, 'vegetables': 3137, 'beans': 3138, 'promise': 3139, 'meddling': 3140, 'agenda': 3141, 'surprises': 3142, 'tutorial': 3143, 'compilation': 3144, 'interviews': 3145, '🤝': 3146, 'arrest': 3147, 'organized': 3148, 'fights': 3149, 'gas': 3150, 'toddler': 3151, 'heads': 3152, 'queen': 3153, 'leather': 3154, 'agency': 3155, 'lee': 3156, '💖': 3157, 'plate': 3158, 'eur': 3159, 'economic': 3160, 'hrs': 3161, 'maga': 3162, 'hmm': 3163, 'branch': 3164, 'scale': 3165, '🎈': 3166, 'toward': 3167, '📲': 3168, 'present': 3169, 'protesting': 3170, 'classroom': 3171, 'ridge': 3172, 'several': 3173, 'inspiration': 3174, 'boobs': 3175, 'quiet': 3176, 'felt': 3177, 'released': 3178, 'operator': 3179, 'anti': 3180, 'row': 3181, 'search': 3182, 'sydney': 3183, '🤨': 3184, 'unli': 3185, 'third': 3186, 'curtain': 3187, 'rate': 3188, 'cs': 3189, 'dollar': 3190, 'category': 3191, 'trend': 3192, 'charles': 3193, 'quietly': 3194, 'ref': 3195, 'mueller': 3196, 'mcdavid': 3197, 'funko': 3198, 'historical': 3199, 'seattle': 3200, 'option': 3201, 'negative': 3202, 'investigation': 3203, 'root': 3204, 'cub': 3205, 'unity': 3206, '😹': 3207, 'bsc': 3208, 'statistics': 3209, 'graduate': 3210, 'cheap': 3211, 'treats': 3212, 'pls': 3213, 'replies': 3214, 'beautifully': 3215, 'alexandria': 3216, 'looked': 3217, 'rounds': 3218, '4k': 3219, 'dinner': 3220, 'apartment': 3221, 'introducing': 3222, 'qykbar': 3223, 'qyk': 3224, 'consume': 3225, 'alcohol': 3226, 'cloud.qyk': 3227, 'mortgage': 3228, 'offered': 3229, 'champagne': 3230, 'driven': 3231, 'multiple': 3232, 'marched': 3233, 'rolled': 3234, 'meansget': 3235, 'penalty': 3236, 'entry': 3237, 'reliable': 3238, 'reputation': 3239, 'engage': 3240, 'hahaha': 3241, 'punishment': 3242, 'hydro': 3243, 'paradigm': 3244, 'interactions': 3245, 'answered': 3246, 'ripple': 3247, 'operating': 3248, 'asiimov': 3249, 'ain': 3250, 'christmas': 3251, 'require': 3252, 'volatility': 3253, 'fired': 3254, 'codes': 3255, 'btcusd': 3256, 'hillarys': 3257, 'oclock': 3258, 'spike': 3259, 'robotics': 3260, 'demand': 3261, 'fascinating': 3262, 'elite': 3263, 'overdose': 3264, 'remain': 3265, 'metallica': 3266, 'correct': 3267, 'wednesday': 3268, '🌍': 3269, 'wi-fi': 3270, 'luxury': 3271, 'landon': 3272, 'quot': 3273, 'ps4https': 3274, 'basket': 3275, 'meat': 3276, 'harvest': 3277, '️last': 3278, '️already': 3279, '️buy': 3280, 'net': 3281, 'cast': 3282, 'conservatives': 3283, 'anti-gun': 3284, 'rally': 3285, 'constitutional': 3286, 'inspirational': 3287, 'debt': 3288, '⠀': 3289, 'DG:DGDG': 3290, 'named': 3291, 'suspect': 3292, 'lady': 3293, 'expert': 3294, 'machine': 3295, 'edit': 3296, 'canadian': 3297, 'houses': 3298, 'philadelphia': 3299, 'ne': 3300, 'authority': 3301, 'accounting': 3302, 'vr': 3303, 'disgusting': 3304, 'spree': 3305, 'promises': 3306, 'uneducated': 3307, 'strapped': 3308, 'plus': 3309, '💥': 3310, 'podcast': 3311, 't-shirt': 3312, 'suit': 3313, 'ignoring': 3314, 'michigan': 3315, 'lamborghini': 3316, 'bear': 3317, 'babe': 3318, '😻': 3319, 'standards': 3320, 'indians': 3321, 'combinator': 3322, 'w18': 3323, 'keys': 3324, 'republican': 3325, 'production': 3326, 'followed': 3327, 'tracks': 3328, 'blogspot': 3329, 'pulling': 3330, 'aged': 3331, 'exposed': 3332, 'inner': 3333, 'circle': 3334, '∈': 3335, 'increases': 3336, 'hyped': 3337, 'derby': 3338, 'perform': 3339, '. .': 3340, 'naked': 3341, 'hmmmm': 3342, 'sunshine': 3343, 'drunk': 3344, 'merely': 3345, 'coral': 3346, 'pink': 3347, 'saved': 3348, 'tiny': 3349, 'clients': 3350, 'views': 3351, 'racism': 3352, 'led': 3353, 'writer': 3354, 'sooo': 3355, 'hr': 3356, 'therapy': 3357, 'operations': 3358, 'spray': 3359, 'condition': 3360, 'african': 3361, 'ty': 3362, 'trauma': 3363, 'youd': 3364, 'nights': 3365, 'matt': 3366, 'irish': 3367, 'retweeted': 3368, 'strategic': 3369, 'bs': 3370, 'prepaid': 3371, 'organic': 3372, 'scary': 3373, 'himself': 3374, 'meme': 3375, 'max': 3376, 'crave': 3377, 'planet': 3378, 'vegan': 3379, '🌎': 3380, 'venture': 3381, 'cia': 3382, 'showing': 3383, 'crimes': 3384, 'concepts': 3385, 'civil': 3386, 'voted': 3387, 'perish': 3388, 'researchers': 3389, 'aren': 3390, 'currencies': 3391, 'ivanka': 3392, 'socially': 3393, 'breakfast': 3394, 'preparing': 3395, '⚽': 3396, '🎼': 3397, 'floris': 3398, '™': 3399, 'lightning': 3400, 'labs': 3401, 'ra': 3402, 'officials': 3403, 'stopping': 3404, 'amirite': 3405, 'jail': 3406, 'catalan': 3407, 'speaker': 3408, 'brother': 3409, 'invest': 3410, 'bills': 3411, 'thier': 3412, 'scheduled': 3413, 'twisting': 3414, 'necessary': 3415, 'score': 3416, 'trolls': 3417, 'photography': 3418, 'meaning': 3419, 'michael': 3420, 'DGDGDGDGDGDGDG': 3421, '👫': 3422, 'navratri': 3423, 'revolve': 3424, 'mouthwatering': 3425, 'arbi': 3426, 'kadhi': 3427, 'samak': 3428, 'rice': 3429, 'flames': 3430, 'annual': 3431, 'pe': 3432, 'turning': 3433, 'offering': 3434, 'worker': 3435, 'patience': 3436, 'degrees': 3437, 'exhibition': 3438, 'podcasts': 3439, 'ambassador': 3440, 'wellness': 3441, 'russians': 3442, 'meaningful': 3443, 'hacking': 3444, 'year-old': 3445, 'rifles': 3446, 'donuts': 3447, 'opinions': 3448, 'cousin': 3449, '24h': 3450, 'eh': 3451, 'perspective': 3452, 'shown': 3453, 'ver': 3454, 'checking': 3455, 'suffering': 3456, 'complaints': 3457, 'ugh': 3458, 'affect': 3459, 'warrant': 3460, 'enforcement': 3461, 'mature': 3462, 'anonymous': 3463, 'bomoso': 3464, 'eu': 3465, 'combat': 3466, 't.co/vwkbxtdmee': 3467, 'extinction': 3468, 'beating': 3469, 'german': 3470, 'consistent': 3471, 'pet': 3472, 'pulled': 3473, 'nintendo': 3474, 'ledger': 3475, 'duo': 3476, 'mera': 3477, 'swaraj': 3478, 'serves': 3479, 'veterans': 3480, ':(': 3481, '5th': 3482, 'contents': 3483, 'heavenly': 3484, 'mallows': 3485, 'hamp': 3486, 'seek': 3487, 'awful': 3488, 'angeles': 3489, 'agrees': 3490, 'races': 3491, 'launches': 3492, '😁': 3493, 'climate': 3494, 'purge': 3495, 'types': 3496, 'journalism': 3497, 'billionaire': 3498, 'tshirt': 3499, 'womens': 3500, 'trucks': 3501, 'amongst': 3502, 'wherein': 3503, 'tony': 3504, 'topic': 3505, 'efforts': 3506, 'bridge': 3507, 'kansas': 3508, 'hai': 3509, 'idea.how': 3510, 'ungrateful': 3511, 'heathen': 3512, 'bastards': 3513, 'hates': 3514, 'lines': 3515, 'regard': 3516, 'profile': 3517, 'mohammed': 3518, 'relatives': 3519, 'excellent': 3520, '💬': 3521, 'herald': 3522, 'headline': 3523, 'successfully': 3524, 'vehicles': 3525, 'relationship': 3526, 'clue': 3527, 'posting': 3528, 'allah': 3529, 'singer': 3530, 'episodes': 3531, 'cnn': 3532, 'blind': 3533, 'owner': 3534, 'membership': 3535, 'unlike': 3536, 'pinned': 3537, 'doors': 3538, 'tears': 3539, 'lifetime': 3540, 'result': 3541, 'meeting': 3542, 'cases': 3543, 'otherwise': 3544, 'wealth': 3545, 'basic': 3546, 'beta': 3547, '⤵': 3548, 'soooo': 3549, 'anxiety': 3550, 'ranking': 3551, 'aws': 3552, 'influence': 3553, 'twice': 3554, 'heading': 3555, 'mess': 3556, 'baltimore': 3557, 'addition': 3558, '2018https': 3559, 'gin': 3560, 'notice': 3561, 'cooking': 3562, 'haha': 3563, 'frieza': 3564, 'innovative': 3565, 'pakistan': 3566, 'solid': 3567, 'activity': 3568, 'sharia': 3569, 'returns': 3570, 'accepts': 3571, 'ibiza': 3572, 'chanting': 3573, '🐶': 3574, 'everyday': 3575, 'possibly': 3576, '50s': 3577, 'cherry': 3578, 'enthusiasm': 3579, 'skychain': 3580, 'germanys': 3581, 'dusseldorf': 3582, 'causestense': 3583, 'pilots': 3584, 'passengers': 3585, 'protest': 3586, 'solved': 3587, 'belief': 3588, '💤': 3589, 'tesla': 3590, 'encourage': 3591, 'bobby': 3592, 'yellen': 3593, 'glenn': 3594, 'bonfire': 3595, 'beka': 3596, 'entrepreneur': 3597, 'schoolers': 3598, 'disinvited': 3599, 'condemned': 3600, 'hadnt': 3601, 'follows': 3602, 'passes': 3603, 'branded': 3604, 'hail': 3605, 'mania': 3606, '🤞': 3607, '🔊': 3608, 'steady': 3609, 'lte': 3610, 'hero': 3611, 'ownership': 3612, 'demanding': 3613, 'proving': 3614, 'aims': 3615, 'asia': 3616, 'silicon': 3617, 'valley': 3618, 'gardens': 3619, 'department': 3620, 'superbowl': 3621, 'f1': 3622, 'pumpkin': 3623, 'sounded': 3624, '🎸': 3625, 'legends': 3626, 'deals': 3627, 'popularity': 3628, '7m': 3629, '7b': 3630, 'theft': 3631, 'digest': 3632, 'peeps': 3633, 'touchy': 3634, 'sniff': 3635, 'º': 3636, 'gui': 3637, 'nearly': 3638, 'slick': 3639, 'seed': 3640, 'construct': 3641, 'risks': 3642, 'addressing': 3643, 'confuse': 3644, '15s': 3645, 'fell': 3646, 'audio': 3647, 'dried': 3648, 'jailed': 3649, 'grayson': 3650, 'duels': 3651, 'attacking': 3652, 'canes': 3653, 'whatnot.apparently': 3654, 'archaic': 3655, 'back.just': 3656, 'publish': 3657, 'warming': 3658, 'powered': 3659, 'visitors': 3660, 'crowdfund': 3661, 'festival': 3662, 'psychology': 3663, 'ashamed': 3664, 'japanese': 3665, 'commercials': 3666, 'bot': 3667, 'yahoo': 3668, 'thru': 3669, 'childrens': 3670, 'feels': 3671, 'argument': 3672, 'claiming': 3673, 'lip': 3674, 'jess': 3675, 'glynne': 3676, 'macklemore': 3677, 'caplen': 3678, 'fundamentals': 3679, 'serenity': 3680, 'whitepaper': 3681, 'bash': 3682, 'engine': 3683, 'daniel': 3684, 'australians': 3685, 'blondes': 3686, 'hollywood': 3687, 'dis': 3688, 'faith': 3689, 'venue': 3690, 'telegra': 3691, 'preserve': 3692, 'peak': 3693, 'DG.DGDGDGDGDGDGDG': 3694, '-DG.DGDGDGDGDGDGDGDG': 3695, 'DG.DGDGDGDGDGDG': 3696, '-DG.DGDGDGDGDG': 3697, 'crunchy': 3698, 'citizen': 3699, 'mentioned': 3700, 'checked': 3701, 'advocating': 3702, 'application': 3703, 'stanford': 3704, 'unsuccessful': 3705, '🇮': 3706, 'easiest': 3707, 'socialism': 3708, 'jared': 3709, 'realization': 3710, 'teen': 3711, 'rebublican': 3712, 'socal': 3713, 'nam': 3714, 'gap': 3715, 'ronda': 3716, 'rousey': 3717, 'jazz': 3718, 'singing': 3719, 'symptoms': 3720, 'dietary': 3721, 'tuesday': 3722, 'backing': 3723, 'assad': 3724, 'evils': 3725, 'thy': 3726, 'shutters': 3727, 'silver': 3728, 'carriers': 3729, '😈': 3730, 'private': 3731, 'divide': 3732, 'restlessness': 3733, 'luckily': 3734, 'courtesy': 3735, 'slips': 3736, 'cad': 3737, 'DGDG-DGDG': 3738, 'btg': 3739, 'hurts': 3740, 'incoming': 3741, 'objects': 3742, 'lo': 3743, 'lesnar': 3744, 'deserving': 3745, 'wh': 3746, 'grandkids': 3747, 'grateful': 3748, 'literal': 3749, 'insomnia': 3750, 'indian': 3751, 'pieces': 3752, 'bible': 3753, 'combine': 3754, 'restart': 3755, 'romania': 3756, 'mile': 3757, 'wish': 3758, 'egotists': 3759, 'consecutive': 3760, '1am': 3761, 'accusing': 3762, '🍒': 3763, 'gina': 3764, 'sings': 3765, 'vocabulary': 3766, 'complex': 3767, 'overall': 3768, 'fetch': 3769, 'issuer': 3770, 'flattering': 3771, 'eight': 3772, 'reduce': 3773, 'detection': 3774, 'guards': 3775, 'retired': 3776, 'practices': 3777, 'changer': 3778, 'presentation': 3779, 'mall': 3780, 'upload': 3781, 'bulk': 3782, 'bedroom': 3783, 'overwatch': 3784, 'population': 3785, 'creators': 3786, 'jl': 3787, 'abilities': 3788, 'dehydrates': 3789, 'easilyeveryone': 3790, 'communicate': 3791, 'valued': 3792, 'participated': 3793, 'kings': 3794, 'gamer': 3795, 'dedicated': 3796, 'recruitment': 3797, 'finserve': 3798, 'description': 3799, 'wars': 3800, 'overrated': 3801, 'forest': 3802, 'pence': 3803, 'trains': 3804, 'privatised': 3805, 'mistakes': 3806, 'decent': 3807, 'superior': 3808, 'letting': 3809, 'designed': 3810, 'spice': 3811, 'kitchen': 3812, 'tragedy': 3813, 'securitys': 3814, 'trippy': 3815, 'wth': 3816, 'becomes': 3817, 'worldopoly': 3818, 'spy': 3819, 'remains': 3820, 'comedic': 3821, 'undertones': 3822, 'quiz': 3823, 'filter': 3824, 'maps': 3825, 'plugin': 3826, 'hall': 3827, '💗': 3828, 'intro': 3829, 'blow': 3830, 'fairfax': 3831, 'mavro': 3832, 'prepared': 3833, 'kimgarst': 3834, 'jeez': 3835, 'skyrim': 3836, 'dropped': 3837, 'hated': 3838, 'joking': 3839, 'journalist': 3840, 'charging': 3841, 'tx': 3842, 'satoshi': 3843, '€': 3844, 'denizens': 3845, 'throughout': 3846, 'pyramid': 3847, 'ordered': 3848, 'exchanges': 3849, 'albany': 3850, 'fortunate': 3851, 'decisive': 3852, 'policies': 3853, 'bitcoins': 3854, 'stayed': 3855, 'parchment': 3856, 'quill': 3857, 'pen': 3858, 'pounds': 3859, 'organizations': 3860, 'hosted': 3861, 'thought-provoking': 3862, 'jewelry': 3863, 'sporting': 3864, '3novices': 3865, 'darling': 3866, 'nats': 3867, 'pal': 3868, 'emojis': 3869, 'work.if': 3870, 'mens': 3871, 'hypocritical': 3872, 'rolling': 3873, 'gifs': 3874, 'criteria': 3875, 'maintain': 3876, 'mechanism': 3877, 'legally': 3878, 'circumstances': 3879, 'hype': 3880, 'inch': 3881, 'unicorn': 3882, 'blatantly': 3883, 'itself': 3884, 'unite': 3885, 'raising': 3886, 'bias': 3887, 'grain': 3888, 'patriot': 3889, 'conspiracy': 3890, 'staged': 3891, 'university': 3892, 'gen': 3893, 'spelling': 3894, 'lia': 3895, 'racists': 3896, 'links': 3897, 'contain': 3898, 'aluminum': 3899, 'salts': 3900, 'excel': 3901, 'revolutionary': 3902, 'cheats': 3903, 'advise': 3904, 'etiquette': 3905, 'amber': 3906, 'nicolas': 3907, 'wouldve': 3908, 'jailing': 3909, 'political': 3910, 'opponents': 3911, 'tolerate': 3912, 'consultation': 3913, 'ethnic': 3914, 'lifestyles': 3915, 'loose': 3916, 'illness': 3917, 'ky': 3918, 'psycho': 3919, 'catholic': 3920, 'abusing': 3921, 'monsters': 3922, 'wtfmusicvideos': 3923, 'coast': 3924, 'stupidest': 3925, 'intellectual': 3926, 'situation': 3927, 'contractors': 3928, 'theyd': 3929, 'mexican': 3930, 'immigrants': 3931, 'impose': 3932, 'average': 3933, 'relatable': 3934, 'ally': 3935, 'fathers': 3936, 'homophobia': 3937, 'hybrid': 3938, 'camera': 3939, 'aussie': 3940, 'dominance': 3941, 'tap': 3942, 'decorative': 3943, 'square': 3944, 'display': 3945, 'resting': 3946, 'guitar': 3947, 'satire': 3948, 'wreath': 3949, '👠': 3950, 'pineapple': 3951, 'reboot': 3952, 'matchday': 3953, 'saving': 3954, 'firms': 3955, 'billions': 3956, 'regulatory': 3957, 'convinced': 3958, 'botox': 3959, 'struggling': 3960, 'daisuke': 3961, 'wakabayashi': 3962, 'airdrops': 3963, 'counsel': 3964, 'fountain': 3965, 'parking': 3966, 'cheers': 3967, 'chill': 3968, 'holds': 3969, 'chant': 3970, 'orange': 3971, 'whose': 3972, 'wtf': 3973, 'recenter': 3974, 'bornjfk': 3975, 'luv': 3976, 'x-files': 3977, 'sf': 3978, 'wif': 3979, 'hasse': 3980, 'cared': 3981, 'central': 3982, 'nahhhhh': 3983, 'personalised': 3984, 'flockbn': 3985, 'crooks': 3986, 'hollow': 3987, 'thursday': 3988, 'pre-order': 3989, 'eagle': 3990, 'courses': 3991, 'aside': 3992, 'ego': 3993, '1000s': 3994, 'ireland': 3995, 'vienna': 3996, 'ag': 3997, 'rummaging': 3998, 'sunset': 3999, 'rugby': 4000, 'pair': 4001, 'andalou': 4002, 'combined': 4003, 'ɑnd': 4004, 'brighten': 4005, 'scotland': 4006, 'zones': 4007, 'languages': 4008, 'helene': 4009, 'thomas': 4010, 'gibbons-neff': 4011, 'approves': 4012, 'transgender': 4013, 'troops': 4014, 'gig': 4015, 'extreme': 4016, 'mock': 4017, 'drills': 4018, 'tourney': 4019, 'well-built': 4020, 'deflect': 4021, 'subscribers': 4022, 'nervous': 4023, 'dozens': 4024, 'discussion': 4025, 'earbuds': 4026, 'unprecedented': 4027, 'criticism': 4028, 'reformed': 4029, 'introduction': 4030, 'segment': 4031, 'teaching': 4032, 'juneeeeeeya': 4033, 'latecomer': 4034, 'hati': 4035, 'clothes-sta': 4036, 'belgium': 4037, 'humankind': 4038, 'willow': 4039, 'springs': 4040, 'ooooh': 4041, 'letter': 4042, 'fatal': 4043, 'movies': 4044, 'defend': 4045, 'adulting': 4046, 'styles': 4047, 'diggy': 4048, 'goo': 4049, 'documentary': 4050, 'monetized': 4051, 'undermine': 4052, 'audacity': 4053, 'spectacular': 4054, 'legislative': 4055, 'sb': 4056, 'christians': 4057, 'archive': 4058, 'ohh': 4059, 'nradio': 4060, 'carplay': 4061, '🚗': 4062, 'teeth': 4063, 'auction': 4064, 'river': 4065, 'monopoly': 4066, 'amounts': 4067, 'aggressive': 4068, 'editor': 4069, 'wifes': 4070, 'transact': 4071, 'wrap': 4072, 'mmmm': 4073, 'believable': 4074, 'tank': 4075, 're-sale': 4076, 'comforting': 4077, 'married': 4078, 'karachi': 4079, '🇵': 4080, '🏏': 4081, 'funded': 4082, 'radical': 4083, 'coz': 4084, 'christina': 4085, 'dowd': 4086, 'guilty': 4087, 'employ': 4088, 'payroll': 4089, 'scenes': 4090, '4am': 4091, 'finishing': 4092, 'sets': 4093, 'judging': 4094, 'blown': 4095, 'architecture': 4096, 'ruins': 4097, 'belle': 4098, 'excuses': 4099, 'botw': 4100, 'jessica': 4101, 'famous': 4102, 'fraud': 4103, 'propaganda': 4104, 'backfiring': 4105, 'winnebago': 4106, 'rv': 4107, 'contained': 4108, 'propane': 4109, 'microwave': 4110, 'cooker': 4111, 'longest': 4112, 'shines': 4113, 'shamed': 4114, '🇩': 4115, '🇪': 4116, 'library': 4117, 'architect': 4118, 'em': 4119, 'alts': 4120, 'matching': 4121, 'concerned': 4122, 'noon': 4123, 'lasting': 4124, 'senate': 4125, 'vault': 4126, 'altcoin': 4127, 'object': 4128, 'attractive': 4129, 'torn': 4130, 'acl': 4131, 'heck': 4132, 'promised': 4133, 'amd': 4134, 'punches': 4135, 'fa': 4136, 'clash': 4137, 'clever': 4138, 'contributed': 4139, 'document': 4140, 'regretful': 4141, 'louder': 4142, 'dean': 4143, 'fave': 4144, 'precious': 4145, 'portfolio': 4146, 'grouphttps': 4147, 'younger': 4148, 'trim': 4149, 'corporation': 4150, 'unattractive': 4151, 'odds.bet': 4152, 'aloe': 4153, 'vera': 4154, 'plant': 4155, 'medicinal': 4156, 'overcome': 4157, 'dodge': 4158, 'mt': 4159, 'galaxy': 4160, 'pun': 4161, 'outlook': 4162, 'slide': 4163, 'wales': 4164, 'mixologist': 4165, 'multiply': 4166, 'savings': 4167, 'errors': 4168, '🇱': 4169, 'hoped': 4170, 'designs': 4171, 'tommy': 4172, 'clicking': 4173, 'hardest': 4174, 'virtually': 4175, 'dancing': 4176, 'editing': 4177, 'upcoming': 4178, 'effect': 4179, 'counts': 4180, 'pad': 4181, 'peek': 4182, 'betinas': 4183, 'frida': 4184, 'limited-time': 4185, 'begun': 4186, 'abandon': 4187, 'affair': 4188, 'vid': 4189, 'consideration': 4190, 'monitor': 4191, '--->': 4192, 'sustainable': 4193, 'warfare': 4194, 'bigot': 4195, 'sprint': 4196, 'quicker': 4197, 'roberts': 4198, 'foe': 4199, 'district': 4200, 'shooters': 4201, 'stormy': 4202, 'skies': 4203, 'palm': 4204, 'investmentbitrace': 4205, 'usp-s': 4206, 'orion': 4207, 'like-go': 4208, 'friend-put': 4209, 'realer': 4210, 'ghost': 4211, 'dees': 4212, 'musing': 4213, 'fernando': 4214, 'clarify': 4215, 'traders': 4216, 'crowds': 4217, 'commercial': 4218, 'credible': 4219, 'joytoken': 4220, 'macdonald': 4221, 'asia-pacific': 4222, 'forum': 4223, 'engaged': 4224, 'bedtime': 4225, 'tomfoolery': 4226, 'advocate': 4227, 'manipulated': 4228, 'transparency': 4229, 'ratings': 4230, 'someday': 4231, 'idiot': 4232, 'framework': 4233, 'consensus': 4234, 'grains': 4235, 'lentils': 4236, '💃': 4237, '🧐': 4238, 'blocksafe': 4239, '😶': 4240, '😐': 4241, 'alexander': 4242, 'yakovenko': 4243, 'distinguish': 4244, 'omnitude': 4245, 'painter': 4246, 'learned': 4247, 'clutch': 4248, 'immigration': 4249, 'seoul': 4250, '️seoul': 4251, 'canal': 4252, 'unable': 4253, 'sing': 4254, 'ala': 4255, 'hillary': 4256, 'cmon': 4257, 'count': 4258, 'stan': 4259, 'horses': 4260, 'loyal': 4261, 'lottery': 4262, 'happiness': 4263, 'flop': 4264, 'bugatti': 4265, 'shenzhen': 4266, 'foundation': 4267, '26th': 4268, 'spicy': 4269, 'meal': 4270, 'progress': 4271, 'padding': 4272, 'racer': 4273, 'stretch': 4274, 'surprisingly': 4275, 'expo': 4276, 'arrive': 4277, 'capital': 4278, 'backyard': 4279, 'chosen': 4280, 'ops': 4281, 'hong': 4282, 'kong': 4283, 'chicken': 4284, 'eatcheapandhealthy': 4285, 'wwe': 4286, 'wheres': 4287, 'taxis': 4288, 'lights': 4289, 'indy': 4290, 'native': 4291, 'barcelona': 4292, 'proves': 4293, 'spill': 4294, 'visited': 4295, 'desk': 4296, 'determine': 4297, 'natural': 4298, 'distance': 4299, 'earphone': 4300, 'constituents': 4301, 'cross-border': 4302, 'tan': 4303, 'walks': 4304, 'ray': 4305, 'disc': 4306, 'cena': 4307, 'undertaker': 4308, 'happening': 4309, 'productive': 4310, 'votes': 4311, 'parts': 4312, 'punching': 4313, 'continuous': 4314, '💀': 4315, 'marines': 4316, 'construction': 4317, 'romance': 4318, 'regarding': 4319, 'dictate': 4320, 'yvonne': 4321, 'ridley': 4322, 'semitism': 4323, 'sparkling': 4324, 'referenced': 4325, 'congressman': 4326, 'mans': 4327, 'customs': 4328, 'traded': 4329, 'disregard': 4330, 'flu': 4331, 'alarm': 4332, '7am': 4333, 'wrist': 4334, 'controller': 4335, 'usb': 4336, 'robot': 4337, 'roseberry': 4338, 'cotbed': 4339, 'beginners': 4340, 'earning': 4341, 'pu': 4342, 'mornings': 4343, 'suffer': 4344, 'consider': 4345, 'emotional': 4346, 'greenbriar': 4347, 'cock': 4348, '1tb': 4349, 'thieves': 4350, '27th': 4351, 'ep': 4352, 'typical': 4353, 'boutique': 4354, 'increasing': 4355, 'whoever': 4356, 'pissing': 4357, '💜': 4358, 'clemson': 4359, 'offline': 4360, 'focused': 4361, '.   .': 4362, 'mutual': 4363, 'goals': 4364, 'thermo': 4365, 'fisher': 4366, 'scientific': 4367, 'twenty': 4368, 'fiction': 4369, 'afternoon': 4370, 'racial': 4371, 'increased': 4372, 'faster': 4373, 'scenario': 4374, 'watched': 4375, 'mat': 4376, 'cnnpolitics': 4377, 'DGDGDG/DG': 4378, 'DG-DG-': 4379, 'earlier': 4380, 'emerging': 4381, 'sylva': 4382, 'fischer': 4383, 'algorithms': 4384, 'olivier': 4385, 'forgues': 4386, 'versions': 4387, 'madhuri': 4388, 'reel': 4389, '😛': 4390, 'install': 4391, 'approaches': 4392, 'farmers': 4393, 'photographs': 4394, '500k': 4395, 'bend': 4396, 'solidarity': 4397, 'defiance': 4398, 'assassi': 4399, 'helpful': 4400, 'treehouse': 4401, 'monetary': 4402, 'achieve': 4403, 'tgif': 4404, 'freaky': 4405, '🍆': 4406, 'ncaa': 4407, 'uhd': 4408, 'freeview': 4409, 'awareness': 4410, 'lifes': 4411, 'puns': 4412, 'assigned': 4413, 'assist': 4414, 'cosmetics': 4415, 'prosperity': 4416, 'ultimate': 4417, 'worship': 4418, 'consistency': 4419, 'kb': 4420, 'declared': 4421, 'murdoch': 4422, 'robust': 4423, 'abou': 4424, 'challenges': 4425, 'ideal': 4426, 'suitable': 4427, 'fries': 4428, 'recipe': 4429, 'standings': 4430, 'exercising': 4431, 'preventing': 4432, 'emails': 4433, 'messages': 4434, 'dawn': 4435, 'thorne': 4436, 'teenager': 4437, 'meets': 4438, '🏀': 4439, '😨': 4440, 'brands': 4441, 'peru': 4442, 'debugging': 4443, 'pointless': 4444, 'freaking': 4445, 'futurism': 4446, 'diner': 4447, 'repair': 4448, 'cashier': 4449, 'stole': 4450, 'itd': 4451, 'trudeau': 4452, 'macron': 4453, 'demerit': 4454, 'fees': 4455, 'upto': 4456, 'pcs': 4457, 'nurse': 4458, 'choices': 4459, 'sole': 4460, 'amazingly': 4461, 'coherent': 4462, '💸': 4463, 'aim': 4464, 'vulnerability': 4465, 'participants': 4466, 'millie': 4467, 'copied': 4468, 'dak': 4469, 'freely': 4470, 'vests': 4471, 'miami': 4472, 'rely': 4473, 'bitmex': 4474, 'camelot': 4475, 'somehow': 4476, 'globally': 4477, 'prix': 4478, 'sebastian': 4479, 'conquer': 4480, 'animenewsnet': 4481, 'notes': 4482, 'serve': 4483, 'ironmith': 4484, 'trek': 4485, 'grocery': 4486, 'unanswered': 4487, 'crushed': 4488, 'toss': 4489, 'economy': 4490, 'influencers': 4491, 'honour': 4492, 'vaccination': 4493, 'fixy': 4494, 'kills': 4495, 'leaked': 4496, 'memo': 4497, 'knowledge': 4498, 'cube': 4499, 'lil': 4500, 'rite': 4501, 'fairness': 4502, 'harvested': 4503, 'decorated': 4504, 'tendency': 4505, 'watered': 4506, 'co-founder': 4507, 'pitching': 4508, 'tokenintelligence': 4509, 'aimed': 4510, 'workplace': 4511, 'sector': 4512, 'pills': 4513, 'have.loan': 4514, 'fighter': 4515, 'wedding': 4516, 'qualification': 4517, 'therefore': 4518, 'everytime': 4519, 'deer': 4520, 'matched': 4521, 'bros': 4522, 'kay': 4523, 'enhanced': 4524, 'lighting': 4525, 'thick': 4526, 'good-looking': 4527, 'reviews': 4528, 'lebron': 4529, 'thankfully': 4530, 'improved': 4531, 'accomplished': 4532, 'communist': 4533, 'beside': 4534, 'areas': 4535, 'hiphop': 4536, 'cheese': 4537, 'patriots': 4538, 'lent': 4539, 'pittsburgh': 4540, '2why': 4541, 'mattershttps': 4542, 't.co/5lptrr8tlb': 4543, 'developing': 4544, 'getaway': 4545, 'outer': 4546, 'reference': 4547, 'well-reputed': 4548, 'universities': 4549, 'cointelegraph': 4550, 'electronic': 4551, 'gameplay': 4552, 'prosecutor': 4553, 'slightly': 4554, 'tone': 4555, 'extended': 4556, 'foresee': 4557, 'cannabis': 4558, 'stumble': 4559, 'numb-minded': 4560, 'winston': 4561, 'histoire': 4562, 'tees': 4563, 'shirts': 4564, 'exam': 4565, 'load': 4566, 'instructions': 4567, 'domain': 4568, 'sugar': 4569, 'hentai': 4570, 'clip': 4571, 'casually': 4572, 'mud': 4573, 'whatsoever': 4574, 'natalie': 4575, 'awake': 4576, 'cane': 4577, 'lawn': 4578, 'honor': 4579, 'sessions': 4580, 'lesbian': 4581, 'reveal': 4582, 'alpha': 4583, 'i40': 4584, 'solutions': 4585, 'technical': 4586, 'sci': 4587, 'numeric': 4588, 'identify': 4589, 'recognize': 4590, 'geeks': 4591, 'hearthstone': 4592, 'warcraft': 4593, '10x': 4594, 'cardpack': 4595, 'roads': 4596, 'dune': 4597, 'developed': 4598, 'boxes': 4599, 'bff': 4600, 'peckish': 4601, 'whitelisted': 4602, 'jeff': 4603, 'flake': 4604, 'freebie': 4605, 'sim': 4606, 'organisations': 4607, 'qualified': 4608, 'candidates': 4609, 'unfortunately': 4610, 'represents': 4611, 'isis': 4612, 'materials': 4613, 'couples': 4614, 't.co/nd2isszilk': 4615, 'mrs': 4616, 'pr': 4617, 'et': 4618, 'tu': 4619, 'tumblr': 4620, 'blogging': 4621, 'shoving': 4622, '😔': 4623, 'dennis': 4624, 'deplorables': 4625, '🐕': 4626, 'dogland': 4627, 'teamed': 4628, 'dealing': 4629, 'definition': 4630, 'opposition': 4631, 'sscfeeling': 4632, 'like-आमची': 4633, 'कधी': 4634, 'होणार': 4635, 'knowing': 4636, 'whenever': 4637, 'brightest': 4638, 'colluding': 4639, 'retirement': 4640, 'marred': 4641, '. ...': 4642, 'closest': 4643, 'ministry': 4644, 'laundry': 4645, 'fur': 4646, 'chunky': 4647, 'bobble': 4648, 'indiana': 4649, 'deficits': 4650, 'successor': 4651, 'waited': 4652, 'min': 4653, 'llewyn': 4654, '1960s': 4655, 'vinyl': 4656, 'boyfriend': 4657, 'accepted': 4658, 'jealous': 4659, 'satisfy': 4660, 'everyones': 4661, 'wears': 4662, 'arms': 4663, 'yaar': 4664, 'carries': 4665, 'dicks': 4666, 'replaced': 4667, 'moe': 4668, 'ignorance': 4669, 'quickly': 4670, 'suggestion': 4671, 'sweater': 4672, 'breitling': 4673, 'introduces': 4674, 'navitimer': 4675, 'pee': 4676, 'puffed': 4677, 'cheeks': 4678, 'chutzpah': 4679, 'motivation': 4680, 'heritage': 4681, 'spelled': 4682, 'effectively': 4683, 'stronger': 4684, 'repurpose': 4685, 'creation': 4686, 'wondering': 4687, 'treatment': 4688, 'flashlight': 4689, 'rape': 4690, '😳': 4691, 'campus': 4692, 'invitation': 4693, 'confucius': 4694, 'hydro-quebec': 4695, 'cricketers': 4696, 'gates': 4697, 'ipads': 4698, 'breaks': 4699, 'perry': 4700, 'ellis': 4701, 'arrogance': 4702, 'mao': 4703, 'zedong': 4704, 'consigned': 4705, 'studies': 4706, 'whores': 4707, 'happily': 4708, 'sr': 4709, 'back-to-backs': 4710, 'tied': 4711, 'addiction': 4712, 'telangana': 4713, 'moon': 4714, 'darker': 4715, 'treated': 4716, 'shri': 4717, 'crony': 4718, 'fossil': 4719, 'cleaner': 4720, 'pics': 4721, 'minimum': 4722, 'jedi': 4723, 'milk': 4724, 'physician': 4725, 'mission': 4726, 'balloons': 4727, 'admin': 4728, 'obsession': 4729, 'awhile': 4730, 'presenting': 4731, 'bagel': 4732, 'donut': 4733, 'carbs': 4734, 'succeed': 4735, 'independence': 4736, 'dab': 4737, 'bluetooth': 4738, 'lifestyle': 4739, 'bans': 4740, 'kit': 4741, 'studio': 4742, 'neighborhoods': 4743, 'susceptible': 4744, 'techniques': 4745, 'yaaas': 4746, '💚': 4747, 'silent': 4748, '🎆': 4749, 'scala': 4750, 'denver': 4751, 'lion': 4752, 'campuses': 4753, 'lindsey': 4754, 'educators': 4755, 'prefer': 4756, 'abuse': 4757, 'images': 4758, 'skyfchain': 4759, '💞': 4760, 'parent': 4761, 'priced': 4762, 'fade': 4763, 'concerns': 4764, 'unhealthy': 4765, 'ecommerce': 4766, 'diversified': 4767, 'xiaomi': 4768, 'redmi': 4769, 'gearbest': 4770, 'expressing': 4771, 'DG/': 4772, 'writers': 4773, 'dey': 4774, 'methodist': 4775, 'liberty': 4776, 'tables': 4777, 'rotten': 4778, 'eggs': 4779, 'subliminal': 4780, 'apocalypse': 4781, 'summary': 4782, 'commerce': 4783, '✊': 4784, 'DGDG-DG': 4785, 'third-party': 4786, 'samples': 4787, 'categories': 4788, 'brag': 4789, 'cleared': 4790, 'remote': 4791, 'gt-r': 4792, 'flowers': 4793, '。': 4794, '∩': 4795, 'hacked': 4796, 'threw': 4797, '🤮': 4798, 'ost': 4799, 'quarter': 4800, 'comp': 4801, 'implement': 4802, 'gosh': 4803, 'spare': 4804, 'sincerely': 4805, 'reeeeeeeehhhhhhaaaaaaalllly': 4806, 'outdoors': 4807, '👾': 4808, 'mln': 4809, 'colorado': 4810, 'releases': 4811, 'assaulted': 4812, 'barrel': 4813, 'hdr': 4814, 'six': 4815, 'steam': 4816, 'bancroft': 4817, 'logan': 4818, 'ii': 4819, '9pm': 4820, 'eastern.https': 4821, 't.co/j9gpwrlevmlooking': 4822, 'youall.some': 4823, 'unattributed': 4824, 'unsubstantiated': 4825, 'unproven': 4826, 'unbiased': 4827, 'whistleblower': 4828, 'jill': 4829, 'percentage': 4830, 'moron': 4831, 'belong': 4832, 'connecting': 4833, 'expecting': 4834, 'lightroom': 4835, '😵': 4836, 'butter': 4837, 'cripple': 4838, 'erectile': 4839, 'dysfunction': 4840, 'alternate': 4841, 'geez': 4842, 'gbp': 4843, 'booking': 4844, 'toy': 4845, 'accused': 4846, 'renowned': 4847, 'landscape': 4848, 'photographer': 4849, 'coward': 4850, 'adds': 4851, 'peaceful': 4852, 'select': 4853, 'educational': 4854, 'harvard': 4855, 'basis': 4856, 'dining': 4857, 'degree': 4858, 'terror': 4859, 'closely': 4860, 'asks': 4861, 'kindle': 4862, 'tories': 4863, 'woo': 4864, 'heh': 4865, 'recon': 4866, 'v-buc': 4867, 'sahil': 4868, 'shah': 4869, 'laughter': 4870, 'journalists': 4871, 'household': 4872, 'algeria': 4873, 'ms': 4874, 'ria': 4875, 'chua': 4876, 'harvesting': 4877, 'manufacturing': 4878, 'requestsyour': 4879, 'connectedhttps': 4880, 't.co/gulmsgzzn7white': 4881, '✴': 4882, 'facing': 4883, 'bruce': 4884, 'messed': 4885, 'lineup': 4886, 'tyler': 4887, 'disabilities': 4888, 'strength': 4889, 'deck': 4890, 'comply': 4891, 'politicize': 4892, '¡': 4893, 'employees': 4894, 'engineers': 4895, 'whew': 4896, 'iconic': 4897, 'mommy': 4898, 'remix': 4899, 'transaction': 4900, 'texas': 4901, 'greek': 4902, 'toilet': 4903, 'cheer': 4904, 'repux': 4905, 'attachment': 4906, 'hamhuis': 4907, 'honka': 4908, 'designing': 4909, 'targets': 4910, 'dental': 4911, 'volunteers': 4912, 'produced': 4913, 'animation': 4914, 'suggest': 4915, 'caveat': 4916, 'excercise': 4917, 'strange': 4918, 'soldier': 4919, 'draft': 4920, '🤪': 4921, 'hook': 4922, 'slams': 4923, 'dramatic': 4924, 'lc': 4925, 'um': 4926, 'rough': 4927, 'topics': 4928, 'shepherd': 4929, 'salt': 4930, 'reservation': 4931, 'pre-ico': 4932, 'kennedy': 4933, 'refuses': 4934, 'marijuana': 4935, 'scalability': 4936, 'capable': 4937, 'al': 4938, 'misinformation': 4939, 'deliver': 4940, 'ammo': 4941, '😤': 4942, '⊙': 4943, 'fantasy': 4944, 'unlimited': 4945, 'visits': 4946, 'toolbox': 4947, 'wildlife': 4948, 'council': 4949, 'adventure': 4950, 'intimidate': 4951, 'neutral': 4952, '🇨': 4953, '🇦': 4954, 'w1': 4955, 'ipu': 4956, 'zipper': 4957, 'halter': 4958, 'leakage': 4959, 'coupon': 4960, 'wscodtv': 4961, 'fairly': 4962, 'doc': 4963, 'squat': 4964, 'db': 4965, '☠': 4966, 'implementation': 4967, 'blk': 4968, 'pathetic': 4969, 'poc': 4970, '_': 4971, 'mob': 4972, '📋': 4973, 'significant': 4974, 'issued': 4975, 'allowing': 4976, 'totes': 4977, 'responsibility': 4978, 'sources': 4979, 'harding': 4980, 'tropical': 4981, '⏩': 4982, '⏪': 4983, 'regulations': 4984, 'convenient': 4985, 'abandoned': 4986, 'phase': 4987, 'thailand': 4988, 'fck': 4989, 'fcking': 4990, 'fckers': 4991, 'misuse': 4992, 'sucking': 4993, 'chest': 4994, 'hue': 4995, '05btc': 4996, 'trezor': 4997, 'giveaway.follow': 4998, 'publicly': 4999}\n",
      "[10, 71, 67, 8, 12, 74, 54, 24, 3, 3, 75, 22, 3, 77, 70, 3, 16, 76, 72, 49, 13]\n"
     ]
    }
   ],
   "source": [
    "vocab = vocabulary.Vocabulary(utils.flatten(train_sentences),5000)\n",
    "x_ids = vocab.words_to_ids(train_sentences[0])\n",
    "print(\"x_ids =\", vocab.word_to_id)\n",
    "print(x_ids)"
   ]
  },
  {
   "cell_type": "code",
   "execution_count": 7,
   "metadata": {},
   "outputs": [
    {
     "name": "stdout",
     "output_type": "stream",
     "text": [
      "[[10, 71, 67, 8, 12, 74, 54, 24, 3, 3, 75, 22, 3, 77, 70, 3, 16, 76, 72, 49, 13], [10, 3590, 15, 2, 902, 329, 156, 311, 529, 3591, 2760, 5, 3, 3, 3, 80, 588, 13], [10, 3592, 306, 7, 2252, 732, 9, 29, 26, 48, 117, 21, 2, 396, 396, 396, 366, 47, 3, 3, 3, 3, 80, 5], [10, 903, 169, 2253, 194, 19, 2254, 53, 1910, 21, 7, 125, 6, 837, 342, 8, 330, 703, 11, 377, 165, 3593, 11, 3], [2761, 2255, 628, 3, 335, 230, 1317, 12, 784, 11, 5, 3, 3, 3, 66, 8, 733, 12, 107, 2762, 356, 21, 978, 38, 529, 3], [979, 14, 7, 125, 2763, 2764, 3, 3, 3, 3, 3, 3, 5], [20, 557, 91, 7, 238, 785, 36, 170, 8, 32, 19, 3, 3], [10, 3, 3594, 343, 3, 63, 3595, 3, 5, 5], [10, 665, 3, 2256, 38, 629, 3596, 2, 6, 3596, 16, 12, 2765, 3597, 15, 3, 2, 18, 3, 9, 629, 14, 3, 13], [10, 2, 8, 56, 7, 3, 16, 980, 9, 213, 630, 357, 3598, 83, 46, 1318, 289, 1641, 25, 256, 15, 122, 2, 7, 2, 13], [5, 13, 13, 13, 13, 13, 13, 13, 13, 13, 13, 13, 13, 13, 13, 13, 13, 13, 13, 13, 13, 13, 350, 631, 12, 104, 45, 838, 42, 786, 4, 14, 1191, 3, 3, 3, 3, 3, 3, 3, 3, 3, 3, 3, 3, 3, 3, 3], [10, 25, 35, 134, 8, 92, 464, 9, 43, 20, 981, 8, 2257, 12, 3, 21, 40, 14, 35, 464, 11, 5], [10, 111, 140, 12, 267, 19, 22, 214, 262, 233, 281, 307, 177, 207, 116, 225, 293, 44, 282, 88, 208, 25, 88, 312, 13], [226, 2766, 904, 510, 88, 704, 2767, 88, 2768, 905, 30, 88, 982, 5], [4, 4, 123, 2, 11, 123, 1192, 46, 11, 11], [10, 2258, 3, 38, 88, 1642, 148, 3599, 61, 1193, 39, 3, 2259, 46, 12, 491, 204, 3600, 7, 983, 3, 13], [226, 11, 169, 2769, 2, 178, 2, 8, 32, 124, 3], [4, 140, 20, 112, 105, 632, 11, 3601, 257, 14, 28, 6, 20, 109, 239, 3602, 7, 437, 43, 28, 65, 367, 839, 29, 6, 20, 109, 69, 20, 840, 89, 7, 2, 30, 35, 2, 906, 39, 34, 1194, 3603, 60, 6, 3], [10, 3, 3, 3, 3, 3, 3, 294, 3, 407, 3, 2260, 78, 2, 13], [149, 3, 159, 23, 34, 397, 159, 3, 159, 3, 3, 24, 5, 5]]\n"
     ]
    }
   ],
   "source": [
    "list_of_train_ids = list(map(vocab.words_to_ids, train_sentences))\n",
    "print(list_of_train_ids[0:20])\n",
    "\n",
    "\n",
    "list_of_validation_ids = list(map(vocab.words_to_ids, validation_sentences))\n",
    "\n",
    "list_of_test_ids = list(map(vocab.words_to_ids, test_sentences))\n"
   ]
  },
  {
   "cell_type": "code",
   "execution_count": 8,
   "metadata": {},
   "outputs": [
    {
     "data": {
      "text/plain": [
       "Counter({10: 1,\n",
       "         71: 1,\n",
       "         67: 1,\n",
       "         8: 1,\n",
       "         12: 1,\n",
       "         74: 1,\n",
       "         54: 1,\n",
       "         24: 1,\n",
       "         3: 4,\n",
       "         75: 1,\n",
       "         22: 1,\n",
       "         77: 1,\n",
       "         70: 1,\n",
       "         16: 1,\n",
       "         76: 1,\n",
       "         72: 1,\n",
       "         49: 1,\n",
       "         13: 1})"
      ]
     },
     "execution_count": 8,
     "metadata": {},
     "output_type": "execute_result"
    }
   ],
   "source": [
    "collections.Counter(list_of_train_ids[0])"
   ]
  },
  {
   "cell_type": "code",
   "execution_count": 9,
   "metadata": {},
   "outputs": [],
   "source": [
    "from scipy.sparse import csr_matrix \n",
    "def sparsify_data(list_of_ids):\n",
    "    row_indices = []\n",
    "    col_indices = []\n",
    "    values = []\n",
    "    rows = len(list_of_ids)\n",
    "\n",
    "    for row, x_ids in enumerate(list_of_ids):\n",
    "        x_fdict = collections.Counter(x_ids)\n",
    "        for wordid, count in x_fdict.items():\n",
    "            row_indices.append(row)       \n",
    "            col_indices.append(wordid)  # column is word id\n",
    "            values.append(count)        # value is count\n",
    "    x_sparse = csr_matrix((values, (row_indices, col_indices)),\n",
    "                              shape=[rows, vocab.size])\n",
    "    return x_sparse"
   ]
  },
  {
   "cell_type": "code",
   "execution_count": 10,
   "metadata": {},
   "outputs": [],
   "source": [
    "x_train_sparse = sparsify_data(list_of_train_ids)\n",
    "x_validation_sparse = sparsify_data(list_of_validation_ids)\n",
    "x_test_sparse = sparsify_data(list_of_test_ids)\n"
   ]
  },
  {
   "cell_type": "code",
   "execution_count": 11,
   "metadata": {},
   "outputs": [
    {
     "name": "stdout",
     "output_type": "stream",
     "text": [
      " acc: 86.03%, recall: 87.76%, precision: 84.63%, f1: 86.17%,\n"
     ]
    }
   ],
   "source": [
    "from sklearn.naive_bayes import MultinomialNB\n",
    "from sklearn.metrics import f1_score, accuracy_score, recall_score, precision_score\n",
    "\n",
    "nb = MultinomialNB(alpha =  1)\n",
    "nb.fit(x_train_sparse, train_labels)\n",
    "y_pred = nb.predict(x_test_sparse)\n",
    "\n",
    "\n",
    "\n",
    "\n",
    "\n",
    "f1 = f1_score(test_labels, y_pred)\n",
    "acc = accuracy_score(test_labels, y_pred)\n",
    "recall = recall_score(test_labels, y_pred)\n",
    "precision = precision_score(test_labels, y_pred)\n",
    "print(\" acc: {:.02%}, recall: {:.02%}, precision: {:.02%}, f1: {:.02%},\".format(acc, recall, precision, f1))\n"
   ]
  },
  {
   "cell_type": "code",
   "execution_count": 12,
   "metadata": {},
   "outputs": [],
   "source": [
    "linear_weights = nb.feature_log_prob_[1,:] - nb.feature_log_prob_[0,:]  # populate this with actual values\n",
    "\n",
    "top_negative_features = np.argsort(linear_weights)[0:40]\n",
    "top_positive_features = np.argsort(-linear_weights)[0:40]\n"
   ]
  },
  {
   "cell_type": "code",
   "execution_count": 13,
   "metadata": {},
   "outputs": [
    {
     "name": "stdout",
     "output_type": "stream",
     "text": [
      "Most negative features:\n",
      "  🔥 (-5.02)\n",
      "  ↴ (-4.66)\n",
      "  ⭐ (-4.46)\n",
      "  🕰 (-4.15)\n",
      "  🎮 (-4.10)\n",
      "  💎 (-4.07)\n",
      "  🖥 (-4.05)\n",
      "  registration (-4.01)\n",
      "  cams (-3.98)\n",
      "  tokkens (-3.98)\n",
      "  giveaway (-3.94)\n",
      "  token (-3.92)\n",
      "  airdrop (-3.87)\n",
      "  blockchain (-3.81)\n",
      "  crypto (-3.71)\n",
      "  rt (-3.68)\n",
      "  enter (-3.65)\n",
      "  telegram (-3.65)\n",
      "  es (-3.65)\n",
      "  summer (-3.51)\n",
      "  ico (-3.48)\n",
      "  latest (-3.46)\n",
      "  📢 (-3.41)\n",
      "  bitcoin (-3.30)\n",
      "  camp (-3.26)\n",
      "  ✔ (-3.18)\n",
      "  digital (-3.13)\n",
      "  easter (-3.13)\n",
      "  international (-3.13)\n",
      "  🚀 (-3.13)\n",
      "  coin (-3.09)\n",
      "  recommend (-2.99)\n",
      "  ➡ (-2.99)\n",
      "  DGDGDGDGDG (-2.95)\n",
      "  💰 (-2.93)\n",
      "  tokens (-2.88)\n",
      "  technology (-2.88)\n",
      "  usd (-2.82)\n",
      "  fee (-2.82)\n",
      "  DGDG:DGDG (-2.82)\n",
      "\n",
      "Most positive features:\n",
      "  straight (5.47)\n",
      "  nicer (5.46)\n",
      "  ex (5.46)\n",
      "  couldnt (4.77)\n",
      "  walking (4.76)\n",
      "  agent (4.76)\n",
      "  believes (4.08)\n",
      "  sarcasm (3.95)\n",
      "  happen (3.89)\n",
      "  surprise (3.87)\n",
      "  marr (3.72)\n",
      "  previ (3.69)\n",
      "  oh (3.57)\n",
      "  guy (3.53)\n",
      "  form (3.39)\n",
      "  lol (3.15)\n",
      "  🤣 (3.13)\n",
      "  wonder (3.00)\n",
      "  quotes (3.00)\n",
      "  shot (3.00)\n",
      "  redbubble (3.00)\n",
      "  😒 (2.95)\n",
      "  ice (2.90)\n",
      "  yay (2.85)\n",
      "  sense (2.85)\n",
      "  blew (2.79)\n",
      "  gb (2.79)\n",
      "  face (2.79)\n",
      "  clearly (2.73)\n",
      "  nudes (2.73)\n",
      "  dare (2.73)\n",
      "  bullpen (2.73)\n",
      "  😂 (2.72)\n",
      "  seems (2.70)\n",
      "  assault (2.66)\n",
      "  photoshopped (2.66)\n",
      "  davis (2.64)\n",
      "  hilarious (2.63)\n",
      "  🤦 (2.60)\n",
      "  lowest (2.60)\n"
     ]
    }
   ],
   "source": [
    "print(\"Most negative features:\")\n",
    "for idx in top_negative_features:\n",
    "    print(\"  {:s} ({:.02f})\".format(vocab.id_to_word[idx], \n",
    "                                    linear_weights[idx]))\n",
    "print(\"\")\n",
    "print(\"Most positive features:\")\n",
    "for idx in top_positive_features:\n",
    "    print(\"  {:s} ({:.02f})\".format(vocab.id_to_word[idx], \n",
    "                                    linear_weights[idx]))\n",
    "    \n"
   ]
  },
  {
   "cell_type": "code",
   "execution_count": 15,
   "metadata": {},
   "outputs": [
    {
     "data": {
      "text/plain": [
       "[[22.70006569341828, 428],\n",
       " [19.564028840343752, 122],\n",
       " [18.048814645709825, 21],\n",
       " [17.510263915035495, 499],\n",
       " [16.900739704183337, 526],\n",
       " [15.70761812813572, 342],\n",
       " [15.584446969080659, 500],\n",
       " [13.511992504467003, 847],\n",
       " [12.956582996787688, 775],\n",
       " [12.724207000969841, 409],\n",
       " [12.597961983997862, 270],\n",
       " [12.597961983997862, 290],\n",
       " [10.731889664929355, 621],\n",
       " [10.543382212552615, 208],\n",
       " [10.222899746232514, 540],\n",
       " [9.89247035344846, 410],\n",
       " [9.693345075147874, 740],\n",
       " [9.130467889193596, 84],\n",
       " [9.121308255760539, 406],\n",
       " [9.01526761908002, 115],\n",
       " [8.82174158082097, 493],\n",
       " [8.649694846695468, 858],\n",
       " [8.52122600786521, 314],\n",
       " [8.025289090692695, 585],\n",
       " [7.844676863377003, 271],\n",
       " [7.64884239726112, 395],\n",
       " [7.204270810442068, 53],\n",
       " [7.168279033758523, 466],\n",
       " [7.008576351425376, 19],\n",
       " [6.715659779246522, 450],\n",
       " [6.697963007788815, 281],\n",
       " [6.227488044758104, 640],\n",
       " [5.893576233481241, 855],\n",
       " [5.867050593290806, 473],\n",
       " [5.24556521507472, 678],\n",
       " [5.211127145052444, 176],\n",
       " [5.156631631854452, 413],\n",
       " [5.150346064439958, 423],\n",
       " [5.0404025388299445, 652],\n",
       " [4.87398166557, 582],\n",
       " [4.86623749263444, 22],\n",
       " [4.850656880917342, 708],\n",
       " [4.520445777895269, 1],\n",
       " [4.48781503552604, 486],\n",
       " [4.39394018887009, 378],\n",
       " [4.159109065842756, 331],\n",
       " [4.00937281908304, 675],\n",
       " [3.959827261892883, 715],\n",
       " [3.8146347745130456, 697],\n",
       " [3.7706141977338348, 823],\n",
       " [3.5970653927618343, 219],\n",
       " [3.515566147431713, 655],\n",
       " [3.494814509827819, 459],\n",
       " [3.366680527943828, 100],\n",
       " [3.3657421358283273, 278],\n",
       " [3.2829967521810204, 101],\n",
       " [3.2493427142335634, 367],\n",
       " [3.120651225965098, 80],\n",
       " [2.957271126119565, 844],\n",
       " [2.947829441260808, 280],\n",
       " [2.8394922362169552, 645],\n",
       " [2.824675665463019, 190],\n",
       " [2.824675665463019, 376],\n",
       " [2.6704416070555794, 300],\n",
       " [2.6048582846803185, 265],\n",
       " [2.554459579257923, 470],\n",
       " [2.5246390387728965, 343],\n",
       " [2.4262540363661174, 34],\n",
       " [2.425686835547289, 259],\n",
       " [2.425686835547289, 293],\n",
       " [2.425686835547289, 471],\n",
       " [2.4246734819426763, 422],\n",
       " [2.380760735837157, 98],\n",
       " [2.3190233090955985, 693],\n",
       " [2.239996465860372, 562],\n",
       " [2.174410367413202, 700],\n",
       " [2.1206360242095457, 673],\n",
       " [2.003112452322938, 758],\n",
       " [1.9377400990158549, 667],\n",
       " [1.84624278905099, 648],\n",
       " [1.7733403737298374, 81],\n",
       " [1.7371469101851744, 616],\n",
       " [1.7303028063879253, 517],\n",
       " [1.6479604814589912, 636],\n",
       " [1.6177263906346582, 657],\n",
       " [1.5374959528277543, 574],\n",
       " [1.523871292895734, 16],\n",
       " [1.4922172331677288, 547],\n",
       " [1.4861694413650923, 802],\n",
       " [1.38140865469137, 242],\n",
       " [1.3471176602309214, 258],\n",
       " [1.3234919911311636, 421],\n",
       " [1.1922075485983612, 756],\n",
       " [1.1621868251813794, 119],\n",
       " [1.1450201019060273, 352],\n",
       " [1.1290287580341456, 288],\n",
       " [1.0155568637474062, 737],\n",
       " [1.0048750896020735, 11],\n",
       " [0.968477092409131, 532],\n",
       " [0.8773972188760979, 659],\n",
       " [0.854082131750026, 78],\n",
       " [0.834584927924034, 630],\n",
       " [0.799056598329031, 835],\n",
       " [0.6990027465815842, 360],\n",
       " [0.6477776457922744, 579],\n",
       " [0.5691352870119673, 419],\n",
       " [0.5662311876784543, 541],\n",
       " [0.5421984464844272, 71],\n",
       " [0.5329288737839164, 165],\n",
       " [0.5019817309667616, 432],\n",
       " [0.4751482108063101, 355],\n",
       " [0.4655372866425864, 448],\n",
       " [0.4611067467760961, 402],\n",
       " [0.45787237171478523, 605],\n",
       " [0.44538559840887615, 370],\n",
       " [0.4116580968882886, 252],\n",
       " [0.3189969560939119, 231],\n",
       " [0.2398549204797007, 528],\n",
       " [0.19009188791673637, 65],\n",
       " [0.14969153669321145, 696],\n",
       " [0.038925232300556445, 519],\n",
       " [0.028378327712829332, 487]]"
      ]
     },
     "execution_count": 15,
     "metadata": {},
     "output_type": "execute_result"
    }
   ],
   "source": [
    "predictions = nb.predict(x_test_sparse)\n",
    "wrong = predictions != test_labels\n",
    "logits = nb.predict_log_proba(x_test_sparse)\n",
    "\n",
    "def incorrect_confidence(wrong, logits, predictions):\n",
    "    indeces = np.where(wrong)\n",
    "    wrong_predictions = predictions[indeces]\n",
    "    wrong_logits = logits[indeces]\n",
    "    \n",
    "    return [[wrong_logits[i][value] - wrong_logits[i][1-value], indeces[0][i]] for i, value in enumerate(wrong_predictions)]\n",
    "\n",
    "sorted(incorrect_confidence(wrong, logits, predictions), key = lambda logit: -logit[0])\n",
    "\n",
    "\n",
    "\n",
    "#[a] -  nb.predict_log_proba(x_test_sparse)[wrong][1-a]"
   ]
  },
  {
   "cell_type": "code",
   "execution_count": 16,
   "metadata": {},
   "outputs": [
    {
     "name": "stdout",
     "output_type": "stream",
     "text": [
      "['hangover' '!' '🍺' 'HASHTAG' 'HASHTAG' 'HASHTAG' 'HASHTAG' 'HASHTAG'\n",
      " 'HASHTAG' 'HASHTAG' 'HASHTAG' 'HASHTAG' 'HASHTAG' 'HASHTAG' 'HASHTAG'\n",
      " 'HASHTAG' 'HASHTAG' 'HASHTAG' 'HASHTAG' 'HASHTAG' 'HASHTAG' 'HASHTAG'\n",
      " 'HASHTAG' 'HASHTAG' 'HASHTAG' 'HASHTAG' 'HASHTAG' 'HASHTAG' 'HASHTAG'\n",
      " 'HASHTAG' 'HASHTAG' 'HASHTAG' 'HASHTAG' 'HASHTAG' 'HASHTAG' '💋' 'LINK']\n",
      "1\n",
      "0\n"
     ]
    }
   ],
   "source": [
    "index = 428\n",
    "print(test_sentences[index])\n",
    "print(test_labels[index])\n",
    "print(predictions[index])"
   ]
  },
  {
   "cell_type": "code",
   "execution_count": 17,
   "metadata": {},
   "outputs": [
    {
     "name": "stdout",
     "output_type": "stream",
     "text": [
      "['this' 'one' 'enter' 'gan' '!' '!' '!' '-' '-' '-' 'follow' 'ACCOUNT' '-'\n",
      " '-' 'HASHTAG' 'HASHTAG' 'HASHTAG' 'HASHTAG' 'HASHTAG' 'HASHTAG' 'HASHTAG'\n",
      " 'HASHTAG' 'HASHTAG' 'HASHTAG' 'HASHTAG' 'HASHTAG' 'HASHTAG' 'HASHTAG'\n",
      " 'HASHTAG' 'HASHTAG' 'HASHTAG' 'HASHTAG' 'HASHTAG' 'HASHTAG' 'HASHTAG'\n",
      " 'LINK']\n",
      "1\n",
      "0\n"
     ]
    }
   ],
   "source": [
    "index = 122\n",
    "print(test_sentences[index])\n",
    "print(test_labels[index])\n",
    "print(predictions[index])"
   ]
  },
  {
   "cell_type": "code",
   "execution_count": 18,
   "metadata": {},
   "outputs": [
    {
     "name": "stdout",
     "output_type": "stream",
     "text": [
      "['LINK' '…' '…' '…' '…' '…' '…' '…' '…' '…' '…' '…' '…' '…' '…' '…' '…'\n",
      " '…' '…' 'once' 'upon' 'a' 'time' '(' 'spin' ')' 'featuring' 'ACCOUNT'\n",
      " 'of' 'd12' 'HASHTAG' 'HASHTAG' 'HASHTAG' 'HASHTAG' 'HASHTAG' 'HASHTAG'\n",
      " 'HASHTAG' 'HASHTAG' 'HASHTAG' 'HASHTAG' 'HASHTAG' 'HASHTAG' 'HASHTAG'\n",
      " 'HASHTAG' '#' 'hiphop' 'HASHTAG']\n",
      "1\n",
      "0\n"
     ]
    }
   ],
   "source": [
    "index =21\n",
    "print(test_sentences[index])\n",
    "print(test_labels[index])\n",
    "print(predictions[index])"
   ]
  },
  {
   "cell_type": "code",
   "execution_count": 19,
   "metadata": {},
   "outputs": [
    {
     "name": "stdout",
     "output_type": "stream",
     "text": [
      "['meme' 'war' '!' 'a' 'massive' 'collection' '.' 'LINK' 'HASHTAG'\n",
      " 'HASHTAG' 'HASHTAG' 'HASHTAG' 'HASHTAG' 'HASHTAG' 'HASHTAG' 'HASHTAG'\n",
      " 'HASHTAG' 'HASHTAG' 'HASHTAG' 'HASHTAG' 'HASHTAG' 'HASHTAG' 'HASHTAG'\n",
      " 'HASHTAG' 'HASHTAG' 'HASHTAG' 'HASHTAG' 'HASHTAG' 'HASHTAG']\n",
      "1\n",
      "0\n"
     ]
    }
   ],
   "source": [
    "index = 270\n",
    "print(test_sentences[index])\n",
    "print(test_labels[index])\n",
    "print(predictions[index])"
   ]
  },
  {
   "cell_type": "code",
   "execution_count": 20,
   "metadata": {},
   "outputs": [
    {
     "name": "stdout",
     "output_type": "stream",
     "text": [
      "['wide' 'awake' 'for' 'once' 'HASHTAG' 'HASHTAG' 'HASHTAG' 'HASHTAG'\n",
      " 'HASHTAG' 'HASHTAG' 'HASHTAG' 'HASHTAG' 'HASHTAG' 'HASHTAG' 'HASHTAG'\n",
      " 'HASHTAG' 'HASHTAG' ':/' '/' 't.co/fuubiehpxu']\n",
      "1\n",
      "0\n"
     ]
    }
   ],
   "source": [
    "index = 208\n",
    "print(test_sentences[index])\n",
    "print(test_labels[index])\n",
    "print(predictions[index])"
   ]
  },
  {
   "cell_type": "code",
   "execution_count": null,
   "metadata": {
    "collapsed": true
   },
   "outputs": [],
   "source": [
    "# No hashtag model has a big problem when a message is made up of many hashtags"
   ]
  }
 ],
 "metadata": {
  "kernelspec": {
   "display_name": "Python 3",
   "language": "python",
   "name": "python3"
  },
  "language_info": {
   "codemirror_mode": {
    "name": "ipython",
    "version": 3
   },
   "file_extension": ".py",
   "mimetype": "text/x-python",
   "name": "python",
   "nbconvert_exporter": "python",
   "pygments_lexer": "ipython3",
   "version": "3.8.3"
  }
 },
 "nbformat": 4,
 "nbformat_minor": 2
}
